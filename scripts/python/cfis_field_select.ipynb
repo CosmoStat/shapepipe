{
 "cells": [
  {
   "cell_type": "markdown",
   "metadata": {},
   "source": [
    "# CFIS field selection"
   ]
  },
  {
   "cell_type": "markdown",
   "metadata": {},
   "source": [
    "## Number search: Return image number for given coordinates"
   ]
  },
  {
   "cell_type": "markdown",
   "metadata": {},
   "source": [
    "The coordinates is a white-space or '_'-separated string, the format is astropy.coordinates.Angle"
   ]
  },
  {
   "cell_type": "code",
   "execution_count": 1,
   "metadata": {},
   "outputs": [
    {
     "name": "stderr",
     "output_type": "stream",
     "text": [
      "/Users/mkilbing/ShapePipe/scripts/python/cfis_field_select.py -i /Users/mkilbing/astro/data/CFIS/tiles/ls_20171206.txt -b r -t tiles -v -m n --coord 10:44:00.0hours_30:00:00degrees \n"
     ]
    },
    {
     "name": "stdout",
     "output_type": "stream",
     "text": [
      "Start program cfis_field_select.py\n",
      "3447 image files found in input file '/Users/mkilbing/astro/data/CFIS/tiles/ls_20171206.txt'\n",
      "Looking for image at coordinates 10.733333333333333 hourangle, 30.0 deg\n",
      "# name\n",
      "CFIS.279.240.r.fits\n",
      "Finish program cfis_field_select.py\n"
     ]
    }
   ],
   "source": [
    "%run ~/ShapePipe/scripts/python/cfis_field_select.py -i ~/astro/data/CFIS/tiles/ls_20171206.txt \\\n",
    "    -b r -t tiles -v -m n --coord 10:44:00.0hours_30:00:00degrees"
   ]
  },
  {
   "cell_type": "markdown",
   "metadata": {},
   "source": [
    "## Coordinate search: Return image coordinate for given image number"
   ]
  },
  {
   "cell_type": "code",
   "execution_count": 2,
   "metadata": {},
   "outputs": [
    {
     "name": "stdout",
     "output_type": "stream",
     "text": [
      "Start program cfis_field_select.py\n",
      "3447 image files found in input file '/Users/mkilbing/astro/data/CFIS/tiles/ls_20171206.txt'\n",
      "Looking for coordinates for tile with numbers (243,293)\n",
      "# ra[degree] dec[degree]\n",
      "220.13382547883694 56.5\n",
      "Finish program cfis_field_select.py\n"
     ]
    },
    {
     "name": "stderr",
     "output_type": "stream",
     "text": [
      "/Users/mkilbing/ShapePipe/scripts/python/cfis_field_select.py -i /Users/mkilbing/astro/data/CFIS/tiles/ls_20171206.txt -b r -t tiles -v -m c --number 243_293 \n"
     ]
    }
   ],
   "source": [
    "%run ~/ShapePipe/scripts/python/cfis_field_select.py -i ~/astro/data/CFIS/tiles/ls_20171206.txt \\\n",
    "    -b r -t tiles -v -m c --number 243_293"
   ]
  },
  {
   "cell_type": "markdown",
   "metadata": {},
   "source": [
    "## Area search: Return images within area"
   ]
  },
  {
   "cell_type": "code",
   "execution_count": 3,
   "metadata": {
    "collapsed": true
   },
   "outputs": [],
   "source": [
    "%matplotlib inline"
   ]
  },
  {
   "cell_type": "code",
   "execution_count": 4,
   "metadata": {
    "scrolled": true
   },
   "outputs": [
    {
     "name": "stderr",
     "output_type": "stream",
     "text": [
      "/Users/mkilbing/ShapePipe/scripts/python/cfis_field_select.py -i /Users/mkilbing/astro/data/CFIS/tiles/ls_20171206.txt -b r -t tiles -v -m a --area 193deg_47deg_238deg_63deg -o area_W3X --plot --interactive \n"
     ]
    },
    {
     "name": "stdout",
     "output_type": "stream",
     "text": [
      "Start program cfis_field_select.py\n",
      "3447 image files found in input file '/Users/mkilbing/astro/data/CFIS/tiles/ls_20171206.txt'\n",
      "Looking for all images within coordinates  [<SkyCoord (ICRS): (ra, dec) in deg\n",
      "    ( 193.,  47.)>, <SkyCoord (ICRS): (ra, dec) in deg\n",
      "    ( 238.,  63.)>]\n",
      "950 images found in area\n",
      "Creating plots\n",
      "Saving plot to area_W3X.pdf\n"
     ]
    },
    {
     "data": {
      "image/png": "[encoded data removed]",
      "text/plain": [
       "<matplotlib.figure.Figure at 0x112900a20>"
      ]
     },
     "metadata": {},
     "output_type": "display_data"
    },
    {
     "name": "stdout",
     "output_type": "stream",
     "text": [
      "Finish program cfis_field_select.py\n"
     ]
    }
   ],
   "source": [
    "%run ~/ShapePipe/scripts/python/cfis_field_select.py -i ~/astro/data/CFIS/tiles/ls_20171206.txt \\\n",
    "    -b r -t tiles -v -m a --area 193deg_47deg_238deg_63deg -o area_W3X --plot --interactive"
   ]
  },
  {
   "cell_type": "code",
   "execution_count": 13,
   "metadata": {},
   "outputs": [
    {
     "ename": "SyntaxError",
     "evalue": "invalid syntax (<ipython-input-13-b0ae7c432dc0>, line 1)",
     "output_type": "error",
     "traceback": [
      "\u001b[0;36m  File \u001b[0;32m\"<ipython-input-13-b0ae7c432dc0>\"\u001b[0;36m, line \u001b[0;32m1\u001b[0m\n\u001b[0;31m    Users(/mkilbing/ShapePipe/scripts/python/cfis_field_select.py, -i, /Users/mkilbing/astro/data/CFIS/tiles/ls_20171206.txt, -b, r, -t, tiles, -v, -m, a, --area, 135deg_42deg_170deg_55deg, -o, area_UMa, --plot, --interactive)\u001b[0m\n\u001b[0m          ^\u001b[0m\n\u001b[0;31mSyntaxError\u001b[0m\u001b[0;31m:\u001b[0m invalid syntax\n"
     ]
    }
   ],
   "source": [
    "/Users/mkilbing/ShapePipe/scripts/python/cfis_field_select.py \\\n",
    "     -i /Users/mkilbing/astro/data/CFIS/tiles/ls_20171206.txt -b r -t tiles \\\n",
    "     -v -m a --area 135deg_42deg_170deg_55deg  -o area_UMa --plot --interactive "
   ]
  },
  {
   "cell_type": "code",
   "execution_count": null,
   "metadata": {
    "collapsed": true
   },
   "outputs": [],
   "source": []
  }
 ],
 "metadata": {
  "kernelspec": {
   "display_name": "Python 3",
   "language": "python",
   "name": "python3"
  },
  "language_info": {
   "codemirror_mode": {
    "name": "ipython",
    "version": 3
   },
   "file_extension": ".py",
   "mimetype": "text/x-python",
   "name": "python",
   "nbconvert_exporter": "python",
   "pygments_lexer": "ipython3",
   "version": "3.6.3"
  }
 },
 "nbformat": 4,
 "nbformat_minor": 2
}
