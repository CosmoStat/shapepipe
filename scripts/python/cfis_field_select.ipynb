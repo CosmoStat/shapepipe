{
 "cells": [
  {
   "cell_type": "markdown",
   "metadata": {},
   "source": [
    "# CFIS field selection"
   ]
  },
  {
   "cell_type": "markdown",
   "metadata": {},
   "source": [
    "## Name search: Return image name (number) for given coordinates"
   ]
  },
  {
   "cell_type": "markdown",
   "metadata": {},
   "source": [
    "The coordinates are a white-space or '_'-separated string, the format is astropy.coordinates.Angle."
   ]
  },
  {
   "cell_type": "code",
   "execution_count": 1,
   "metadata": {
    "collapsed": true
   },
   "outputs": [],
   "source": [
    "%matplotlib inline"
   ]
  },
  {
   "cell_type": "markdown",
   "metadata": {},
   "source": [
    "### Tiles"
   ]
  },
  {
   "cell_type": "code",
   "execution_count": 3,
   "metadata": {},
   "outputs": [
    {
     "name": "stderr",
     "output_type": "stream",
     "text": [
      "/Users/mkilbing/ShapePipe/scripts/python/cfis_field_select.py -i /Users/mkilbing/astro/data/CFIS/tiles/tiles_20171206.txt -b r -t tile -v -m n --coord 10:44:00.0hours_30:00:00degrees \n"
     ]
    },
    {
     "name": "stdout",
     "output_type": "stream",
     "text": [
      "Start program cfis_field_select.py\n",
      "3447 image files found in input file '/Users/mkilbing/astro/data/CFIS/tiles/tiles_20171206.txt'\n",
      "Looking for image at coordinates 10.733333333333333 hourangle, 30.0 deg\n",
      "# name\n",
      "CFIS.279.240.r.fits\n",
      "Finish program cfis_field_select.py\n"
     ]
    }
   ],
   "source": [
    "%run ~/ShapePipe/scripts/python/cfis_field_select.py \\\n",
    "    -i ~/astro/data/CFIS/tiles/tiles_20171206.txt \\\n",
    "    -b r -t tile -v -m n --coord 10:44:00.0hours_30:00:00degrees"
   ]
  },
  {
   "cell_type": "markdown",
   "metadata": {},
   "source": [
    "### Exposures"
   ]
  },
  {
   "cell_type": "code",
   "execution_count": 6,
   "metadata": {},
   "outputs": [
    {
     "name": "stderr",
     "output_type": "stream",
     "text": [
      "/Users/mkilbing/ShapePipe/scripts/python/cfis_field_select.py -i /Users/mkilbing/astro/data/CFIS/pitcairn/exposures_coord_20171206.txt -t exposure -m n -v --coord 159.96deg_31deg \n"
     ]
    },
    {
     "name": "stdout",
     "output_type": "stream",
     "text": [
      "Start program cfis_field_select.py\n",
      "4136 image files found in input file '/Users/mkilbing/astro/data/CFIS/pitcairn/exposures_coord_20171206.txt'\n",
      "Looking for image at coordinates 159.96 deg, 31.0 deg\n",
      "# name\n",
      "2078915p.fits.fz\n",
      "2078369p.fits.fz\n",
      "2078913p.fits.fz\n",
      "2078937p.fits.fz\n",
      "2078939p.fits.fz\n",
      "2078370p.fits.fz\n",
      "2078914p.fits.fz\n",
      "2078916p.fits.fz\n",
      "2079706p.fits.fz\n",
      "2078371p.fits.fz\n",
      "2079708p.fits.fz\n",
      "2078938p.fits.fz\n",
      "2079707p.fits.fz\n",
      "Finish program cfis_field_select.py\n"
     ]
    }
   ],
   "source": [
    "%run ~/ShapePipe/scripts/python/cfis_field_select.py \\\n",
    "    -i ~/astro/data/CFIS/pitcairn/exposures_coord_20171206.txt \\\n",
    "     -t exposure -m n -v --coord 159.96deg_31deg"
   ]
  },
  {
   "cell_type": "markdown",
   "metadata": {},
   "source": [
    "## Coordinate search: Return image coordinate for given image number"
   ]
  },
  {
   "cell_type": "markdown",
   "metadata": {},
   "source": [
    "### Tiles"
   ]
  },
  {
   "cell_type": "code",
   "execution_count": 7,
   "metadata": {},
   "outputs": [
    {
     "name": "stderr",
     "output_type": "stream",
     "text": [
      "/Users/mkilbing/ShapePipe/scripts/python/cfis_field_select.py -i /Users/mkilbing/astro/data/CFIS/tiles/tiles_20171206.txt -b r -t tile -v -m c --number 243_293 \n"
     ]
    },
    {
     "name": "stdout",
     "output_type": "stream",
     "text": [
      "Start program cfis_field_select.py\n",
      "3447 image files found in input file '/Users/mkilbing/astro/data/CFIS/tiles/tiles_20171206.txt'\n",
      "Looking for coordinates for tile with numbers (243,293)\n",
      "# ra[degree] dec[degree]\n",
      "220.13382547883694 56.5\n",
      "Finish program cfis_field_select.py\n"
     ]
    }
   ],
   "source": [
    "%run ~/ShapePipe/scripts/python/cfis_field_select.py \\\n",
    "    -i ~/astro/data/CFIS/tiles/tiles_20171206.txt \\\n",
    "    -b r -t tile -v -m c --number 243_293"
   ]
  },
  {
   "cell_type": "markdown",
   "metadata": {},
   "source": [
    "### Exposures"
   ]
  },
  {
   "cell_type": "code",
   "execution_count": 9,
   "metadata": {},
   "outputs": [
    {
     "name": "stderr",
     "output_type": "stream",
     "text": [
      "/Users/mkilbing/ShapePipe/scripts/python/cfis_field_select.py -i /Users/mkilbing/astro/data/CFIS/pitcairn/exposures_coord_20171206.txt --number 2078937 -t exposure -m c -v \n"
     ]
    },
    {
     "name": "stdout",
     "output_type": "stream",
     "text": [
      "Start program cfis_field_select.py\n",
      "4136 image files found in input file '/Users/mkilbing/astro/data/CFIS/pitcairn/exposures_coord_20171206.txt'\n",
      "# ra[degree] dec[degree]\n",
      "159.96 30.647\n",
      "Finish program cfis_field_select.py\n"
     ]
    }
   ],
   "source": [
    "%run ~/ShapePipe/scripts/python/cfis_field_select.py \\\n",
    "    -i  ~/astro/data/CFIS/pitcairn/exposures_coord_20171206.txt \\\n",
    "     --number 2078937 -t exposure -m c -v"
   ]
  },
  {
   "cell_type": "markdown",
   "metadata": {},
   "source": [
    "## Area search: Return images within area"
   ]
  },
  {
   "cell_type": "markdown",
   "metadata": {},
   "source": [
    "### Tiles"
   ]
  },
  {
   "cell_type": "code",
   "execution_count": 11,
   "metadata": {
    "scrolled": true
   },
   "outputs": [
    {
     "name": "stderr",
     "output_type": "stream",
     "text": [
      "/Users/mkilbing/ShapePipe/scripts/python/cfis_field_select.py -i /Users/mkilbing/astro/data/CFIS/tiles/tiles_20171206.txt -b r -t tile -v -m a --area 190deg_45deg_240deg_63deg -o area_W3X --plot \n"
     ]
    },
    {
     "name": "stdout",
     "output_type": "stream",
     "text": [
      "Start program cfis_field_select.py\n",
      "3447 image files found in input file '/Users/mkilbing/astro/data/CFIS/tiles/tiles_20171206.txt'\n",
      "Looking for all images within coordinates  [<SkyCoord (ICRS): (ra, dec) in deg\n",
      "    ( 190.,  45.)>, <SkyCoord (ICRS): (ra, dec) in deg\n",
      "    ( 240.,  63.)>]\n",
      "950 images found in area\n",
      "Creating plots\n",
      "Saving plot to area_W3X.pdf\n"
     ]
    },
    {
     "data": {
      "image/png": "[encoded data removed]",
      "text/plain": [
       "<matplotlib.figure.Figure at 0x118942d30>"
      ]
     },
     "metadata": {},
     "output_type": "display_data"
    },
    {
     "name": "stdout",
     "output_type": "stream",
     "text": [
      "Finish program cfis_field_select.py\n"
     ]
    }
   ],
   "source": [
    "%run ~/ShapePipe/scripts/python/cfis_field_select.py \\\n",
    "    -i ~/astro/data/CFIS/tiles/tiles_20171206.txt \\\n",
    "    -b r -t tile -v -m a --area 190deg_45deg_240deg_63deg -o area_W3X --plot"
   ]
  },
  {
   "cell_type": "markdown",
   "metadata": {},
   "source": [
    "### Exposures"
   ]
  },
  {
   "cell_type": "code",
   "execution_count": 14,
   "metadata": {
    "scrolled": true
   },
   "outputs": [
    {
     "name": "stderr",
     "output_type": "stream",
     "text": [
      "/Users/mkilbing/ShapePipe/scripts/python/cfis_field_select.py -i /Users/mkilbing/astro/data/CFIS/pitcairn/exposures_coord_20171206.txt -b r -t exposure -v -m a --area 190deg_45deg_240deg_68deg -o area_W3X --plot \n"
     ]
    },
    {
     "name": "stdout",
     "output_type": "stream",
     "text": [
      "Start program cfis_field_select.py\n",
      "4136 image files found in input file '/Users/mkilbing/astro/data/CFIS/pitcairn/exposures_coord_20171206.txt'\n",
      "Looking for all images within coordinates  [<SkyCoord (ICRS): (ra, dec) in deg\n",
      "    ( 190.,  45.)>, <SkyCoord (ICRS): (ra, dec) in deg\n",
      "    ( 240.,  68.)>]\n",
      "768 images found in area\n",
      "Creating plots\n",
      "Saving plot to area_W3X.pdf\n"
     ]
    },
    {
     "name": "stderr",
     "output_type": "stream",
     "text": [
      "/Users/mkilbing/anaconda3/lib/python3.6/site-packages/matplotlib/figure.py:1999: UserWarning: This figure includes Axes that are not compatible with tight_layout, so results might be incorrect.\n",
      "  warnings.warn(\"This figure includes Axes that are not compatible \"\n"
     ]
    },
    {
     "data": {
      "image/png": "[encoded data removed]",
      "text/plain": [
       "<matplotlib.figure.Figure at 0x11a0a6198>"
      ]
     },
     "metadata": {},
     "output_type": "display_data"
    },
    {
     "name": "stdout",
     "output_type": "stream",
     "text": [
      "Finish program cfis_field_select.py\n"
     ]
    }
   ],
   "source": [
    "%run ~/ShapePipe/scripts/python/cfis_field_select.py \\\n",
    "    -i ~/astro/data/CFIS/pitcairn/exposures_coord_20171206.txt \\\n",
    "    -b r -t exposure -v -m a --area 190deg_45deg_240deg_68deg -o area_W3X --plot"
   ]
  },
  {
   "cell_type": "code",
   "execution_count": 13,
   "metadata": {},
   "outputs": [
    {
     "name": "stderr",
     "output_type": "stream",
     "text": [
      "/Users/mkilbing/ShapePipe/scripts/python/cfis_field_select.py -i pointings.txt -b r -t exposure -v -m a --area 150deg_30deg_170deg_40deg --plot \n"
     ]
    },
    {
     "name": "stdout",
     "output_type": "stream",
     "text": [
      "Start program cfis_field_select.py\n",
      "1 image files found in input file 'pointings.txt'\n",
      "Looking for all images within coordinates  [<SkyCoord (ICRS): (ra, dec) in deg\n",
      "    ( 150.,  30.)>, <SkyCoord (ICRS): (ra, dec) in deg\n",
      "    ( 170.,  40.)>]\n",
      "1 images found in area\n",
      "# Name ra[degree] dec[degree]\n",
      "2078937p.fits.fz 159.96 30.647\n",
      "Creating plots\n",
      "Saving plot to plot.pdf\n"
     ]
    },
    {
     "name": "stderr",
     "output_type": "stream",
     "text": [
      "/Users/mkilbing/anaconda3/lib/python3.6/site-packages/matplotlib/figure.py:1999: UserWarning: This figure includes Axes that are not compatible with tight_layout, so results might be incorrect.\n",
      "  warnings.warn(\"This figure includes Axes that are not compatible \"\n"
     ]
    },
    {
     "data": {
      "image/png": "[encoded data removed]",
      "text/plain": [
       "<matplotlib.figure.Figure at 0x1120dfef0>"
      ]
     },
     "metadata": {},
     "output_type": "display_data"
    },
    {
     "name": "stdout",
     "output_type": "stream",
     "text": [
      "Finish program cfis_field_select.py\n"
     ]
    }
   ],
   "source": [
    "%run ~/ShapePipe/scripts/python/cfis_field_select.py -i pointings.txt \\\n",
    "    -b r -t exposure -v -m a --area 150deg_30deg_170deg_40deg --plot"
   ]
  },
  {
   "cell_type": "markdown",
   "metadata": {},
   "source": [
    "## "
   ]
  }
 ],
 "metadata": {
  "kernelspec": {
   "display_name": "Python 3",
   "language": "python",
   "name": "python3"
  },
  "language_info": {
   "codemirror_mode": {
    "name": "ipython",
    "version": 3
   },
   "file_extension": ".py",
   "mimetype": "text/x-python",
   "name": "python",
   "nbconvert_exporter": "python",
   "pygments_lexer": "ipython3",
   "version": "3.6.3"
  }
 },
 "nbformat": 4,
 "nbformat_minor": 2
}
