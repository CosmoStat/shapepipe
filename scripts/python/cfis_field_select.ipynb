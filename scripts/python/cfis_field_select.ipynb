{
 "cells": [
  {
   "cell_type": "markdown",
   "metadata": {},
   "source": [
    "# CFIS field selection"
   ]
  },
  {
   "cell_type": "markdown",
   "metadata": {},
   "source": [
    "## Number search: Return image number for given coordinates"
   ]
  },
  {
   "cell_type": "markdown",
   "metadata": {},
   "source": [
    "The coordinates is a white-space or '_'-separated string, the format is astropy.coordinates.Angle"
   ]
  },
  {
   "cell_type": "code",
   "execution_count": 1,
   "metadata": {},
   "outputs": [
    {
     "name": "stderr",
     "output_type": "stream",
     "text": [
      "/Users/mkilbing/ShapePipe/scripts/python/cfis_field_select.py -i /Users/mkilbing/astro/data/CFIS/tiles/ls_20171206.txt -b r -t tiles -v -m n --coord 10:44:00.0hours_30:00:00degrees \n"
     ]
    },
    {
     "name": "stdout",
     "output_type": "stream",
     "text": [
      "Start program cfis_field_select.py\n",
      "3447 image files found in input file '/Users/mkilbing/astro/data/CFIS/tiles/ls_20171206.txt'\n",
      "Looking for image at coordinates 10.733333333333333 hourangle, 30.0 deg\n",
      "# name\n",
      "CFIS.279.240.r.fits\n",
      "Finish program cfis_field_select.py\n"
     ]
    }
   ],
   "source": [
    "%run ~/ShapePipe/scripts/python/cfis_field_select.py -i ~/astro/data/CFIS/tiles/ls_20171206.txt \\\n",
    "    -b r -t tiles -v -m n --coord 10:44:00.0hours_30:00:00degrees"
   ]
  },
  {
   "cell_type": "markdown",
   "metadata": {},
   "source": [
    "## Coordinate search: Return image coordinate for given image number"
   ]
  },
  {
   "cell_type": "code",
   "execution_count": 2,
   "metadata": {},
   "outputs": [
    {
     "name": "stderr",
     "output_type": "stream",
     "text": [
      "/Users/mkilbing/ShapePipe/scripts/python/cfis_field_select.py -i /Users/mkilbing/astro/data/CFIS/tiles/ls_20171206.txt -b r -t tiles -v -m c --number 243_293 \n"
     ]
    },
    {
     "name": "stdout",
     "output_type": "stream",
     "text": [
      "Start program cfis_field_select.py\n",
      "3447 image files found in input file '/Users/mkilbing/astro/data/CFIS/tiles/ls_20171206.txt'\n",
      "Looking for coordinates for tile with numbers (243,293)\n",
      "# ra[degree] dec[degree]\n",
      "220.13382547883694 56.5\n",
      "Finish program cfis_field_select.py\n"
     ]
    }
   ],
   "source": [
    "%run ~/ShapePipe/scripts/python/cfis_field_select.py -i ~/astro/data/CFIS/tiles/ls_20171206.txt \\\n",
    "    -b r -t tiles -v -m c --number 243_293"
   ]
  },
  {
   "cell_type": "markdown",
   "metadata": {},
   "source": [
    "## Area search: Return images within area"
   ]
  },
  {
   "cell_type": "code",
   "execution_count": 5,
   "metadata": {
    "collapsed": true
   },
   "outputs": [],
   "source": [
    "%matplotlib inline"
   ]
  },
  {
   "cell_type": "code",
   "execution_count": 11,
   "metadata": {
    "scrolled": true
   },
   "outputs": [
    {
     "name": "stderr",
     "output_type": "stream",
     "text": [
      "/Users/mkilbing/ShapePipe/scripts/python/cfis_field_select.py -i /Users/mkilbing/astro/data/CFIS/tiles/ls_20171206.txt -b r -t tiles -v -m a --area 193deg_47deg_238deg_63deg -o area_W3X --plot --interactive \n"
     ]
    },
    {
     "name": "stdout",
     "output_type": "stream",
     "text": [
      "Start program cfis_field_select.py\n",
      "3447 image files found in input file '/Users/mkilbing/astro/data/CFIS/tiles/ls_20171206.txt'\n",
      "Looking for all images within coordinates  [<SkyCoord (ICRS): (ra, dec) in deg\n",
      "    ( 193.,  47.)>, <SkyCoord (ICRS): (ra, dec) in deg\n",
      "    ( 238.,  63.)>]\n",
      "950 images found in area\n",
      "Creating plots\n",
      "Saving plot to area_W3X.pdf\n"
     ]
    },
    {
     "name": "stderr",
     "output_type": "stream",
     "text": [
      "/Users/mkilbing/anaconda3/lib/python3.6/site-packages/matplotlib/figure.py:1999: UserWarning: This figure includes Axes that are not compatible with tight_layout, so results might be incorrect.\n",
      "  warnings.warn(\"This figure includes Axes that are not compatible \"\n"
     ]
    },
    {
     "data": {
      "image/png": "[encoded data removed]",
      "text/plain": [
       "<matplotlib.figure.Figure at 0x1151a0d68>"
      ]
     },
     "metadata": {},
     "output_type": "display_data"
    },
    {
     "data": {
      "image/png": "[encoded data removed]",
      "text/plain": [
       "<matplotlib.figure.Figure at 0x116519be0>"
      ]
     },
     "metadata": {},
     "output_type": "display_data"
    },
    {
     "name": "stdout",
     "output_type": "stream",
     "text": [
      "Finish program cfis_field_select.py\n"
     ]
    }
   ],
   "source": [
    "%run ~/ShapePipe/scripts/python/cfis_field_select.py -i ~/astro/data/CFIS/tiles/ls_20171206.txt \\\n",
    "    -b r -t tiles -v -m a --area 193deg_47deg_238deg_63deg -o area_W3X --plot --interactive"
   ]
  },
  {
   "cell_type": "code",
   "execution_count": 8,
   "metadata": {},
   "outputs": [
    {
     "name": "stdout",
     "output_type": "stream",
     "text": [
      "Help on function axis in module matplotlib.pyplot:\n",
      "\n",
      "axis(*v, **kwargs)\n",
      "    Convenience method to get or set axis properties.\n",
      "    \n",
      "    Calling with no arguments::\n",
      "    \n",
      "      >>> axis()\n",
      "    \n",
      "    returns the current axes limits ``[xmin, xmax, ymin, ymax]``.::\n",
      "    \n",
      "      >>> axis(v)\n",
      "    \n",
      "    sets the min and max of the x and y axes, with\n",
      "    ``v = [xmin, xmax, ymin, ymax]``.::\n",
      "    \n",
      "      >>> axis('off')\n",
      "    \n",
      "    turns off the axis lines and labels.::\n",
      "    \n",
      "      >>> axis('equal')\n",
      "    \n",
      "    changes limits of *x* or *y* axis so that equal increments of *x*\n",
      "    and *y* have the same length; a circle is circular.::\n",
      "    \n",
      "      >>> axis('scaled')\n",
      "    \n",
      "    achieves the same result by changing the dimensions of the plot box instead\n",
      "    of the axis data limits.::\n",
      "    \n",
      "      >>> axis('tight')\n",
      "    \n",
      "    changes *x* and *y* axis limits such that all data is shown. If\n",
      "    all data is already shown, it will move it to the center of the\n",
      "    figure without modifying (*xmax* - *xmin*) or (*ymax* -\n",
      "    *ymin*). Note this is slightly different than in MATLAB.::\n",
      "    \n",
      "      >>> axis('image')\n",
      "    \n",
      "    is 'scaled' with the axis limits equal to the data limits.::\n",
      "    \n",
      "      >>> axis('auto')\n",
      "    \n",
      "    and::\n",
      "    \n",
      "      >>> axis('normal')\n",
      "    \n",
      "    are deprecated. They restore default behavior; axis limits are automatically\n",
      "    scaled to make the data fit comfortably within the plot box.\n",
      "    \n",
      "    if ``len(*v)==0``, you can pass in *xmin*, *xmax*, *ymin*, *ymax*\n",
      "    as kwargs selectively to alter just those limits without changing\n",
      "    the others.\n",
      "    \n",
      "      >>> axis('square')\n",
      "    \n",
      "    changes the limit ranges (*xmax*-*xmin*) and (*ymax*-*ymin*) of\n",
      "    the *x* and *y* axes to be the same, and have the same scaling,\n",
      "    resulting in a square plot.\n",
      "    \n",
      "    The xmin, xmax, ymin, ymax tuple is returned\n",
      "    \n",
      "    .. seealso::\n",
      "    \n",
      "        :func:`xlim`, :func:`ylim`\n",
      "           For setting the x- and y-limits individually.\n",
      "\n"
     ]
    }
   ],
   "source": [
    "help(plt.axis)"
   ]
  },
  {
   "cell_type": "code",
   "execution_count": null,
   "metadata": {
    "collapsed": true
   },
   "outputs": [],
   "source": []
  }
 ],
 "metadata": {
  "kernelspec": {
   "display_name": "Python 3",
   "language": "python",
   "name": "python3"
  },
  "language_info": {
   "codemirror_mode": {
    "name": "ipython",
    "version": 3
   },
   "file_extension": ".py",
   "mimetype": "text/x-python",
   "name": "python",
   "nbconvert_exporter": "python",
   "pygments_lexer": "ipython3",
   "version": "3.6.3"
  }
 },
 "nbformat": 4,
 "nbformat_minor": 2
}
