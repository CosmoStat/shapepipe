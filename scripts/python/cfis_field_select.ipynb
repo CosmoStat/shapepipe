{
 "cells": [
  {
   "cell_type": "markdown",
   "metadata": {},
   "source": [
    "# CFIS field selection"
   ]
  },
  {
   "cell_type": "markdown",
   "metadata": {},
   "source": [
    "## Name search: Return image name (number) for given coordinates"
   ]
  },
  {
   "cell_type": "markdown",
   "metadata": {},
   "source": [
    "The coordinates are a white-space or '_'-separated string, the format is astropy.coordinates.Angle."
   ]
  },
  {
   "cell_type": "markdown",
   "metadata": {},
   "source": [
    "### Tiles"
   ]
  },
  {
   "cell_type": "code",
   "execution_count": 2,
   "metadata": {},
   "outputs": [
    {
     "name": "stderr",
     "output_type": "stream",
     "text": [
      "/Users/mkilbing/ShapePipe/scripts/python/cfis_field_select.py -i /Users/mkilbing/astro/data/CFIS/tiles/ls_20171206.txt -b r -t tile -v -m n --coord 10:44:00.0hours_30:00:00degrees \n"
     ]
    },
    {
     "name": "stdout",
     "output_type": "stream",
     "text": [
      "Start program cfis_field_select.py\n",
      "3447 image files found in input file '/Users/mkilbing/astro/data/CFIS/tiles/ls_20171206.txt'\n",
      "Looking for image at coordinates 10.733333333333333 hourangle, 30.0 deg\n",
      "# name\n",
      "CFIS.279.240.r.fits\n",
      "Finish program cfis_field_select.py\n"
     ]
    }
   ],
   "source": [
    "%run ~/ShapePipe/scripts/python/cfis_field_select.py -i ~/astro/data/CFIS/tiles/ls_20171206.txt \\\n",
    "    -b r -t tile -v -m n --coord 10:44:00.0hours_30:00:00degrees"
   ]
  },
  {
   "cell_type": "markdown",
   "metadata": {},
   "source": [
    "### Exposures"
   ]
  },
  {
   "cell_type": "code",
   "execution_count": 3,
   "metadata": {},
   "outputs": [
    {
     "name": "stdout",
     "output_type": "stream",
     "text": [
      "Start program cfis_field_select.py\n",
      "1 image files found in input file 'pointings.txt'\n",
      "Looking for image at coordinates 159.96 deg, 31.0 deg\n",
      "# name\n",
      "2078937p.fits.fz\n",
      "Finish program cfis_field_select.py\n"
     ]
    },
    {
     "name": "stderr",
     "output_type": "stream",
     "text": [
      "/Users/mkilbing/ShapePipe/scripts/python/cfis_field_select.py -i pointings.txt -t exposure -m n -v --coord 159.96deg_31deg \n"
     ]
    }
   ],
   "source": [
    "%run ~/ShapePipe/scripts/python/cfis_field_select.py -i pointings.txt \\\n",
    "     -t exposure -m n -v --coord 159.96deg_31deg"
   ]
  },
  {
   "cell_type": "markdown",
   "metadata": {},
   "source": [
    "## Coordinate search: Return image coordinate for given image number"
   ]
  },
  {
   "cell_type": "markdown",
   "metadata": {},
   "source": [
    "### Tiles"
   ]
  },
  {
   "cell_type": "code",
   "execution_count": 4,
   "metadata": {},
   "outputs": [
    {
     "name": "stderr",
     "output_type": "stream",
     "text": [
      "/Users/mkilbing/ShapePipe/scripts/python/cfis_field_select.py -i /Users/mkilbing/astro/data/CFIS/tiles/ls_20171206.txt -b r -t tile -v -m c --number 243_293 \n"
     ]
    },
    {
     "name": "stdout",
     "output_type": "stream",
     "text": [
      "Start program cfis_field_select.py\n",
      "3447 image files found in input file '/Users/mkilbing/astro/data/CFIS/tiles/ls_20171206.txt'\n",
      "Looking for coordinates for tile with numbers (243,293)\n",
      "# ra[degree] dec[degree]\n",
      "220.13382547883694 56.5\n",
      "Finish program cfis_field_select.py\n"
     ]
    }
   ],
   "source": [
    "%run ~/ShapePipe/scripts/python/cfis_field_select.py -i ~/astro/data/CFIS/tiles/ls_20171206.txt \\\n",
    "    -b r -t tile -v -m c --number 243_293"
   ]
  },
  {
   "cell_type": "markdown",
   "metadata": {},
   "source": [
    "### Exposures"
   ]
  },
  {
   "cell_type": "code",
   "execution_count": 6,
   "metadata": {},
   "outputs": [
    {
     "name": "stdout",
     "output_type": "stream",
     "text": [
      "Start program cfis_field_select.py\n",
      "1 image files found in input file 'pointings.txt'\n",
      "# ra[degree] dec[degree]\n",
      "159.96 30.647\n",
      "Finish program cfis_field_select.py\n"
     ]
    },
    {
     "name": "stderr",
     "output_type": "stream",
     "text": [
      "/Users/mkilbing/ShapePipe/scripts/python/cfis_field_select.py -i pointings.txt --number 2078937 -t exposure -m c -v \n"
     ]
    }
   ],
   "source": [
    "%run ~/ShapePipe/scripts/python/cfis_field_select.py -i pointings.txt \\\n",
    "     --number 2078937 -t exposure -m c -v"
   ]
  },
  {
   "cell_type": "markdown",
   "metadata": {},
   "source": [
    "## Area search: Return images within area"
   ]
  },
  {
   "cell_type": "code",
   "execution_count": 7,
   "metadata": {
    "collapsed": true
   },
   "outputs": [],
   "source": [
    "%matplotlib inline"
   ]
  },
  {
   "cell_type": "code",
   "execution_count": 9,
   "metadata": {
    "scrolled": true
   },
   "outputs": [
    {
     "name": "stderr",
     "output_type": "stream",
     "text": [
      "/Users/mkilbing/ShapePipe/scripts/python/cfis_field_select.py -i /Users/mkilbing/astro/data/CFIS/tiles/ls_20171206.txt -b r -t tile -v -m a --area 190deg_45deg_240deg_63deg -o area_W3X --plot \n"
     ]
    },
    {
     "name": "stdout",
     "output_type": "stream",
     "text": [
      "Start program cfis_field_select.py\n",
      "3447 image files found in input file '/Users/mkilbing/astro/data/CFIS/tiles/ls_20171206.txt'\n",
      "Looking for all images within coordinates  [<SkyCoord (ICRS): (ra, dec) in deg\n",
      "    ( 190.,  45.)>, <SkyCoord (ICRS): (ra, dec) in deg\n",
      "    ( 240.,  63.)>]\n",
      "950 images found in area\n",
      "Creating plots\n",
      "Saving plot to area_W3X.pdf\n"
     ]
    },
    {
     "data": {
      "image/png": "[encoded data removed]",
      "text/plain": [
       "<matplotlib.figure.Figure at 0x110fa2e10>"
      ]
     },
     "metadata": {},
     "output_type": "display_data"
    },
    {
     "name": "stdout",
     "output_type": "stream",
     "text": [
      "Finish program cfis_field_select.py\n"
     ]
    }
   ],
   "source": [
    "%run ~/ShapePipe/scripts/python/cfis_field_select.py -i ~/astro/data/CFIS/tiles/ls_20171206.txt \\\n",
    "    -b r -t tile -v -m a --area 190deg_45deg_240deg_63deg -o area_W3X --plot"
   ]
  },
  {
   "cell_type": "code",
   "execution_count": 10,
   "metadata": {},
   "outputs": [
    {
     "name": "stderr",
     "output_type": "stream",
     "text": [
      "/Users/mkilbing/ShapePipe/scripts/python/cfis_field_select.py -i /Users/mkilbing/astro/data/CFIS/tiles/ls_20171206.txt -b r -t tile -v -m a --area 150deg_30deg_170deg_40deg --plot \n"
     ]
    },
    {
     "name": "stdout",
     "output_type": "stream",
     "text": [
      "Start program cfis_field_select.py\n",
      "3447 image files found in input file '/Users/mkilbing/astro/data/CFIS/tiles/ls_20171206.txt'\n",
      "Looking for all images within coordinates  [<SkyCoord (ICRS): (ra, dec) in deg\n",
      "    ( 150.,  30.)>, <SkyCoord (ICRS): (ra, dec) in deg\n",
      "    ( 170.,  40.)>]\n",
      "360 images found in area\n",
      "# Name ra[degree] dec[degree]\n",
      "CFIS.247.259.r.fits 160.05192506670653 39.5\n",
      "CFIS.248.258.r.fits 159.55818617075275 39.0\n",
      "CFIS.248.259.r.fits 160.69990856900088 39.5\n",
      "CFIS.249.257.r.fits 159.08344285693218 38.5\n",
      "CFIS.249.258.r.fits 160.20156595369932 39.0\n",
      "CFIS.249.259.r.fits 161.34789207129523 39.5\n",
      "CFIS.250.257.r.fits 159.72233218567487 38.5\n",
      "CFIS.250.258.r.fits 160.8449457366459 39.0\n",
      "CFIS.250.259.r.fits 161.9958755735896 39.5\n",
      "CFIS.251.256.r.fits 159.26178599160866 38.0\n",
      "CFIS.251.257.r.fits 160.36122151441757 38.5\n",
      "CFIS.251.258.r.fits 161.4883255195925 39.0\n",
      "CFIS.251.259.r.fits 162.64385907588397 39.5\n",
      "CFIS.252.256.r.fits 159.89629509914494 38.0\n",
      "CFIS.252.257.r.fits 161.00011084316026 38.5\n",
      "CFIS.252.258.r.fits 162.13170530253907 39.0\n",
      "CFIS.252.259.r.fits 163.29184257817832 39.5\n",
      "CFIS.253.255.r.fits 159.44976037229844 37.5\n",
      "CFIS.253.256.r.fits 160.53080420668124 38.0\n",
      "CFIS.253.257.r.fits 161.63900017190298 38.5\n",
      "CFIS.253.258.r.fits 162.77508508548567 39.0\n",
      "CFIS.253.259.r.fits 163.93982608047267 39.5\n",
      "CFIS.254.254.r.fits 159.02122858584067 37.0\n",
      "CFIS.254.255.r.fits 160.07999657930358 37.5\n",
      "CFIS.254.256.r.fits 161.1653133142175 38.0\n",
      "CFIS.254.257.r.fits 162.27788950064567 38.5\n",
      "CFIS.254.258.r.fits 163.41846486843224 39.0\n",
      "CFIS.254.259.r.fits 164.58780958276702 39.5\n",
      "CFIS.255.254.r.fits 159.64729641491877 37.0\n",
      "CFIS.255.255.r.fits 160.71023278630872 37.5\n",
      "CFIS.255.256.r.fits 161.79982242175382 38.0\n",
      "CFIS.255.257.r.fits 162.91677882938836 38.5\n",
      "CFIS.255.258.r.fits 164.06184465137883 39.0\n",
      "CFIS.255.259.r.fits 165.2357930850614 39.5\n",
      "CFIS.256.253.r.fits 159.23232887720712 36.5\n",
      "CFIS.256.254.r.fits 160.2733642439969 37.0\n",
      "CFIS.256.255.r.fits 161.34046899331386 37.5\n",
      "CFIS.256.256.r.fits 162.4343315292901 38.0\n",
      "CFIS.256.257.r.fits 163.55566815813106 38.5\n",
      "CFIS.256.258.r.fits 164.7052244343254 39.0\n",
      "CFIS.256.259.r.fits 165.88377658735575 39.5\n",
      "CFIS.257.252.r.fits 158.83473510872298 36.0\n",
      "CFIS.257.253.r.fits 159.8543301618837 36.5\n",
      "CFIS.257.254.r.fits 160.899432073075 37.0\n",
      "CFIS.257.255.r.fits 161.97070520031897 37.5\n",
      "CFIS.257.256.r.fits 163.0688406368264 38.0\n",
      "CFIS.257.257.r.fits 164.19455748687378 38.5\n",
      "CFIS.257.258.r.fits 165.348604217272 39.0\n",
      "CFIS.257.259.r.fits 166.5317600896501 39.5\n",
      "CFIS.258.252.r.fits 159.45276909747287 36.0\n",
      "CFIS.258.253.r.fits 160.4763314465603 36.5\n",
      "CFIS.258.254.r.fits 161.52549990215311 37.0\n",
      "CFIS.258.255.r.fits 162.60094140732411 37.5\n",
      "CFIS.258.256.r.fits 163.70334974436267 38.0\n",
      "CFIS.258.257.r.fits 164.83344681561647 38.5\n",
      "CFIS.258.258.r.fits 165.9919840002186 39.0\n",
      "CFIS.258.259.r.fits 167.17974359194446 39.5\n",
      "CFIS.259.251.r.fits 159.06833499680434 35.5\n",
      "CFIS.259.252.r.fits 160.07080308622275 36.0\n",
      "CFIS.259.253.r.fits 161.0983327312369 36.5\n",
      "CFIS.259.254.r.fits 162.15156773123124 37.0\n",
      "CFIS.259.255.r.fits 163.23117761432925 37.5\n",
      "CFIS.259.256.r.fits 164.33785885189897 38.0\n",
      "CFIS.259.257.r.fits 165.47233614435916 38.5\n",
      "CFIS.259.258.r.fits 166.63536378316516 39.0\n",
      "CFIS.259.259.r.fits 167.8277270942388 39.5\n",
      "CFIS.260.251.r.fits 159.68249845239046 35.5\n",
      "CFIS.260.252.r.fits 160.68883707497267 36.0\n",
      "CFIS.260.253.r.fits 161.72033401591347 36.5\n",
      "CFIS.260.254.r.fits 162.77763556030934 37.0\n",
      "CFIS.260.255.r.fits 163.86141382133437 37.5\n",
      "CFIS.260.256.r.fits 164.97236795943525 38.0\n",
      "CFIS.260.257.r.fits 166.11122547310185 38.5\n",
      "CFIS.260.258.r.fits 167.27874356611176 39.0\n",
      "CFIS.260.259.r.fits 168.4757105965332 39.5\n",
      "CFIS.261.250.r.fits 159.31108383337002 35.0\n",
      "CFIS.261.251.r.fits 160.29666190797658 35.5\n",
      "CFIS.261.252.r.fits 161.30687106372255 36.0\n",
      "CFIS.261.253.r.fits 162.34233530059007 36.5\n",
      "CFIS.261.254.r.fits 163.40370338938746 37.0\n",
      "CFIS.261.255.r.fits 164.4916500283395 37.5\n",
      "CFIS.261.256.r.fits 165.60687706697155 38.0\n",
      "CFIS.261.257.r.fits 166.75011480184457 38.5\n",
      "CFIS.261.258.r.fits 167.92212334905832 39.0\n",
      "CFIS.261.259.r.fits 169.12369409882754 39.5\n",
      "CFIS.262.250.r.fits 159.92147112775075 35.0\n",
      "CFIS.262.251.r.fits 160.91082536356268 35.5\n",
      "CFIS.262.252.r.fits 161.92490505247244 36.0\n",
      "CFIS.262.253.r.fits 162.96433658526666 36.5\n",
      "CFIS.262.254.r.fits 164.02977121846556 37.0\n",
      "CFIS.262.255.r.fits 165.12188623534465 37.5\n",
      "CFIS.262.256.r.fits 166.24138617450782 38.0\n",
      "CFIS.262.257.r.fits 167.38900413058727 38.5\n",
      "CFIS.262.258.r.fits 168.56550313200492 39.0\n",
      "CFIS.262.259.r.fits 169.7716776011219 39.5\n",
      "CFIS.263.249.r.fits 159.5629429273146 34.5\n",
      "CFIS.263.250.r.fits 160.53185842213148 35.0\n",
      "CFIS.263.251.r.fits 161.5249888191488 35.5\n",
      "CFIS.263.252.r.fits 162.54293904122233 36.0\n",
      "CFIS.263.253.r.fits 163.58633786994324 36.5\n",
      "CFIS.263.254.r.fits 164.65583904754368 37.0\n",
      "CFIS.263.255.r.fits 165.7521224423498 37.5\n",
      "CFIS.263.256.r.fits 166.87589528204413 38.0\n",
      "CFIS.263.257.r.fits 168.02789345932996 38.5\n",
      "CFIS.263.258.r.fits 169.2088829149515 39.0\n",
      "CFIS.264.249.r.fits 160.16964613236144 34.5\n",
      "CFIS.264.250.r.fits 161.1422457165122 35.0\n",
      "CFIS.264.251.r.fits 162.13915227473493 35.5\n",
      "CFIS.264.252.r.fits 163.16097302997224 36.0\n",
      "CFIS.264.253.r.fits 164.20833915461984 36.5\n",
      "CFIS.264.254.r.fits 165.2819068766218 37.0\n",
      "CFIS.264.255.r.fits 166.3823586493549 37.5\n",
      "CFIS.264.256.r.fits 167.51040438958043 38.0\n",
      "CFIS.264.257.r.fits 168.66678278807265 38.5\n",
      "CFIS.264.258.r.fits 169.85226269789808 39.0\n",
      "CFIS.265.248.r.fits 159.82387817676747 34.0\n",
      "CFIS.265.249.r.fits 160.77634933740825 34.5\n",
      "CFIS.265.250.r.fits 161.75263301089294 35.0\n",
      "CFIS.265.251.r.fits 162.75331573032105 35.5\n",
      "CFIS.265.252.r.fits 163.77900701872213 36.0\n",
      "CFIS.265.253.r.fits 164.83034043929644 36.5\n",
      "CFIS.265.254.r.fits 165.9079747056999 37.0\n",
      "CFIS.265.255.r.fits 167.01259485636004 37.5\n",
      "CFIS.265.256.r.fits 168.1449134971167 38.0\n",
      "CFIS.265.257.r.fits 169.30567211681537 38.5\n",
      "CFIS.266.247.r.fits 159.49425746356803 33.5\n",
      "CFIS.266.248.r.fits 160.42698715101943 34.0\n",
      "CFIS.266.249.r.fits 161.38305254245506 34.5\n",
      "CFIS.266.250.r.fits 162.36302030527366 35.0\n",
      "CFIS.266.251.r.fits 163.36747918590717 35.5\n",
      "CFIS.266.252.r.fits 164.397041007472 36.0\n",
      "CFIS.266.253.r.fits 165.452341723973 36.5\n",
      "CFIS.266.254.r.fits 166.53404253477802 37.0\n",
      "CFIS.266.255.r.fits 167.64283106336518 37.5\n",
      "CFIS.266.256.r.fits 168.779422604653 38.0\n",
      "CFIS.266.257.r.fits 169.94456144555807 38.5\n",
      "CFIS.267.246.r.fits 159.180499593599 33.0\n",
      "CFIS.267.247.r.fits 160.0938599352356 33.5\n",
      "CFIS.267.248.r.fits 161.03009612527137 34.0\n",
      "CFIS.267.249.r.fits 161.9897557475019 34.5\n",
      "CFIS.267.250.r.fits 162.9734075996544 35.0\n",
      "CFIS.267.251.r.fits 163.98164264149327 35.5\n",
      "CFIS.267.252.r.fits 165.01507499622193 36.0\n",
      "CFIS.267.253.r.fits 166.0743430086496 36.5\n",
      "CFIS.267.254.r.fits 167.16011036385612 37.0\n",
      "CFIS.267.255.r.fits 168.27306727037032 37.5\n",
      "CFIS.267.256.r.fits 169.41393171218928 38.0\n",
      "CFIS.268.246.r.fits 159.77668124001696 33.0\n",
      "CFIS.268.247.r.fits 160.69346240690314 33.5\n",
      "CFIS.268.248.r.fits 161.63320509952334 34.0\n",
      "CFIS.268.249.r.fits 162.59645895254872 34.5\n",
      "CFIS.268.250.r.fits 163.58379489403512 35.0\n",
      "CFIS.268.251.r.fits 164.5958060970794 35.5\n",
      "CFIS.268.252.r.fits 165.6331089849718 36.0\n",
      "CFIS.268.253.r.fits 166.6963442933262 36.5\n",
      "CFIS.268.254.r.fits 167.78617819293424 37.0\n",
      "CFIS.268.255.r.fits 168.90330347737543 37.5\n",
      "CFIS.269.245.r.fits 159.4751768798946 32.5\n",
      "CFIS.269.246.r.fits 160.37286288643492 33.0\n",
      "CFIS.269.247.r.fits 161.2930648785707 33.5\n",
      "CFIS.269.248.r.fits 162.23631407377528 34.0\n",
      "CFIS.269.249.r.fits 163.20316215759556 34.5\n",
      "CFIS.269.250.r.fits 164.19418218841585 35.0\n",
      "CFIS.269.251.r.fits 165.2099695526655 35.5\n",
      "CFIS.269.252.r.fits 166.2511429737217 36.0\n",
      "CFIS.269.253.r.fits 167.31834557800278 36.5\n",
      "CFIS.269.254.r.fits 168.41224602201237 37.0\n",
      "CFIS.269.255.r.fits 169.53353968438057 37.5\n",
      "CFIS.270.244.r.fits 159.18908445388303 32.0\n",
      "CFIS.270.245.r.fits 160.06802140361168 32.5\n",
      "CFIS.270.246.r.fits 160.9690445328529 33.0\n",
      "CFIS.270.247.r.fits 161.89266735023824 33.5\n",
      "CFIS.270.248.r.fits 162.83942304802724 34.0\n",
      "CFIS.270.249.r.fits 163.80986536264237 34.5\n",
      "CFIS.270.250.r.fits 164.80456948279658 35.0\n",
      "CFIS.270.251.r.fits 165.82413300825164 35.5\n",
      "CFIS.270.252.r.fits 166.8691769624716 36.0\n",
      "CFIS.270.253.r.fits 167.94034686267938 36.5\n",
      "CFIS.270.254.r.fits 169.03831385109046 37.0\n",
      "CFIS.271.244.r.fits 159.77867365556406 32.0\n",
      "CFIS.271.245.r.fits 160.66086592732876 32.5\n",
      "CFIS.271.246.r.fits 161.56522617927087 33.0\n",
      "CFIS.271.247.r.fits 162.49226982190578 33.5\n",
      "CFIS.271.248.r.fits 163.44253202227918 34.0\n",
      "CFIS.271.249.r.fits 164.41656856768918 34.5\n",
      "CFIS.271.250.r.fits 165.4149567771773 35.0\n",
      "CFIS.271.251.r.fits 166.43829646383776 35.5\n",
      "CFIS.271.252.r.fits 167.4872109512215 36.0\n",
      "CFIS.271.253.r.fits 168.56234814735598 36.5\n",
      "CFIS.271.254.r.fits 169.6643816801686 37.0\n",
      "CFIS.272.243.r.fits 159.5045667395052 31.5\n",
      "CFIS.272.244.r.fits 160.36826285724513 32.0\n",
      "CFIS.272.245.r.fits 161.25371045104586 32.5\n",
      "CFIS.272.246.r.fits 162.16140782568885 33.0\n",
      "CFIS.272.247.r.fits 163.09187229357335 33.5\n",
      "CFIS.272.248.r.fits 164.04564099653115 34.0\n",
      "CFIS.272.249.r.fits 165.02327177273602 34.5\n"
     ]
    },
    {
     "name": "stdout",
     "output_type": "stream",
     "text": [
      "CFIS.272.250.r.fits 166.025344071558 35.0\n",
      "CFIS.272.251.r.fits 167.05245991942385 35.5\n",
      "CFIS.272.252.r.fits 168.10524493997139 36.0\n",
      "CFIS.272.253.r.fits 169.18434943203255 36.5\n",
      "CFIS.273.242.r.fits 159.2454587198926 31.0\n",
      "CFIS.273.243.r.fits 160.0909805878122 31.5\n",
      "CFIS.273.244.r.fits 160.95785205892616 32.0\n",
      "CFIS.273.245.r.fits 161.84655497476294 32.5\n",
      "CFIS.273.246.r.fits 162.75758947210682 33.0\n",
      "CFIS.273.247.r.fits 163.69147476524088 33.5\n",
      "CFIS.273.248.r.fits 164.6487499707831 34.0\n",
      "CFIS.273.249.r.fits 165.62997497778284 34.5\n",
      "CFIS.273.250.r.fits 166.63573136593874 35.0\n",
      "CFIS.273.251.r.fits 167.66662337500998 35.5\n",
      "CFIS.273.252.r.fits 168.7232789287213 36.0\n",
      "CFIS.273.253.r.fits 169.80635071670915 36.5\n",
      "CFIS.274.241.r.fits 159.00111821865093 30.5\n",
      "CFIS.274.242.r.fits 159.82877541850027 31.0\n",
      "CFIS.274.243.r.fits 160.67739443611922 31.5\n",
      "CFIS.274.244.r.fits 161.5474412606072 32.0\n",
      "CFIS.274.245.r.fits 162.43939949848001 32.5\n",
      "CFIS.274.246.r.fits 163.3537711185248 33.0\n",
      "CFIS.274.247.r.fits 164.29107723690845 33.5\n",
      "CFIS.274.248.r.fits 165.25185894503505 34.0\n",
      "CFIS.274.249.r.fits 166.23667818282965 34.5\n",
      "CFIS.274.250.r.fits 167.24611866031947 35.0\n",
      "CFIS.274.251.r.fits 168.2807868305961 35.5\n",
      "CFIS.274.252.r.fits 169.34131291747119 36.0\n",
      "CFIS.275.241.r.fits 159.58141427054383 30.5\n",
      "CFIS.275.242.r.fits 160.41209211710793 31.0\n",
      "CFIS.275.243.r.fits 161.2638082844262 31.5\n",
      "CFIS.275.244.r.fits 162.13703046228827 32.0\n",
      "CFIS.275.245.r.fits 163.0322440221971 32.5\n",
      "CFIS.275.246.r.fits 163.94995276494276 33.0\n",
      "CFIS.275.247.r.fits 164.890679708576 33.5\n",
      "CFIS.275.248.r.fits 165.854967919287 34.0\n",
      "CFIS.275.249.r.fits 166.8433813878765 34.5\n",
      "CFIS.275.250.r.fits 167.8565059547002 35.0\n",
      "CFIS.275.251.r.fits 168.89495028618222 35.5\n",
      "CFIS.275.252.r.fits 169.95934690622107 36.0\n",
      "CFIS.276.240.r.fits 159.3486742963367 30.0\n",
      "CFIS.276.241.r.fits 160.1617103224367 30.5\n",
      "CFIS.276.242.r.fits 160.9954088157156 31.0\n",
      "CFIS.276.243.r.fits 161.85022213273322 31.5\n",
      "CFIS.276.244.r.fits 162.7266196639693 32.0\n",
      "CFIS.276.245.r.fits 163.62508854591417 32.5\n",
      "CFIS.276.246.r.fits 164.54613441136075 33.0\n",
      "CFIS.276.247.r.fits 165.49028218024353 33.5\n",
      "CFIS.276.248.r.fits 166.45807689353896 34.0\n",
      "CFIS.276.249.r.fits 167.4500845929233 34.5\n",
      "CFIS.276.250.r.fits 168.46689324908093 35.0\n",
      "CFIS.276.251.r.fits 169.50911374176832 35.5\n",
      "CFIS.277.240.r.fits 159.92602456552632 30.0\n",
      "CFIS.277.241.r.fits 160.7420063743296 30.5\n",
      "CFIS.277.242.r.fits 161.57872551432325 31.0\n",
      "CFIS.277.243.r.fits 162.43663598104024 31.5\n",
      "CFIS.277.244.r.fits 163.31620886565037 32.0\n",
      "CFIS.277.245.r.fits 164.21793306963124 32.5\n",
      "CFIS.277.246.r.fits 165.14231605777871 33.0\n",
      "CFIS.277.247.r.fits 166.0898846519111 33.5\n",
      "CFIS.277.248.r.fits 167.0611858677909 34.0\n",
      "CFIS.277.249.r.fits 168.05678779797014 34.5\n",
      "CFIS.277.250.r.fits 169.07728054346165 35.0\n",
      "CFIS.278.240.r.fits 160.50337483471594 30.0\n",
      "CFIS.278.241.r.fits 161.32230242622248 30.5\n",
      "CFIS.278.242.r.fits 162.16204221293094 31.0\n",
      "CFIS.278.243.r.fits 163.02304982934723 31.5\n",
      "CFIS.278.244.r.fits 163.9057980673314 32.0\n",
      "CFIS.278.245.r.fits 164.81077759334832 32.5\n",
      "CFIS.278.246.r.fits 165.7384977041967 33.0\n",
      "CFIS.278.247.r.fits 166.68948712357863 33.5\n",
      "CFIS.278.248.r.fits 167.66429484204286 34.0\n",
      "CFIS.278.249.r.fits 168.66349100301696 34.5\n",
      "CFIS.278.250.r.fits 169.68766783784238 35.0\n",
      "CFIS.279.240.r.fits 161.08072510390556 30.0\n",
      "CFIS.279.241.r.fits 161.90259847811538 30.5\n",
      "CFIS.279.242.r.fits 162.7453589115386 31.0\n",
      "CFIS.279.243.r.fits 163.60946367765425 31.5\n",
      "CFIS.279.244.r.fits 164.49538726901247 32.0\n",
      "CFIS.279.245.r.fits 165.40362211706542 32.5\n",
      "CFIS.279.246.r.fits 166.33467935061466 33.0\n",
      "CFIS.279.247.r.fits 167.28908959524617 33.5\n",
      "CFIS.279.248.r.fits 168.2674038162948 34.0\n",
      "CFIS.279.249.r.fits 169.27019420806377 34.5\n",
      "CFIS.280.240.r.fits 161.65807537309522 30.0\n",
      "CFIS.280.241.r.fits 162.48289453000825 30.5\n",
      "CFIS.280.242.r.fits 163.32867561014626 31.0\n",
      "CFIS.280.243.r.fits 164.19587752596124 31.5\n",
      "CFIS.280.244.r.fits 165.0849764706935 32.0\n",
      "CFIS.280.245.r.fits 165.9964666407825 32.5\n",
      "CFIS.280.246.r.fits 166.93086099703265 33.0\n",
      "CFIS.280.247.r.fits 167.88869206691373 33.5\n",
      "CFIS.280.248.r.fits 168.87051279054677 34.0\n",
      "CFIS.280.249.r.fits 169.8768974131106 34.5\n",
      "CFIS.281.240.r.fits 162.23542564228484 30.0\n",
      "CFIS.281.241.r.fits 163.06319058190115 30.5\n",
      "CFIS.281.242.r.fits 163.91199230875392 31.0\n",
      "CFIS.281.243.r.fits 164.78229137426825 31.5\n",
      "CFIS.281.244.r.fits 165.67456567237454 32.0\n",
      "CFIS.281.245.r.fits 166.58931116449958 32.5\n",
      "CFIS.281.246.r.fits 167.5270426434506 33.0\n",
      "CFIS.281.247.r.fits 168.48829453858127 33.5\n",
      "CFIS.281.248.r.fits 169.4736217647987 34.0\n",
      "CFIS.282.240.r.fits 162.81277591147446 30.0\n",
      "CFIS.282.241.r.fits 163.64348663379403 30.5\n",
      "CFIS.282.242.r.fits 164.49530900736158 31.0\n",
      "CFIS.282.243.r.fits 165.36870522257524 31.5\n",
      "CFIS.282.244.r.fits 166.2641548740556 32.0\n",
      "CFIS.282.245.r.fits 167.18215568821665 32.5\n",
      "CFIS.282.246.r.fits 168.12322428986857 33.0\n",
      "CFIS.282.247.r.fits 169.08789701024884 33.5\n",
      "CFIS.283.240.r.fits 163.39012618066408 30.0\n",
      "CFIS.283.241.r.fits 164.22378268568693 30.5\n",
      "CFIS.283.242.r.fits 165.07862570596924 31.0\n",
      "CFIS.283.243.r.fits 165.95511907088226 31.5\n",
      "CFIS.283.244.r.fits 166.85374407573664 32.0\n",
      "CFIS.283.245.r.fits 167.77500021193373 32.5\n",
      "CFIS.283.246.r.fits 168.71940593628656 33.0\n",
      "CFIS.283.247.r.fits 169.68749948191638 33.5\n",
      "CFIS.284.240.r.fits 163.9674764498537 30.0\n",
      "CFIS.284.241.r.fits 164.8040787375798 30.5\n",
      "CFIS.284.242.r.fits 165.66194240457693 31.0\n",
      "CFIS.284.243.r.fits 166.54153291918925 31.5\n",
      "CFIS.284.244.r.fits 167.4433332774177 32.0\n",
      "CFIS.284.245.r.fits 168.3678447356508 32.5\n",
      "CFIS.284.246.r.fits 169.31558758270452 33.0\n",
      "CFIS.285.240.r.fits 164.54482671904333 30.0\n",
      "CFIS.285.241.r.fits 165.38437478947267 30.5\n",
      "CFIS.285.242.r.fits 166.2452591031846 31.0\n",
      "CFIS.285.243.r.fits 167.12794676749627 31.5\n",
      "CFIS.285.244.r.fits 168.03292247909874 32.0\n",
      "CFIS.285.245.r.fits 168.96068925936788 32.5\n",
      "CFIS.285.246.r.fits 169.9117692291225 33.0\n",
      "CFIS.286.240.r.fits 165.12217698823295 30.0\n",
      "CFIS.286.241.r.fits 165.96467084136557 30.5\n",
      "CFIS.286.242.r.fits 166.82857580179225 31.0\n",
      "CFIS.286.243.r.fits 167.71436061580326 31.5\n",
      "CFIS.286.244.r.fits 168.62251168077978 32.0\n",
      "CFIS.286.245.r.fits 169.553533783085 32.5\n",
      "CFIS.287.240.r.fits 165.69952725742257 30.0\n",
      "CFIS.287.241.r.fits 166.54496689325845 30.5\n",
      "CFIS.287.242.r.fits 167.41189250039992 31.0\n",
      "CFIS.287.243.r.fits 168.30077446411028 31.5\n",
      "CFIS.287.244.r.fits 169.21210088246085 32.0\n",
      "CFIS.288.240.r.fits 166.2768775266122 30.0\n",
      "CFIS.288.241.r.fits 167.12526294515135 30.5\n",
      "CFIS.288.242.r.fits 167.99520919900758 31.0\n",
      "CFIS.288.243.r.fits 168.88718831241727 31.5\n",
      "CFIS.288.244.r.fits 169.80169008414188 32.0\n",
      "CFIS.289.240.r.fits 166.85422779580185 30.0\n",
      "CFIS.289.241.r.fits 167.70555899704422 30.5\n",
      "CFIS.289.242.r.fits 168.57852589761524 31.0\n",
      "CFIS.289.243.r.fits 169.47360216072428 31.5\n",
      "CFIS.290.240.r.fits 167.43157806499147 30.0\n",
      "CFIS.290.241.r.fits 168.28585504893712 30.5\n",
      "CFIS.290.242.r.fits 169.16184259622293 31.0\n",
      "CFIS.291.240.r.fits 168.0089283341811 30.0\n",
      "CFIS.291.241.r.fits 168.86615110083 30.5\n",
      "CFIS.291.242.r.fits 169.7451592948306 31.0\n",
      "CFIS.292.240.r.fits 168.58627860337072 30.0\n",
      "CFIS.292.241.r.fits 169.4464471527229 30.5\n",
      "CFIS.293.240.r.fits 169.16362887256034 30.0\n",
      "CFIS.294.240.r.fits 169.74097914174996 30.0\n",
      "Creating plots\n",
      "Saving plot to plot.pdf\n"
     ]
    },
    {
     "name": "stderr",
     "output_type": "stream",
     "text": [
      "/Users/mkilbing/anaconda3/lib/python3.6/site-packages/matplotlib/figure.py:1999: UserWarning: This figure includes Axes that are not compatible with tight_layout, so results might be incorrect.\n",
      "  warnings.warn(\"This figure includes Axes that are not compatible \"\n"
     ]
    },
    {
     "data": {
      "image/png": "[encoded data removed]",
      "text/plain": [
       "<matplotlib.figure.Figure at 0x110edb780>"
      ]
     },
     "metadata": {},
     "output_type": "display_data"
    },
    {
     "name": "stdout",
     "output_type": "stream",
     "text": [
      "Finish program cfis_field_select.py\n"
     ]
    }
   ],
   "source": [
    "%run ~/ShapePipe/scripts/python/cfis_field_select.py -i ~/astro/data/CFIS/tiles/ls_20171206.txt \\\n",
    "    -b r -t tile -v -m a --area 150deg_30deg_170deg_40deg --plot"
   ]
  },
  {
   "cell_type": "code",
   "execution_count": 13,
   "metadata": {},
   "outputs": [
    {
     "name": "stderr",
     "output_type": "stream",
     "text": [
      "/Users/mkilbing/ShapePipe/scripts/python/cfis_field_select.py -i pointings.txt -b r -t exposure -v -m a --area 150deg_30deg_170deg_40deg --plot \n"
     ]
    },
    {
     "name": "stdout",
     "output_type": "stream",
     "text": [
      "Start program cfis_field_select.py\n",
      "1 image files found in input file 'pointings.txt'\n",
      "Looking for all images within coordinates  [<SkyCoord (ICRS): (ra, dec) in deg\n",
      "    ( 150.,  30.)>, <SkyCoord (ICRS): (ra, dec) in deg\n",
      "    ( 170.,  40.)>]\n",
      "1 images found in area\n",
      "# Name ra[degree] dec[degree]\n",
      "2078937p.fits.fz 159.96 30.647\n",
      "Creating plots\n",
      "Saving plot to plot.pdf\n"
     ]
    },
    {
     "name": "stderr",
     "output_type": "stream",
     "text": [
      "/Users/mkilbing/anaconda3/lib/python3.6/site-packages/matplotlib/figure.py:1999: UserWarning: This figure includes Axes that are not compatible with tight_layout, so results might be incorrect.\n",
      "  warnings.warn(\"This figure includes Axes that are not compatible \"\n"
     ]
    },
    {
     "data": {
      "image/png": "[encoded data removed]",
      "text/plain": [
       "<matplotlib.figure.Figure at 0x1120dfef0>"
      ]
     },
     "metadata": {},
     "output_type": "display_data"
    },
    {
     "name": "stdout",
     "output_type": "stream",
     "text": [
      "Finish program cfis_field_select.py\n"
     ]
    }
   ],
   "source": [
    "%run ~/ShapePipe/scripts/python/cfis_field_select.py -i pointings.txt \\\n",
    "    -b r -t exposure -v -m a --area 150deg_30deg_170deg_40deg --plot"
   ]
  },
  {
   "cell_type": "markdown",
   "metadata": {},
   "source": [
    "## "
   ]
  }
 ],
 "metadata": {
  "kernelspec": {
   "display_name": "Python 3",
   "language": "python",
   "name": "python3"
  },
  "language_info": {
   "codemirror_mode": {
    "name": "ipython",
    "version": 3
   },
   "file_extension": ".py",
   "mimetype": "text/x-python",
   "name": "python",
   "nbconvert_exporter": "python",
   "pygments_lexer": "ipython3",
   "version": "3.6.3"
  }
 },
 "nbformat": 4,
 "nbformat_minor": 2
}
