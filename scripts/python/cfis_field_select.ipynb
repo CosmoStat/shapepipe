{
 "cells": [
  {
   "cell_type": "markdown",
   "metadata": {},
   "source": [
    "# CFIS field selection"
   ]
  },
  {
   "cell_type": "markdown",
   "metadata": {},
   "source": [
    "## Name search: Return image name (number) for given coordinates"
   ]
  },
  {
   "cell_type": "markdown",
   "metadata": {},
   "source": [
    "The coordinates are a white-space or '_'-separated string, the format is astropy.coordinates.Angle."
   ]
  },
  {
   "cell_type": "code",
   "execution_count": 1,
   "metadata": {
    "collapsed": true
   },
   "outputs": [],
   "source": [
    "%matplotlib inline"
   ]
  },
  {
   "cell_type": "markdown",
   "metadata": {},
   "source": [
    "### Tiles"
   ]
  },
  {
   "cell_type": "code",
   "execution_count": 6,
   "metadata": {},
   "outputs": [
    {
     "name": "stderr",
     "output_type": "stream",
     "text": [
      "/Users/mkilbing/ShapePipe/scripts/python/cfis_field_select.py -i /Users/mkilbing/astro/data/CFIS/tiles/tiles_20171206.txt -b r -t tile -v -m n --coord 10:44:00.0hours_30:00:00degrees \n"
     ]
    },
    {
     "name": "stdout",
     "output_type": "stream",
     "text": [
      "Start of program cfis_field_select.py\n",
      "3447 image files found in input file '/Users/mkilbing/astro/data/CFIS/tiles/tiles_20171206.txt'\n",
      "Looking for image at coordinates 10.733333333333333 hourangle, 30.0 deg\n",
      "# Name ra[degree] dec[degree] exp_time[s] validation\n",
      "CFIS.279.240.r.fits     161.08      30.00    -1 Unknown \n",
      "End of program cfis_field_select.py\n"
     ]
    }
   ],
   "source": [
    "%run ~/ShapePipe/scripts/python/cfis_field_select.py \\\n",
    "    -i ~/astro/data/CFIS/tiles/tiles_20171206.txt \\\n",
    "    -b r -t tile -v -m n --coord 10:44:00.0hours_30:00:00degrees"
   ]
  },
  {
   "cell_type": "markdown",
   "metadata": {},
   "source": [
    "### Exposures"
   ]
  },
  {
   "cell_type": "markdown",
   "metadata": {},
   "source": [
    "Use exposure file listing on input. Not recommended, no information about exposure time or validation flag."
   ]
  },
  {
   "cell_type": "code",
   "execution_count": 2,
   "metadata": {},
   "outputs": [
    {
     "name": "stderr",
     "output_type": "stream",
     "text": [
      "/Users/mkilbing/ShapePipe/scripts/python/cfis_field_select.py -i /Users/mkilbing/astro/data/CFIS/pitcairn/exposures_coord_20171206.txt -t exposure -m n -v --coord 160.37deg_30.98deg \n"
     ]
    },
    {
     "name": "stdout",
     "output_type": "stream",
     "text": [
      "Start of program cfis_field_select.py\n",
      "4136 image files found in input file '/Users/mkilbing/astro/data/CFIS/pitcairn/exposures_coord_20171206.txt'\n",
      "Looking for image at coordinates 160.37 deg, 30.98 deg\n",
      "# Name ra[degree] dec[degree] exp_time[s] validation\n",
      "2078627p.fits.fz     160.78      31.31    -1 Unknown \n",
      "2078611p.fits.fz     160.78      31.31    -1 Unknown \n",
      "2078915p.fits.fz     159.96      30.65    -1 Unknown \n",
      "2078369p.fits.fz     160.37      30.98    -1 Unknown \n",
      "2078610p.fits.fz     160.78      31.31    -1 Unknown \n",
      "2078913p.fits.fz     159.96      30.65    -1 Unknown \n",
      "2078937p.fits.fz     159.96      30.65    -1 Unknown \n",
      "2078939p.fits.fz     159.96      30.65    -1 Unknown \n",
      "2078370p.fits.fz     160.37      30.98    -1 Unknown \n",
      "2078914p.fits.fz     159.96      30.65    -1 Unknown \n",
      "2078916p.fits.fz     159.96      30.65    -1 Unknown \n",
      "2079706p.fits.fz     159.96      30.65    -1 Unknown \n",
      "2078612p.fits.fz     160.78      31.31    -1 Unknown \n",
      "2078371p.fits.fz     160.37      30.98    -1 Unknown \n",
      "2078628p.fits.fz     160.78      31.31    -1 Unknown \n",
      "2079708p.fits.fz     159.96      30.65    -1 Unknown \n",
      "2078938p.fits.fz     159.96      30.65    -1 Unknown \n",
      "2078629p.fits.fz     160.78      31.31    -1 Unknown \n",
      "2079707p.fits.fz     159.96      30.65    -1 Unknown \n",
      "End of program cfis_field_select.py\n"
     ]
    }
   ],
   "source": [
    "%run ~/ShapePipe/scripts/python/cfis_field_select.py \\\n",
    "    -i ~/astro/data/CFIS/pitcairn/exposures_coord_20171206.txt \\\n",
    "     -t exposure -m n -v --coord 160.37deg_30.98deg"
   ]
  },
  {
   "cell_type": "markdown",
   "metadata": {},
   "source": [
    "Use log file on input (recommended)."
   ]
  },
  {
   "cell_type": "code",
   "execution_count": 3,
   "metadata": {},
   "outputs": [
    {
     "name": "stderr",
     "output_type": "stream",
     "text": [
      "/Users/mkilbing/ShapePipe/scripts/python/cfis_field_select.py -i /Users/mkilbing/astro/data/CFIS/pitcairn/MCLOG-CFIS.r.qso-elx_20171226.log -t exposure -m n -v --coord 160.37deg_30.98deg \n"
     ]
    },
    {
     "name": "stdout",
     "output_type": "stream",
     "text": [
      "Start of program cfis_field_select.py\n"
     ]
    },
    {
     "name": "stderr",
     "output_type": "stream",
     "text": [
      "/Users/mkilbing/anaconda3/lib/python3.6/re.py:212: FutureWarning: split() requires a non-empty pattern match.\n",
      "  return _compile(pattern, flags).split(string, maxsplit)\n"
     ]
    },
    {
     "name": "stdout",
     "output_type": "stream",
     "text": [
      "4941 image files found in input file '/Users/mkilbing/astro/data/CFIS/pitcairn/MCLOG-CFIS.r.qso-elx_20171226.log'\n",
      "Looking for image at coordinates 160.37 deg, 30.98 deg\n",
      "# Name ra[degree] dec[degree] exp_time[s] validation\n",
      "d2078371p.fits.fz     160.37      30.98   300 V       \n",
      "d2078629p.fits.fz     160.78      31.31   100 V       \n",
      "d2079708p.fits.fz     159.96      30.65   100 V       \n",
      "End of program cfis_field_select.py\n"
     ]
    }
   ],
   "source": [
    "%run ~/ShapePipe/scripts/python/cfis_field_select.py \\\n",
    "    -i ~/astro/data/CFIS/pitcairn/MCLOG-CFIS.r.qso-elx_20171226.log \\\n",
    "     -t exposure -m n -v --coord 160.37deg_30.98deg"
   ]
  },
  {
   "cell_type": "markdown",
   "metadata": {},
   "source": [
    "No cuts on exposure time and validation flag:"
   ]
  },
  {
   "cell_type": "code",
   "execution_count": 4,
   "metadata": {},
   "outputs": [
    {
     "name": "stderr",
     "output_type": "stream",
     "text": [
      "/Users/mkilbing/ShapePipe/scripts/python/cfis_field_select.py -i /Users/mkilbing/astro/data/CFIS/pitcairn/MCLOG-CFIS.r.qso-elx_20171226.log -t exposure -m n -v --coord 160.37deg_30.98deg --no_cuts \n"
     ]
    },
    {
     "name": "stdout",
     "output_type": "stream",
     "text": [
      "Start of program cfis_field_select.py\n"
     ]
    },
    {
     "name": "stderr",
     "output_type": "stream",
     "text": [
      "/Users/mkilbing/anaconda3/lib/python3.6/re.py:212: FutureWarning: split() requires a non-empty pattern match.\n",
      "  return _compile(pattern, flags).split(string, maxsplit)\n"
     ]
    },
    {
     "name": "stdout",
     "output_type": "stream",
     "text": [
      "4941 image files found in input file '/Users/mkilbing/astro/data/CFIS/pitcairn/MCLOG-CFIS.r.qso-elx_20171226.log'\n",
      "Looking for image at coordinates 160.37 deg, 30.98 deg\n",
      "# Name ra[degree] dec[degree] exp_time[s] validation\n",
      "d2078369p.fits.fz     160.37      30.98    30 O       \n",
      "d2078370p.fits.fz     160.37      30.98    30 O       \n",
      "d2078371p.fits.fz     160.37      30.98   300 V       \n",
      "d2078610p.fits.fz     160.78      31.31    30 O       \n",
      "d2078611p.fits.fz     160.78      31.31    30 O       \n",
      "d2078612p.fits.fz     160.78      31.31   300 O       \n",
      "d2078627p.fits.fz     160.78      31.31    30 O       \n",
      "d2078628p.fits.fz     160.78      31.31    30 O       \n",
      "d2078629p.fits.fz     160.78      31.31   100 V       \n",
      "d2078913p.fits.fz     159.96      30.65   100 O       \n",
      "d2078914p.fits.fz     159.96      30.65    30 O       \n",
      "d2078915p.fits.fz     159.96      30.65    30 O       \n",
      "d2078916p.fits.fz     159.96      30.65   100 O       \n",
      "d2078937p.fits.fz     159.96      30.65    30 O       \n",
      "d2078938p.fits.fz     159.96      30.65    30 O       \n",
      "d2078939p.fits.fz     159.96      30.65   100 O       \n",
      "d2079706p.fits.fz     159.96      30.65    30 O       \n",
      "d2079707p.fits.fz     159.96      30.65    30 O       \n",
      "d2079708p.fits.fz     159.96      30.65   100 V       \n",
      "End of program cfis_field_select.py\n"
     ]
    }
   ],
   "source": [
    "run ~/ShapePipe/scripts/python/cfis_field_select.py \\\n",
    "    -i ~/astro/data/CFIS/pitcairn/MCLOG-CFIS.r.qso-elx_20171226.log \\\n",
    "     -t exposure -m n -v --coord 160.37deg_30.98deg --no_cuts"
   ]
  },
  {
   "cell_type": "markdown",
   "metadata": {},
   "source": [
    "## Coordinate search: Return image coordinate for given image number"
   ]
  },
  {
   "cell_type": "markdown",
   "metadata": {},
   "source": [
    "### Tiles"
   ]
  },
  {
   "cell_type": "code",
   "execution_count": 6,
   "metadata": {},
   "outputs": [
    {
     "name": "stderr",
     "output_type": "stream",
     "text": [
      "/Users/mkilbing/ShapePipe/scripts/python/cfis_field_select.py -i /Users/mkilbing/astro/data/CFIS/tiles/tiles_20171206.txt -b r -t tile -v -m c --number 243_293 \n"
     ]
    },
    {
     "name": "stdout",
     "output_type": "stream",
     "text": [
      "Start of program cfis_field_select.py\n",
      "3447 image files found in input file '/Users/mkilbing/astro/data/CFIS/tiles/tiles_20171206.txt'\n",
      "Looking for coordinates for tile with numbers (243,293)\n",
      "# Name ra[degree] dec[degree] exp_time[s] validation\n",
      "CFIS.243.293.r.fits     220.13      56.50    -1 Unknown \n",
      "End of program cfis_field_select.py\n"
     ]
    }
   ],
   "source": [
    "%run ~/ShapePipe/scripts/python/cfis_field_select.py \\\n",
    "    -i ~/astro/data/CFIS/tiles/tiles_20171206.txt \\\n",
    "    -b r -t tile -v -m c --number 243_293"
   ]
  },
  {
   "cell_type": "markdown",
   "metadata": {},
   "source": [
    "### Exposures"
   ]
  },
  {
   "cell_type": "code",
   "execution_count": 16,
   "metadata": {},
   "outputs": [
    {
     "name": "stderr",
     "output_type": "stream",
     "text": [
      "/Users/mkilbing/ShapePipe/scripts/python/cfis_field_select.py -i /Users/mkilbing/astro/data/CFIS/pitcairn/MCLOG-CFIS.r.qso-elx_20171226.log --number 2078717 -t exposure -m c -v \n"
     ]
    },
    {
     "name": "stdout",
     "output_type": "stream",
     "text": [
      "Start of program cfis_field_select.py\n"
     ]
    },
    {
     "name": "stderr",
     "output_type": "stream",
     "text": [
      "/Users/mkilbing/anaconda3/lib/python3.6/re.py:212: FutureWarning: split() requires a non-empty pattern match.\n",
      "  return _compile(pattern, flags).split(string, maxsplit)\n"
     ]
    },
    {
     "name": "stdout",
     "output_type": "stream",
     "text": [
      "4941 image files found in input file '/Users/mkilbing/astro/data/CFIS/pitcairn/MCLOG-CFIS.r.qso-elx_20171226.log'\n",
      "# Name ra[degree] dec[degree] exp_time[s] validation\n",
      "d2078717p.fits.fz     183.78      33.59   238 V       \n",
      "End of program cfis_field_select.py\n"
     ]
    }
   ],
   "source": [
    "%run ~/ShapePipe/scripts/python/cfis_field_select.py \\\n",
    "    -i  ~/astro/data/CFIS/pitcairn/MCLOG-CFIS.r.qso-elx_20171226.log  \\\n",
    "     --number 2078717 -t exposure -m c -v"
   ]
  },
  {
   "cell_type": "markdown",
   "metadata": {},
   "source": [
    "## Area search: Return and plot images within area\n",
    "Use --plot to produce pdf plot.\n",
    "Use --interactive in notebook."
   ]
  },
  {
   "cell_type": "markdown",
   "metadata": {},
   "source": [
    "### Tiles"
   ]
  },
  {
   "cell_type": "code",
   "execution_count": 10,
   "metadata": {
    "scrolled": false
   },
   "outputs": [
    {
     "name": "stderr",
     "output_type": "stream",
     "text": [
      "/Users/mkilbing/ShapePipe/scripts/python/cfis_field_select.py -i /Users/mkilbing/astro/data/CFIS/tiles/tiles_20171206.txt -b r -t tile -v -m a --area 190deg_45deg_240deg_63deg -o area_W3X_tiles --plot --interactive \n"
     ]
    },
    {
     "name": "stdout",
     "output_type": "stream",
     "text": [
      "Start of program cfis_field_select.py\n",
      "3447 image files found in input file '/Users/mkilbing/astro/data/CFIS/tiles/tiles_20171206.txt'\n",
      "Looking for all images within coordinates  [<SkyCoord (ICRS): (ra, dec) in deg\n",
      "    ( 190.,  45.)>, <SkyCoord (ICRS): (ra, dec) in deg\n",
      "    ( 240.,  63.)>]\n",
      "950 images found in area\n",
      "Creating plots\n",
      "Saving plot to area_W3X_tiles.pdf\n"
     ]
    },
    {
     "data": {
      "image/png": "[encoded data removed]",
      "text/plain": [
       "<matplotlib.figure.Figure at 0x11a0cf390>"
      ]
     },
     "metadata": {},
     "output_type": "display_data"
    },
    {
     "name": "stdout",
     "output_type": "stream",
     "text": [
      "End of program cfis_field_select.py\n"
     ]
    }
   ],
   "source": [
    "%run ~/ShapePipe/scripts/python/cfis_field_select.py \\\n",
    "    -i ~/astro/data/CFIS/tiles/tiles_20171206.txt \\\n",
    "    -b r -t tile -v -m a --area 190deg_45deg_240deg_63deg \\\n",
    "    -o area_W3X_tiles --plot --interactive"
   ]
  },
  {
   "cell_type": "code",
   "execution_count": 11,
   "metadata": {
    "scrolled": false
   },
   "outputs": [
    {
     "name": "stderr",
     "output_type": "stream",
     "text": [
      "/Users/mkilbing/ShapePipe/scripts/python/cfis_field_select.py -i /Users/mkilbing/astro/data/CFIS/tiles/tiles_20171206.txt -b r -t tile -v -m a --area 110deg_40deg_260deg_60deg -o area_eBOSS_QSO_NGC_tiles --plot --interactive "
     ]
    },
    {
     "name": "stdout",
     "output_type": "stream",
     "text": [
      "Start of program cfis_field_select.py\n",
      "3447 image files found in input file '/Users/mkilbing/astro/data/CFIS/tiles/tiles_20171206.txt'\n",
      "Looking for all images within coordinates  [<SkyCoord (ICRS): (ra, dec) in deg\n",
      "    ( 110.,  40.)>, <SkyCoord (ICRS): (ra, dec) in deg\n",
      "    ( 260.,  60.)>]\n",
      "958 images found in area\n",
      "Creating plots\n",
      "Saving plot to area_eBOSS_QSO_NGC_tiles.pdf\n"
     ]
    },
    {
     "name": "stderr",
     "output_type": "stream",
     "text": [
      "\n",
      "/Users/mkilbing/anaconda3/lib/python3.6/site-packages/matplotlib/figure.py:1999: UserWarning: This figure includes Axes that are not compatible with tight_layout, so results might be incorrect.\n",
      "  warnings.warn(\"This figure includes Axes that are not compatible \"\n"
     ]
    },
    {
     "data": {
      "image/png": "[encoded data removed]",
      "text/plain": [
       "<matplotlib.figure.Figure at 0x11a367278>"
      ]
     },
     "metadata": {},
     "output_type": "display_data"
    },
    {
     "name": "stdout",
     "output_type": "stream",
     "text": [
      "End of program cfis_field_select.py\n"
     ]
    }
   ],
   "source": [
    "%run ~/ShapePipe/scripts/python/cfis_field_select.py \\\n",
    "    -i ~/astro/data/CFIS/tiles/tiles_20171206.txt \\\n",
    "    -b r -t tile -v -m a --area 110deg_40deg_260deg_60deg \\\n",
    "    -o area_eBOSS_QSO_NGC_tiles --plot --interactive"
   ]
  },
  {
   "cell_type": "code",
   "execution_count": 8,
   "metadata": {},
   "outputs": [
    {
     "name": "stderr",
     "output_type": "stream",
     "text": [
      "/Users/mkilbing/ShapePipe/scripts/python/cfis_field_select.py -i /Users/mkilbing/astro/data/CFIS/tiles/tiles_20171206.txt -b r -t tile -v -m a --area 130deg_22deg_170deg_34deg -o area_eBOSS25_ELG_tiles --plot --interactive "
     ]
    },
    {
     "name": "stdout",
     "output_type": "stream",
     "text": [
      "Start program cfis_field_select.py\n",
      "3447 image files found in input file '/Users/mkilbing/astro/data/CFIS/tiles/tiles_20171206.txt'\n",
      "Looking for all images within coordinates  [<SkyCoord (ICRS): (ra, dec) in deg\n",
      "    ( 130.,  22.)>, <SkyCoord (ICRS): (ra, dec) in deg\n",
      "    ( 170.,  34.)>]\n",
      "185 images found in area\n",
      "Creating plots\n",
      "Saving plot to area_eBOSS25_ELG_tiles.pdf\n"
     ]
    },
    {
     "name": "stderr",
     "output_type": "stream",
     "text": [
      "\n",
      "/Users/mkilbing/anaconda3/lib/python3.6/site-packages/matplotlib/figure.py:1999: UserWarning: This figure includes Axes that are not compatible with tight_layout, so results might be incorrect.\n",
      "  warnings.warn(\"This figure includes Axes that are not compatible \"\n"
     ]
    },
    {
     "data": {
      "image/png": "[encoded data removed]",
      "text/plain": [
       "<matplotlib.figure.Figure at 0x113ac1e48>"
      ]
     },
     "metadata": {},
     "output_type": "display_data"
    },
    {
     "name": "stdout",
     "output_type": "stream",
     "text": [
      "Finish program cfis_field_select.py\n"
     ]
    }
   ],
   "source": [
    "%run ~/ShapePipe/scripts/python/cfis_field_select.py \\\n",
    "    -i ~/astro/data/CFIS/tiles/tiles_20171206.txt \\\n",
    "    -b r -t tile -v -m a --area 130deg_22deg_170deg_34deg \\\n",
    "    -o area_eBOSS25_ELG_tiles --plot --interactive"
   ]
  },
  {
   "cell_type": "markdown",
   "metadata": {},
   "source": [
    "### Exposures"
   ]
  },
  {
   "cell_type": "code",
   "execution_count": 12,
   "metadata": {
    "scrolled": true
   },
   "outputs": [
    {
     "name": "stderr",
     "output_type": "stream",
     "text": [
      "/Users/mkilbing/ShapePipe/scripts/python/cfis_field_select.py -i /Users/mkilbing/astro/data/CFIS/pitcairn/exposures_coord_20171206.txt -b r -t exposure -v -m a --area 190deg_45deg_240deg_68deg -o area_W3X_exposures --plot --interactive \n"
     ]
    },
    {
     "name": "stdout",
     "output_type": "stream",
     "text": [
      "Start of program cfis_field_select.py\n",
      "4136 image files found in input file '/Users/mkilbing/astro/data/CFIS/pitcairn/exposures_coord_20171206.txt'\n",
      "Looking for all images within coordinates  [<SkyCoord (ICRS): (ra, dec) in deg\n",
      "    ( 190.,  45.)>, <SkyCoord (ICRS): (ra, dec) in deg\n",
      "    ( 240.,  68.)>]\n",
      "768 images found in area\n",
      "Creating plots\n",
      "Saving plot to area_W3X_exposures.pdf\n"
     ]
    },
    {
     "name": "stderr",
     "output_type": "stream",
     "text": [
      "/Users/mkilbing/anaconda3/lib/python3.6/site-packages/matplotlib/figure.py:1999: UserWarning: This figure includes Axes that are not compatible with tight_layout, so results might be incorrect.\n",
      "  warnings.warn(\"This figure includes Axes that are not compatible \"\n"
     ]
    },
    {
     "data": {
      "image/png": "[encoded data removed]",
      "text/plain": [
       "<matplotlib.figure.Figure at 0x11ac65438>"
      ]
     },
     "metadata": {},
     "output_type": "display_data"
    },
    {
     "name": "stdout",
     "output_type": "stream",
     "text": [
      "End of program cfis_field_select.py\n"
     ]
    }
   ],
   "source": [
    "%run ~/ShapePipe/scripts/python/cfis_field_select.py \\\n",
    "    -i ~/astro/data/CFIS/pitcairn/exposures_coord_20171206.txt \\\n",
    "    -b r -t exposure -v -m a --area 190deg_45deg_240deg_68deg \\\n",
    "    -o area_W3X_exposures --plot --interactive"
   ]
  },
  {
   "cell_type": "code",
   "execution_count": 18,
   "metadata": {
    "scrolled": true
   },
   "outputs": [
    {
     "name": "stderr",
     "output_type": "stream",
     "text": [
      "/Users/mkilbing/ShapePipe/scripts/python/cfis_field_select.py -i /Users/mkilbing/astro/data/CFIS/pitcairn/MCLOG-CFIS.r.qso-elx_20171226.log -b r -t exposure -v -m a --area 110deg_40deg_260deg_60deg -o area_eBOSS_QSO_NGC_exposures --plot"
     ]
    },
    {
     "name": "stdout",
     "output_type": "stream",
     "text": [
      "Start of program cfis_field_select.py\n"
     ]
    },
    {
     "name": "stderr",
     "output_type": "stream",
     "text": [
      " --interactive \n",
      "/Users/mkilbing/anaconda3/lib/python3.6/re.py:212: FutureWarning: split() requires a non-empty pattern match.\n",
      "  return _compile(pattern, flags).split(string, maxsplit)\n"
     ]
    },
    {
     "name": "stdout",
     "output_type": "stream",
     "text": [
      "4941 image files found in input file '/Users/mkilbing/astro/data/CFIS/pitcairn/MCLOG-CFIS.r.qso-elx_20171226.log'\n",
      "Looking for all images within coordinates  [<SkyCoord (ICRS): (ra, dec) in deg\n",
      "    ( 110.,  40.)>, <SkyCoord (ICRS): (ra, dec) in deg\n",
      "    ( 260.,  60.)>]\n",
      "1260 images found in area\n",
      "Creating plots\n",
      "Saving plot to area_eBOSS_QSO_NGC_exposures.pdf\n"
     ]
    },
    {
     "name": "stderr",
     "output_type": "stream",
     "text": [
      "/Users/mkilbing/anaconda3/lib/python3.6/site-packages/matplotlib/figure.py:1999: UserWarning: This figure includes Axes that are not compatible with tight_layout, so results might be incorrect.\n",
      "  warnings.warn(\"This figure includes Axes that are not compatible \"\n"
     ]
    },
    {
     "data": {
      "image/png": "[encoded data removed]",
      "text/plain": [
       "<matplotlib.figure.Figure at 0x110de9cc0>"
      ]
     },
     "metadata": {},
     "output_type": "display_data"
    },
    {
     "name": "stdout",
     "output_type": "stream",
     "text": [
      "End of program cfis_field_select.py\n"
     ]
    }
   ],
   "source": [
    "%run ~/ShapePipe/scripts/python/cfis_field_select.py \\\n",
    "    -i ~/astro/data/CFIS/pitcairn/MCLOG-CFIS.r.qso-elx_20171226.log \\\n",
    "    -b r -t exposure -v -m a --area 110deg_40deg_260deg_60deg \\\n",
    "    -o area_eBOSS_QSO_NGC_exposures --plot --interactive"
   ]
  },
  {
   "cell_type": "code",
   "execution_count": 19,
   "metadata": {},
   "outputs": [
    {
     "name": "stderr",
     "output_type": "stream",
     "text": [
      "/Users/mkilbing/ShapePipe/scripts/python/cfis_field_select.py -i /Users/mkilbing/astro/data/CFIS/pitcairn/MCLOG-CFIS.r.qso-elx_20171226.log -b r -t exposure -v -m a --area 130deg_22deg_170deg_34deg"
     ]
    },
    {
     "name": "stdout",
     "output_type": "stream",
     "text": [
      "Start of program cfis_field_select.py\n"
     ]
    },
    {
     "name": "stderr",
     "output_type": "stream",
     "text": [
      " -o area_eBOSS25_ELG_exposures --plot --interactive \n",
      "/Users/mkilbing/anaconda3/lib/python3.6/re.py:212: FutureWarning: split() requires a non-empty pattern match.\n",
      "  return _compile(pattern, flags).split(string, maxsplit)\n"
     ]
    },
    {
     "name": "stdout",
     "output_type": "stream",
     "text": [
      "4941 image files found in input file '/Users/mkilbing/astro/data/CFIS/pitcairn/MCLOG-CFIS.r.qso-elx_20171226.log'\n",
      "Looking for all images within coordinates  [<SkyCoord (ICRS): (ra, dec) in deg\n",
      "    ( 130.,  22.)>, <SkyCoord (ICRS): (ra, dec) in deg\n",
      "    ( 170.,  34.)>]\n",
      "125 images found in area\n",
      "Creating plots\n",
      "Saving plot to area_eBOSS25_ELG_exposures.pdf\n"
     ]
    },
    {
     "name": "stderr",
     "output_type": "stream",
     "text": [
      "/Users/mkilbing/anaconda3/lib/python3.6/site-packages/matplotlib/figure.py:1999: UserWarning: This figure includes Axes that are not compatible with tight_layout, so results might be incorrect.\n",
      "  warnings.warn(\"This figure includes Axes that are not compatible \"\n"
     ]
    },
    {
     "data": {
      "image/png": "[encoded data removed]",
      "text/plain": [
       "<matplotlib.figure.Figure at 0x11b3b1400>"
      ]
     },
     "metadata": {},
     "output_type": "display_data"
    },
    {
     "name": "stdout",
     "output_type": "stream",
     "text": [
      "End of program cfis_field_select.py\n"
     ]
    }
   ],
   "source": [
    "%run ~/ShapePipe/scripts/python/cfis_field_select.py \\\n",
    "    -i ~/astro/data/CFIS/pitcairn/MCLOG-CFIS.r.qso-elx_20171226.log \\\n",
    "    -b r -t exposure -v -m a --area 130deg_22deg_170deg_34deg \\\n",
    "    -o area_eBOSS25_ELG_exposures --plot --interactive"
   ]
  },
  {
   "cell_type": "markdown",
   "metadata": {},
   "source": [
    "## Fields for first pipeline run"
   ]
  },
  {
   "cell_type": "markdown",
   "metadata": {},
   "source": [
    "Select eBOSS QSO North area."
   ]
  },
  {
   "cell_type": "code",
   "execution_count": 20,
   "metadata": {},
   "outputs": [
    {
     "name": "stderr",
     "output_type": "stream",
     "text": [
      "/Users/mkilbing/ShapePipe/scripts/python/cfis_field_select.py -i /Users/mkilbing/astro/data/CFIS/pitcairn/MCLOG-CFIS.r.qso-elx_20171226.log -b r -t exposure -v -m a --area 200deg_45deg_220deg_52deg -o area_eBOSS_QSO_NGC_1_exposures --plot --interactive \n"
     ]
    },
    {
     "name": "stdout",
     "output_type": "stream",
     "text": [
      "Start of program cfis_field_select.py\n"
     ]
    },
    {
     "name": "stderr",
     "output_type": "stream",
     "text": [
      "/Users/mkilbing/anaconda3/lib/python3.6/re.py:212: FutureWarning: split() requires a non-empty pattern match.\n",
      "  return _compile(pattern, flags).split(string, maxsplit)\n"
     ]
    },
    {
     "name": "stdout",
     "output_type": "stream",
     "text": [
      "4941 image files found in input file '/Users/mkilbing/astro/data/CFIS/pitcairn/MCLOG-CFIS.r.qso-elx_20171226.log'\n",
      "Looking for all images within coordinates  [<SkyCoord (ICRS): (ra, dec) in deg\n",
      "    ( 200.,  45.)>, <SkyCoord (ICRS): (ra, dec) in deg\n",
      "    ( 220.,  52.)>]\n",
      "122 images found in area\n",
      "Creating plots\n",
      "Saving plot to area_eBOSS_QSO_NGC_1_exposures.pdf\n"
     ]
    },
    {
     "name": "stderr",
     "output_type": "stream",
     "text": [
      "/Users/mkilbing/anaconda3/lib/python3.6/site-packages/matplotlib/figure.py:1999: UserWarning: This figure includes Axes that are not compatible with tight_layout, so results might be incorrect.\n",
      "  warnings.warn(\"This figure includes Axes that are not compatible \"\n"
     ]
    },
    {
     "data": {
      "image/png": "[encoded data removed]",
      "text/plain": [
       "<matplotlib.figure.Figure at 0x11b463320>"
      ]
     },
     "metadata": {},
     "output_type": "display_data"
    },
    {
     "name": "stdout",
     "output_type": "stream",
     "text": [
      "End of program cfis_field_select.py\n"
     ]
    }
   ],
   "source": [
    "%run ~/ShapePipe/scripts/python/cfis_field_select.py \\\n",
    "    -i ~/astro/data/CFIS/pitcairn/MCLOG-CFIS.r.qso-elx_20171226.log \\\n",
    "    -b r -t exposure -v -m a --area 200deg_45deg_220deg_52deg \\\n",
    "    -o area_eBOSS_QSO_NGC_1_exposures --plot --interactive"
   ]
  },
  {
   "cell_type": "markdown",
   "metadata": {},
   "source": [
    "Choose four tiles:"
   ]
  },
  {
   "cell_type": "code",
   "execution_count": 13,
   "metadata": {},
   "outputs": [
    {
     "name": "stdout",
     "output_type": "stream",
     "text": [
      "# name ra[degree] dec[degree] validation\n",
      "CFIS.264.280.r.fits 205.3555451455744 50.0 Unknown\n"
     ]
    }
   ],
   "source": [
    "%run ~/ShapePipe/scripts/python/cfis_field_select.py -i ~/astro/data/CFIS/tiles/tiles_20171206.txt -b r -t tile -m n --coord 205deg_50deg"
   ]
  },
  {
   "cell_type": "code",
   "execution_count": 14,
   "metadata": {},
   "outputs": [
    {
     "name": "stdout",
     "output_type": "stream",
     "text": [
      "# name ra[degree] dec[degree] validation\n",
      "CFIS.265.280.r.fits 206.1334070590046 50.0 Unknown\n"
     ]
    }
   ],
   "source": [
    "%run ~/ShapePipe/scripts/python/cfis_field_select.py -i ~/astro/data/CFIS/tiles/tiles_20171206.txt -b r -t tile -m n --coord 206deg_50deg"
   ]
  },
  {
   "cell_type": "code",
   "execution_count": 15,
   "metadata": {},
   "outputs": [
    {
     "name": "stdout",
     "output_type": "stream",
     "text": [
      "# name ra[degree] dec[degree] validation\n",
      "CFIS.258.282.r.fits 204.98302904948167 51.0 Unknown\n"
     ]
    }
   ],
   "source": [
    "%run ~/ShapePipe/scripts/python/cfis_field_select.py -i ~/astro/data/CFIS/tiles/tiles_20171206.txt -b r -t tile -m n --coord 205deg_51deg"
   ]
  },
  {
   "cell_type": "code",
   "execution_count": 16,
   "metadata": {},
   "outputs": [
    {
     "name": "stdout",
     "output_type": "stream",
     "text": [
      "# name ra[degree] dec[degree] validation\n",
      "CFIS.259.282.r.fits 205.77753691401455 51.0 Unknown\n"
     ]
    }
   ],
   "source": [
    "%run ~/ShapePipe/scripts/python/cfis_field_select.py -i ~/astro/data/CFIS/tiles/tiles_20171206.txt -b r -t tile -m n --coord 206deg_51deg"
   ]
  },
  {
   "cell_type": "code",
   "execution_count": null,
   "metadata": {
    "collapsed": true
   },
   "outputs": [],
   "source": []
  }
 ],
 "metadata": {
  "kernelspec": {
   "display_name": "Python 3",
   "language": "python",
   "name": "python3"
  },
  "language_info": {
   "codemirror_mode": {
    "name": "ipython",
    "version": 3
   },
   "file_extension": ".py",
   "mimetype": "text/x-python",
   "name": "python",
   "nbconvert_exporter": "python",
   "pygments_lexer": "ipython3",
   "version": "3.6.3"
  }
 },
 "nbformat": 4,
 "nbformat_minor": 2
}
