{
 "cells": [
  {
   "cell_type": "markdown",
   "metadata": {},
   "source": [
    "# CFIS field selection"
   ]
  },
  {
   "cell_type": "markdown",
   "metadata": {},
   "source": [
    "## Number search: Return image number for given coordinates"
   ]
  },
  {
   "cell_type": "markdown",
   "metadata": {},
   "source": [
    "The coordinates is a white-space or '_'-separated string, the format is astropy.coordinates.Angle"
   ]
  },
  {
   "cell_type": "code",
   "execution_count": 1,
   "metadata": {},
   "outputs": [
    {
     "name": "stderr",
     "output_type": "stream",
     "text": [
      "/Users/mkilbing/ShapePipe/scripts/python/cfis_field_select.py -i /Users/mkilbing/astro/data/CFIS/tiles/ls_20171206.txt -b r -t tiles -v -m n --coord 10:44:00.0hours_30:00:00degrees \n"
     ]
    },
    {
     "name": "stdout",
     "output_type": "stream",
     "text": [
      "Start program cfis_field_select.py\n",
      "3447 image files found in input file '/Users/mkilbing/astro/data/CFIS/tiles/ls_20171206.txt'\n",
      "Looking for image at coordinates 10.733333333333333 hourangle, 30.0 deg\n",
      "# name\n",
      "CFIS.279.240.r.fits\n",
      "Finish program cfis_field_select.py\n"
     ]
    }
   ],
   "source": [
    "%run ~/ShapePipe/scripts/python/cfis_field_select.py -i ~/astro/data/CFIS/tiles/ls_20171206.txt \\\n",
    "    -b r -t tiles -v -m n --coord 10:44:00.0hours_30:00:00degrees"
   ]
  },
  {
   "cell_type": "markdown",
   "metadata": {},
   "source": [
    "## Coordinate search: Return image coordinate for given image number"
   ]
  },
  {
   "cell_type": "code",
   "execution_count": 2,
   "metadata": {},
   "outputs": [
    {
     "name": "stderr",
     "output_type": "stream",
     "text": [
      "/Users/mkilbing/ShapePipe/scripts/python/cfis_field_select.py -i /Users/mkilbing/astro/data/CFIS/tiles/ls_20171206.txt -b r -t tiles -v -m c --number 243_293 \n"
     ]
    },
    {
     "name": "stdout",
     "output_type": "stream",
     "text": [
      "Start program cfis_field_select.py\n",
      "3447 image files found in input file '/Users/mkilbing/astro/data/CFIS/tiles/ls_20171206.txt'\n",
      "Looking for coordinates for tile with numbers (243,293)\n",
      "# ra[degree] dec[degree]\n",
      "220.13382547883694 56.5\n",
      "Finish program cfis_field_select.py\n"
     ]
    }
   ],
   "source": [
    "%run ~/ShapePipe/scripts/python/cfis_field_select.py -i ~/astro/data/CFIS/tiles/ls_20171206.txt \\\n",
    "    -b r -t tiles -v -m c --number 243_293"
   ]
  },
  {
   "cell_type": "markdown",
   "metadata": {},
   "source": [
    "## Area search: Return images within area"
   ]
  },
  {
   "cell_type": "code",
   "execution_count": 5,
   "metadata": {
    "collapsed": true
   },
   "outputs": [],
   "source": [
    "%matplotlib inline"
   ]
  },
  {
   "cell_type": "code",
   "execution_count": 6,
   "metadata": {
    "scrolled": true
   },
   "outputs": [
    {
     "name": "stderr",
     "output_type": "stream",
     "text": [
      "/Users/mkilbing/ShapePipe/scripts/python/cfis_field_select.py -i /Users/mkilbing/astro/data/CFIS/tiles/ls_20171206.txt -b r -t tiles -v -m a --area 190deg_45deg_240deg_63deg -o area_W3X --plot "
     ]
    },
    {
     "name": "stdout",
     "output_type": "stream",
     "text": [
      "Start program cfis_field_select.py\n",
      "3447 image files found in input file '/Users/mkilbing/astro/data/CFIS/tiles/ls_20171206.txt'\n",
      "Looking for all images within coordinates  [<SkyCoord (ICRS): (ra, dec) in deg\n",
      "    ( 190.,  45.)>, <SkyCoord (ICRS): (ra, dec) in deg\n",
      "    ( 240.,  63.)>]\n",
      "950 images found in area\n",
      "Creating plots\n",
      "Saving plot to area_W3X.pdf\n",
      "Finish program cfis_field_select.py\n"
     ]
    },
    {
     "name": "stderr",
     "output_type": "stream",
     "text": [
      "\n"
     ]
    }
   ],
   "source": [
    "%run ~/ShapePipe/scripts/python/cfis_field_select.py -i ~/astro/data/CFIS/tiles/ls_20171206.txt \\\n",
    "    -b r -t tiles -v -m a --area 190deg_45deg_240deg_63deg -o area_W3X --plot"
   ]
  },
  {
   "cell_type": "code",
   "execution_count": 8,
   "metadata": {
    "collapsed": true
   },
   "outputs": [],
   "source": [
    "from astropy.coordinates import SkyCoord"
   ]
  },
  {
   "cell_type": "code",
   "execution_count": 27,
   "metadata": {
    "collapsed": true
   },
   "outputs": [],
   "source": [
    "c = SkyCoord('129deg', '-30deg')\n",
    "d = SkyCoord('1deg', '30deg')"
   ]
  },
  {
   "cell_type": "code",
   "execution_count": 34,
   "metadata": {
    "collapsed": true
   },
   "outputs": [],
   "source": [
    "x = [c.ra, c.dec, d.ra, d.dec]\n"
   ]
  },
  {
   "cell_type": "code",
   "execution_count": 36,
   "metadata": {},
   "outputs": [
    {
     "data": {
      "text/plain": [
       "[129.0, -30.0, 1.0, 30.0]"
      ]
     },
     "execution_count": 36,
     "metadata": {},
     "output_type": "execute_result"
    }
   ],
   "source": [
    "[getattr(i, 'degree') for i in x]"
   ]
  },
  {
   "cell_type": "code",
   "execution_count": null,
   "metadata": {
    "collapsed": true
   },
   "outputs": [],
   "source": []
  }
 ],
 "metadata": {
  "kernelspec": {
   "display_name": "Python 3",
   "language": "python",
   "name": "python3"
  },
  "language_info": {
   "codemirror_mode": {
    "name": "ipython",
    "version": 3
   },
   "file_extension": ".py",
   "mimetype": "text/x-python",
   "name": "python",
   "nbconvert_exporter": "python",
   "pygments_lexer": "ipython3",
   "version": "3.6.3"
  }
 },
 "nbformat": 4,
 "nbformat_minor": 2
}
