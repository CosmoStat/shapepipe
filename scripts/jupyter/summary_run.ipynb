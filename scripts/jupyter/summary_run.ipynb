{
 "cells": [
  {
   "cell_type": "code",
   "execution_count": 1,
   "id": "130112a4-f2ca-4d26-b884-d8b054676f9c",
   "metadata": {
    "tags": []
   },
   "outputs": [],
   "source": [
    "%load_ext autoreload\n",
    "%autoreload 3\n",
    "%reload_ext autoreload"
   ]
  },
  {
   "cell_type": "code",
   "execution_count": 2,
   "id": "196beca5-10a1-4cf5-9462-be145167cc70",
   "metadata": {
    "tags": []
   },
   "outputs": [],
   "source": [
    "import shapepipe\n",
    "from shapepipe.utilities.summary import *"
   ]
  },
  {
   "cell_type": "code",
   "execution_count": 3,
   "id": "ca63c72d-212c-463e-a792-71efbac0b908",
   "metadata": {
    "tags": []
   },
   "outputs": [],
   "source": [
    "# Setting\n",
    "patch = \"P7\"\n",
    "\n",
    "verbose = False"
   ]
  },
  {
   "cell_type": "code",
   "execution_count": 4,
   "id": "dcb5604c-d61f-4705-8295-63875455cadb",
   "metadata": {
    "tags": []
   },
   "outputs": [],
   "source": [
    "# Load parameters\n",
    "%run ~/shapepipe/scripts/python/summary_params_pre_v2"
   ]
  },
  {
   "cell_type": "code",
   "execution_count": 5,
   "id": "e69b7dab-1fea-4fcc-a8d9-0720e1d628c3",
   "metadata": {
    "tags": []
   },
   "outputs": [
    {
     "name": "stderr",
     "output_type": "stream",
     "text": [
      "Checking main directory = /arc/home/kilbinger/cosmostat/v2/pre_v2/psfex/P7\n"
     ]
    },
    {
     "name": "stdout",
     "output_type": "stream",
     "text": [
      "Set job info for patch P7\n"
     ]
    }
   ],
   "source": [
    "jobs, list_tile_IDs = set_jobs_v2_pre_v2(patch, verbose)"
   ]
  },
  {
   "cell_type": "code",
   "execution_count": 6,
   "id": "2c3a9dde-cf88-493f-926e-7ae7e8e10916",
   "metadata": {
    "tags": []
   },
   "outputs": [],
   "source": [
    "# Initialize runtime dicionary.\n",
    "par_runtime = init_par_runtime(list_tile_IDs)"
   ]
  },
  {
   "cell_type": "code",
   "execution_count": 7,
   "id": "1e9c1487-3cec-4394-9fcf-c12e92a0f984",
   "metadata": {
    "tags": []
   },
   "outputs": [],
   "source": [
    "# No effect in notebook\n",
    "#print_par_runtime(par_runtime, verbose=verbose)"
   ]
  },
  {
   "cell_type": "code",
   "execution_count": 8,
   "id": "b7c63a22-ead1-4d6a-b081-a74ade515439",
   "metadata": {
    "tags": []
   },
   "outputs": [
    {
     "name": "stderr",
     "output_type": "stream",
     "text": [
      "module                          expected     found   miss_expl missing uniq_miss  fr_found\n",
      "====================================================================================================\n"
     ]
    }
   ],
   "source": [
    "# Start program\n",
    "job_data.print_stats_header()"
   ]
  },
  {
   "cell_type": "code",
   "execution_count": 9,
   "id": "4720ae18-0633-4646-b392-b1b24e0294c3",
   "metadata": {
    "tags": []
   },
   "outputs": [
    {
     "name": "stderr",
     "output_type": "stream",
     "text": [
      " (Job 1)\n",
      "get_images_runner_run_1              462       462         0         0       0.0    100.0%\n",
      "find_exposures_runner                231       231         0         0       0.0    100.0%\n",
      "get_images_runner_run_2              537         0         0       537     179.0      0.0%\n"
     ]
    }
   ],
   "source": [
    "for key in \"1\":\n",
    "    jobs[key].print_intro()\n",
    "    jobs[key].check_numbers(par_runtime=par_runtime, indices=[0, 1])\n",
    "\n",
    "    all_exposures = get_all_exposures(jobs[key]._paths_in_dir[1], verbose=verbose)\n",
    "    par_runtime[\"n_exposures\"] = len(all_exposures)\n",
    "    par_runtime[\"list_exposures\"] = all_exposures\n",
    "\n",
    "    jobs[key].check_numbers(par_runtime, indices=[2])"
   ]
  },
  {
   "cell_type": "code",
   "execution_count": 10,
   "id": "f149f404-64e7-4d92-8f54-f300ed620130",
   "metadata": {
    "tags": []
   },
   "outputs": [],
   "source": [
    "# Update runtime dictionary with numbers of exposures\n",
    "par_runtime = update_par_runtime_after_find_exp(par_runtime, all_exposures)"
   ]
  },
  {
   "cell_type": "code",
   "execution_count": 12,
   "id": "78a9065f-8983-41cf-a34c-21892fc52dd2",
   "metadata": {
    "tags": []
   },
   "outputs": [],
   "source": [
    "# Get all keys after \"1\"\n",
    "keys = sorted(jobs.keys(), key=int)\n",
    "_ = keys.pop(0)"
   ]
  },
  {
   "cell_type": "code",
   "execution_count": 13,
   "id": "79e39954-1155-4ca3-b0b2-64bc5670db53",
   "metadata": {
    "tags": []
   },
   "outputs": [
    {
     "name": "stderr",
     "output_type": "stream",
     "text": [
      " (Job 2)\n",
      "uncompress_fits_runner              1268      1268         0         0       0.0    100.0%\n",
      "merge_headers_runner                   0         0         0         0       0.0    100.0%\n",
      "split_exp_runner                  137940    137940         0         0       0.0    100.0%\n",
      " (Job 4)\n",
      "mask_runner                         1268      1268         0         0       0.0    100.0%\n",
      " (Job 8)\n",
      "mask_runner                        45600     45600         0         0       0.0    100.0%\n",
      " (Job 16)\n",
      "sextractor_runner                   2536      2536         0         0       0.0    100.0%\n",
      " (Job 32)\n",
      "sextractor_runner                  91200     91200         0         0       0.0    100.0%\n",
      "setools_runner                     91200     91032         0       168      84.0     99.8%\n",
      "psfex_runner                       91200     91032         0       168      84.0     99.8%\n",
      " (Job 64)\n",
      "psfex_interp_runner                 1268      1268         0         0       0.0    100.0%\n",
      "vignetmaker_runner_run_1            1268      1268         0         0       0.0    100.0%\n",
      "spread_model_runner                 1268      1268         0         0       0.0    100.0%\n",
      "vignetmaker_runner_run_2            5072      5072         0         0       0.0    100.0%\n",
      " (Job 128)\n",
      "ngmix_runner                        1268      1225         0        43      43.0     96.6%\n",
      "ngmix_runner                        1268      1216         0        52      52.0     95.9%\n",
      "ngmix_runner                        1268      1216         0        52      52.0     95.9%\n",
      "ngmix_runner                        1268      1217         0        51      51.0     96.0%\n",
      "ngmix_runner                        1268      1228         0        40      40.0     96.8%\n",
      "ngmix_runner                        1268      1216         0        52      52.0     95.9%\n",
      "ngmix_runner                        1268      1216         0        52      52.0     95.9%\n",
      "ngmix_runner                        1268      1216         0        52      52.0     95.9%\n",
      " (Job 256)\n",
      "merge_sep_cats_runner               1268         0         0      1268    1268.0      0.0%\n",
      "make_cat_runner                     1268         0         0      1268    1268.0      0.0%\n",
      " (Job 1024)\n",
      "psfex_interp_runner                45600     41132         0      4468    4468.0     90.2%\n"
     ]
    }
   ],
   "source": [
    "for key in keys:\n",
    "    jobs[key].print_intro()\n",
    "    jobs[key].check_numbers(par_runtime=par_runtime)"
   ]
  },
  {
   "cell_type": "code",
   "execution_count": 65,
   "id": "b3d51a05-ecca-420b-b8b3-1fb2b1ec9fe3",
   "metadata": {
    "tags": []
   },
   "outputs": [
    {
     "name": "stderr",
     "output_type": "stream",
     "text": [
      " (Job 128)\n",
      "ngmix_runner                        1268      1267         0         1       1.0     99.9%\n",
      "ngmix_runner                        1268      1265         0         3       3.0     99.8%\n",
      "ngmix_runner                        1268      1267         0         1       1.0     99.9%\n",
      "ngmix_runner                        1268      1267         0         1       1.0     99.9%\n",
      "ngmix_runner                        1268      1267         0         1       1.0     99.9%\n",
      "ngmix_runner                        1268      1266         0         2       2.0     99.8%\n",
      "ngmix_runner                        1268      1268         0         0       0.0    100.0%\n",
      "ngmix_runner                        1268      1266         0         2       2.0     99.8%\n"
     ]
    }
   ],
   "source": [
    "## Update some runs\n",
    "for key in [\"128\"]:\n",
    "    jobs[key].print_intro()\n",
    "    jobs[key].check_numbers(par_runtime=par_runtime)"
   ]
  },
  {
   "cell_type": "code",
   "execution_count": 64,
   "id": "67b50a61-e3cc-4559-941d-f39c6a200294",
   "metadata": {},
   "outputs": [
    {
     "name": "stderr",
     "output_type": "stream",
     "text": [
      " (Job 128)\n",
      "ngmix_runner                        1268      1267         0         1       1.0     99.9%\n",
      "ngmix_runner                        1268      1265         0         3       3.0     99.8%\n",
      "ngmix_runner                        1268      1267         0         1       1.0     99.9%\n",
      "ngmix_runner                        1268      1267         0         1       1.0     99.9%\n",
      "ngmix_runner                        1268      1267         0         1       1.0     99.9%\n",
      "ngmix_runner                        1268      1266         0         2       2.0     99.8%\n",
      "ngmix_runner                        1268      1268         0         0       0.0    100.0%\n",
      "ngmix_runner                        1268      1266         0         2       2.0     99.8%\n"
     ]
    }
   ],
   "source": [
    "for key in [\"128\"]:\n",
    "    jobs[key].print_intro()\n",
    "    \n",
    "    \n",
    "    jobs[key].check_numbers(par_runtime=par_runtime)"
   ]
  },
  {
   "cell_type": "code",
   "execution_count": 19,
   "id": "affa8293-daf9-4d2b-9215-fe19f8e2c1e2",
   "metadata": {
    "tags": []
   },
   "outputs": [],
   "source": [
    "session = Session()"
   ]
  },
  {
   "cell_type": "code",
   "execution_count": 36,
   "id": "269496d1-cd89-4d13-a5e4-41b897669e22",
   "metadata": {
    "tags": []
   },
   "outputs": [],
   "source": [
    "ids = [session[\"id\"] for session in session.fetch(kind=\"headless\")]"
   ]
  },
  {
   "cell_type": "code",
   "execution_count": 38,
   "id": "80af8dff-98c7-4db4-8bcc-06936e1875cf",
   "metadata": {
    "tags": []
   },
   "outputs": [
    {
     "ename": "RuntimeError",
     "evalue": "This event loop is already running",
     "output_type": "error",
     "traceback": [
      "\u001b[0;31m---------------------------------------------------------------------------\u001b[0m",
      "\u001b[0;31mRuntimeError\u001b[0m                              Traceback (most recent call last)",
      "\u001b[0;32m/tmp/ipykernel_69/559116804.py\u001b[0m in \u001b[0;36m<module>\u001b[0;34m\u001b[0m\n\u001b[0;32m----> 1\u001b[0;31m \u001b[0msession\u001b[0m\u001b[0;34m.\u001b[0m\u001b[0mdestroy\u001b[0m\u001b[0;34m(\u001b[0m\u001b[0mids\u001b[0m\u001b[0;34m[\u001b[0m\u001b[0;36m0\u001b[0m\u001b[0;34m]\u001b[0m\u001b[0;34m)\u001b[0m\u001b[0;34m\u001b[0m\u001b[0;34m\u001b[0m\u001b[0m\n\u001b[0m",
      "\u001b[0;32m~/.local/lib/python3.7/site-packages/skaha/session.py\u001b[0m in \u001b[0;36mdestroy\u001b[0;34m(self, id)\u001b[0m\n\u001b[1;32m    264\u001b[0m             \u001b[0marguments\u001b[0m\u001b[0;34m.\u001b[0m\u001b[0mappend\u001b[0m\u001b[0;34m(\u001b[0m\u001b[0;34m{\u001b[0m\u001b[0;34m\"url\"\u001b[0m\u001b[0;34m:\u001b[0m \u001b[0mself\u001b[0m\u001b[0;34m.\u001b[0m\u001b[0mserver\u001b[0m \u001b[0;34m+\u001b[0m \u001b[0;34m\"/\"\u001b[0m \u001b[0;34m+\u001b[0m \u001b[0mvalue\u001b[0m\u001b[0;34m}\u001b[0m\u001b[0;34m)\u001b[0m\u001b[0;34m\u001b[0m\u001b[0;34m\u001b[0m\u001b[0m\n\u001b[1;32m    265\u001b[0m         \u001b[0mloop\u001b[0m \u001b[0;34m=\u001b[0m \u001b[0mget_event_loop\u001b[0m\u001b[0;34m(\u001b[0m\u001b[0;34m)\u001b[0m\u001b[0;34m\u001b[0m\u001b[0;34m\u001b[0m\u001b[0m\n\u001b[0;32m--> 266\u001b[0;31m         \u001b[0mresults\u001b[0m \u001b[0;34m=\u001b[0m \u001b[0mloop\u001b[0m\u001b[0;34m.\u001b[0m\u001b[0mrun_until_complete\u001b[0m\u001b[0;34m(\u001b[0m\u001b[0mscale\u001b[0m\u001b[0;34m(\u001b[0m\u001b[0mself\u001b[0m\u001b[0;34m.\u001b[0m\u001b[0msession\u001b[0m\u001b[0;34m.\u001b[0m\u001b[0mdelete\u001b[0m\u001b[0;34m,\u001b[0m \u001b[0marguments\u001b[0m\u001b[0;34m)\u001b[0m\u001b[0;34m)\u001b[0m\u001b[0;34m\u001b[0m\u001b[0;34m\u001b[0m\u001b[0m\n\u001b[0m\u001b[1;32m    267\u001b[0m         \u001b[0mresponses\u001b[0m\u001b[0;34m:\u001b[0m \u001b[0mDict\u001b[0m\u001b[0;34m[\u001b[0m\u001b[0mstr\u001b[0m\u001b[0;34m,\u001b[0m \u001b[0mbool\u001b[0m\u001b[0;34m]\u001b[0m \u001b[0;34m=\u001b[0m \u001b[0;34m{\u001b[0m\u001b[0;34m}\u001b[0m\u001b[0;34m\u001b[0m\u001b[0;34m\u001b[0m\u001b[0m\n\u001b[1;32m    268\u001b[0m         \u001b[0;32mfor\u001b[0m \u001b[0mindex\u001b[0m\u001b[0;34m,\u001b[0m \u001b[0midentity\u001b[0m \u001b[0;32min\u001b[0m \u001b[0menumerate\u001b[0m\u001b[0;34m(\u001b[0m\u001b[0mid\u001b[0m\u001b[0;34m)\u001b[0m\u001b[0;34m:\u001b[0m\u001b[0;34m\u001b[0m\u001b[0;34m\u001b[0m\u001b[0m\n",
      "\u001b[0;32m/opt/conda/lib/python3.7/asyncio/base_events.py\u001b[0m in \u001b[0;36mrun_until_complete\u001b[0;34m(self, future)\u001b[0m\n\u001b[1;32m    561\u001b[0m         \"\"\"\n\u001b[1;32m    562\u001b[0m         \u001b[0mself\u001b[0m\u001b[0;34m.\u001b[0m\u001b[0m_check_closed\u001b[0m\u001b[0;34m(\u001b[0m\u001b[0;34m)\u001b[0m\u001b[0;34m\u001b[0m\u001b[0;34m\u001b[0m\u001b[0m\n\u001b[0;32m--> 563\u001b[0;31m         \u001b[0mself\u001b[0m\u001b[0;34m.\u001b[0m\u001b[0m_check_runnung\u001b[0m\u001b[0;34m(\u001b[0m\u001b[0;34m)\u001b[0m\u001b[0;34m\u001b[0m\u001b[0;34m\u001b[0m\u001b[0m\n\u001b[0m\u001b[1;32m    564\u001b[0m \u001b[0;34m\u001b[0m\u001b[0m\n\u001b[1;32m    565\u001b[0m         \u001b[0mnew_task\u001b[0m \u001b[0;34m=\u001b[0m \u001b[0;32mnot\u001b[0m \u001b[0mfutures\u001b[0m\u001b[0;34m.\u001b[0m\u001b[0misfuture\u001b[0m\u001b[0;34m(\u001b[0m\u001b[0mfuture\u001b[0m\u001b[0;34m)\u001b[0m\u001b[0;34m\u001b[0m\u001b[0;34m\u001b[0m\u001b[0m\n",
      "\u001b[0;32m/opt/conda/lib/python3.7/asyncio/base_events.py\u001b[0m in \u001b[0;36m_check_runnung\u001b[0;34m(self)\u001b[0m\n\u001b[1;32m    521\u001b[0m     \u001b[0;32mdef\u001b[0m \u001b[0m_check_runnung\u001b[0m\u001b[0;34m(\u001b[0m\u001b[0mself\u001b[0m\u001b[0;34m)\u001b[0m\u001b[0;34m:\u001b[0m\u001b[0;34m\u001b[0m\u001b[0;34m\u001b[0m\u001b[0m\n\u001b[1;32m    522\u001b[0m         \u001b[0;32mif\u001b[0m \u001b[0mself\u001b[0m\u001b[0;34m.\u001b[0m\u001b[0mis_running\u001b[0m\u001b[0;34m(\u001b[0m\u001b[0;34m)\u001b[0m\u001b[0;34m:\u001b[0m\u001b[0;34m\u001b[0m\u001b[0;34m\u001b[0m\u001b[0m\n\u001b[0;32m--> 523\u001b[0;31m             \u001b[0;32mraise\u001b[0m \u001b[0mRuntimeError\u001b[0m\u001b[0;34m(\u001b[0m\u001b[0;34m'This event loop is already running'\u001b[0m\u001b[0;34m)\u001b[0m\u001b[0;34m\u001b[0m\u001b[0;34m\u001b[0m\u001b[0m\n\u001b[0m\u001b[1;32m    524\u001b[0m         \u001b[0;32mif\u001b[0m \u001b[0mevents\u001b[0m\u001b[0;34m.\u001b[0m\u001b[0m_get_running_loop\u001b[0m\u001b[0;34m(\u001b[0m\u001b[0;34m)\u001b[0m \u001b[0;32mis\u001b[0m \u001b[0;32mnot\u001b[0m \u001b[0;32mNone\u001b[0m\u001b[0;34m:\u001b[0m\u001b[0;34m\u001b[0m\u001b[0;34m\u001b[0m\u001b[0m\n\u001b[1;32m    525\u001b[0m             raise RuntimeError(\n",
      "\u001b[0;31mRuntimeError\u001b[0m: This event loop is already running"
     ]
    }
   ],
   "source": [
    "session.destroy(ids[0])"
   ]
  },
  {
   "cell_type": "code",
   "execution_count": null,
   "id": "66a3ed14-8aaf-4028-b933-10ecb7376d68",
   "metadata": {},
   "outputs": [],
   "source": []
  }
 ],
 "metadata": {
  "kernelspec": {
   "display_name": "Python 3 (ipykernel)",
   "language": "python",
   "name": "python3"
  },
  "language_info": {
   "codemirror_mode": {
    "name": "ipython",
    "version": 3
   },
   "file_extension": ".py",
   "mimetype": "text/x-python",
   "name": "python",
   "nbconvert_exporter": "python",
   "pygments_lexer": "ipython3",
   "version": "3.7.12"
  }
 },
 "nbformat": 4,
 "nbformat_minor": 5
}
