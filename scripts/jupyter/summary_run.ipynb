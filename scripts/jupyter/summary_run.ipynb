{
 "cells": [
  {
   "cell_type": "code",
   "execution_count": 17,
   "id": "130112a4-f2ca-4d26-b884-d8b054676f9c",
   "metadata": {
    "tags": []
   },
   "outputs": [
    {
     "name": "stdout",
     "output_type": "stream",
     "text": [
      "The autoreload extension is already loaded. To reload it, use:\n",
      "  %reload_ext autoreload\n"
     ]
    }
   ],
   "source": [
    "%load_ext autoreload\n",
    "%autoreload 2"
   ]
  },
  {
   "cell_type": "code",
   "execution_count": 18,
   "id": "196beca5-10a1-4cf5-9462-be145167cc70",
   "metadata": {
    "tags": []
   },
   "outputs": [],
   "source": [
    "import shapepipe\n",
    "from shapepipe.utilities.summary import *"
   ]
  },
  {
   "cell_type": "code",
   "execution_count": 19,
   "id": "ca63c72d-212c-463e-a792-71efbac0b908",
   "metadata": {
    "tags": []
   },
   "outputs": [],
   "source": [
    "# Setting\n",
    "patch = \"P1\"\n",
    "\n",
    "verbose = True"
   ]
  },
  {
   "cell_type": "code",
   "execution_count": 20,
   "id": "dcb5604c-d61f-4705-8295-63875455cadb",
   "metadata": {
    "tags": []
   },
   "outputs": [],
   "source": [
    "# Load parameters\n",
    "%run ~/shapepipe/scripts/python/summary_params_pre_v2 {patch}"
   ]
  },
  {
   "cell_type": "code",
   "execution_count": 21,
   "id": "e69b7dab-1fea-4fcc-a8d9-0720e1d628c3",
   "metadata": {
    "tags": []
   },
   "outputs": [
    {
     "name": "stderr",
     "output_type": "stream",
     "text": [
      "Checking main directory = /arc/home/kilbinger/cosmostat/v2/pre_v2/psfex/P1\n"
     ]
    },
    {
     "name": "stdout",
     "output_type": "stream",
     "text": [
      "Set job info for patch P1\n"
     ]
    }
   ],
   "source": [
    "jobs, list_tile_IDs = set_jobs_v2_pre_v2(patch, verbose)"
   ]
  },
  {
   "cell_type": "code",
   "execution_count": 22,
   "id": "2c3a9dde-cf88-493f-926e-7ae7e8e10916",
   "metadata": {
    "tags": []
   },
   "outputs": [],
   "source": [
    "# Initialize runtime dicionary.\n",
    "par_runtime = init_par_runtime(list_tile_IDs)"
   ]
  },
  {
   "cell_type": "code",
   "execution_count": 23,
   "id": "1e9c1487-3cec-4394-9fcf-c12e92a0f984",
   "metadata": {
    "tags": []
   },
   "outputs": [
    {
     "name": "stderr",
     "output_type": "stream",
     "text": [
      "\n",
      "===========\n",
      "par_runtime\n",
      "-----------\n",
      "n_tile_IDs                       3527\n",
      "list_tile_IDs                   3527 entries\n",
      "===========\n",
      "\n"
     ]
    }
   ],
   "source": [
    "print_par_runtime(par_runtime, verbose=verbose)"
   ]
  },
  {
   "cell_type": "code",
   "execution_count": 25,
   "id": "b7c63a22-ead1-4d6a-b081-a74ade515439",
   "metadata": {
    "tags": []
   },
   "outputs": [
    {
     "name": "stderr",
     "output_type": "stream",
     "text": [
      "module                          expected     found   miss_expl missing uniq_miss  fr_found\n",
      "====================================================================================================\n"
     ]
    }
   ],
   "source": [
    "# Start program\n",
    "job_data.print_stats_header()"
   ]
  },
  {
   "cell_type": "code",
   "execution_count": 27,
   "id": "4720ae18-0633-4646-b392-b1b24e0294c3",
   "metadata": {
    "tags": []
   },
   "outputs": [
    {
     "name": "stderr",
     "output_type": "stream",
     "text": [
      " (Job 1)\n",
      "get_images_runner_run_1             7054      4402         0      2652    1326.0     62.4%\n",
      "find_exposures_runner               3527       875         0      2652    2652.0     24.8%\n"
     ]
    },
    {
     "name": "stdout",
     "output_type": "stream",
     "text": [
      "** module get_images_runner_run_1\n",
      "*** subdirs ['']\n",
      "**** base_and_subdir /arc/home/kilbinger/cosmostat/v2/pre_v2/psfex/P1/output//.\n",
      "Matching entries:  [<DirEntry 'run_sp_Git'>, <DirEntry 'run_sp_GitFeGie_2024-01-16_22-24-51'>]\n",
      "** module find_exposures_runner\n",
      "*** subdirs ['']\n",
      "**** base_and_subdir /arc/home/kilbinger/cosmostat/v2/pre_v2/psfex/P1/output//.\n",
      "Matching entries:  [<DirEntry 'run_sp_Git'>, <DirEntry 'run_sp_GitFeGie_2024-01-16_22-24-51'>]\n"
     ]
    },
    {
     "name": "stderr",
     "output_type": "stream",
     "text": [
      "get_images_runner_run_2             7119      1509         0      5610    1870.0     21.2%\n"
     ]
    },
    {
     "name": "stdout",
     "output_type": "stream",
     "text": [
      "** module get_images_runner_run_2\n",
      "*** subdirs ['']\n",
      "**** base_and_subdir /arc/home/kilbinger/cosmostat/v2/pre_v2/psfex/P1/output//.\n",
      "Matching entries:  [<DirEntry 'run_sp_Git'>, <DirEntry 'run_sp_GitFeGie_2024-01-16_22-24-51'>]\n"
     ]
    }
   ],
   "source": [
    "for key in \"1\":\n",
    "    job = jobs[key]\n",
    "    job.print_intro()\n",
    "    job.check_numbers(par_runtime=par_runtime, indices=[0, 1])\n",
    "\n",
    "    all_exposures = get_all_exposures(job._paths_in_dir[1], verbose=verbose)\n",
    "    par_runtime[\"n_exposures\"] = len(all_exposures)\n",
    "    par_runtime[\"list_exposures\"] = all_exposures\n",
    "\n",
    "    job.check_numbers(par_runtime, indices=[2])"
   ]
  },
  {
   "cell_type": "code",
   "execution_count": 28,
   "id": "f149f404-64e7-4d92-8f54-f300ed620130",
   "metadata": {
    "tags": []
   },
   "outputs": [],
   "source": [
    "# Update runtime dictionary with numbers of exposures\n",
    "par_runtime = update_par_runtime_after_find_exp(par_runtime, all_exposures)"
   ]
  },
  {
   "cell_type": "code",
   "execution_count": 29,
   "id": "607fed1b-005a-4d3a-811c-51b1c5049c19",
   "metadata": {
    "tags": []
   },
   "outputs": [
    {
     "name": "stderr",
     "output_type": "stream",
     "text": [
      "\n",
      "===========\n",
      "par_runtime\n",
      "-----------\n",
      "n_tile_IDs                       3527\n",
      "list_tile_IDs                   3527 entries\n",
      "n_exposures                      2373\n",
      "list_exposures                  2373 entries\n",
      "n_shdus                         94920\n",
      "list_shdus                     94920 entries\n",
      "n_3*n_shdus+n_exposures        287133\n",
      "===========\n",
      "\n"
     ]
    }
   ],
   "source": [
    "print_par_runtime(par_runtime, verbose=verbose)"
   ]
  },
  {
   "cell_type": "code",
   "execution_count": 32,
   "id": "78a9065f-8983-41cf-a34c-21892fc52dd2",
   "metadata": {
    "tags": []
   },
   "outputs": [],
   "source": [
    "# Get all keys after \"1\"\n",
    "keys = sorted(jobs.keys(), key=int)\n",
    "_ = keys.pop(0)"
   ]
  },
  {
   "cell_type": "code",
   "execution_count": 33,
   "id": "79e39954-1155-4ca3-b0b2-64bc5670db53",
   "metadata": {
    "tags": []
   },
   "outputs": [
    {
     "name": "stderr",
     "output_type": "stream",
     "text": [
      " (Job 2)\n",
      "uncompress_fits_runner              1268      1268         0         0       0.0    100.0%\n",
      "merge_headers_runner                   0         0         0         0       0.0    100.0%\n",
      "split_exp_runner                  137940    137940         0         0       0.0    100.0%\n",
      " (Job 4)\n",
      "mask_runner                         1268      1268         0         0       0.0    100.0%\n",
      " (Job 8)\n",
      "mask_runner                        45600     45600         0         0       0.0    100.0%\n",
      " (Job 16)\n"
     ]
    },
    {
     "ename": "KeyboardInterrupt",
     "evalue": "",
     "output_type": "error",
     "traceback": [
      "\u001b[0;31m---------------------------------------------------------------------------\u001b[0m",
      "\u001b[0;31mKeyboardInterrupt\u001b[0m                         Traceback (most recent call last)",
      "\u001b[0;32m/tmp/ipykernel_48/963628441.py\u001b[0m in \u001b[0;36m<module>\u001b[0;34m\u001b[0m\n\u001b[1;32m      2\u001b[0m     \u001b[0mjob\u001b[0m \u001b[0;34m=\u001b[0m \u001b[0mjobs\u001b[0m\u001b[0;34m[\u001b[0m\u001b[0mkey\u001b[0m\u001b[0;34m]\u001b[0m\u001b[0;34m\u001b[0m\u001b[0;34m\u001b[0m\u001b[0m\n\u001b[1;32m      3\u001b[0m     \u001b[0mjob\u001b[0m\u001b[0;34m.\u001b[0m\u001b[0mprint_intro\u001b[0m\u001b[0;34m(\u001b[0m\u001b[0;34m)\u001b[0m\u001b[0;34m\u001b[0m\u001b[0;34m\u001b[0m\u001b[0m\n\u001b[0;32m----> 4\u001b[0;31m     \u001b[0mjob\u001b[0m\u001b[0;34m.\u001b[0m\u001b[0mcheck_numbers\u001b[0m\u001b[0;34m(\u001b[0m\u001b[0mpar_runtime\u001b[0m\u001b[0;34m=\u001b[0m\u001b[0mpar_runtime\u001b[0m\u001b[0;34m)\u001b[0m\u001b[0;34m\u001b[0m\u001b[0;34m\u001b[0m\u001b[0m\n\u001b[0m",
      "\u001b[0;32m~/.local/lib/python3.7/site-packages/shapepipe/utilities/summary.py\u001b[0m in \u001b[0;36mcheck_numbers\u001b[0;34m(self, par_runtime, indices)\u001b[0m\n\u001b[1;32m    603\u001b[0m                 \u001b[0miterable\u001b[0m\u001b[0;34m,\u001b[0m\u001b[0;34m\u001b[0m\u001b[0;34m\u001b[0m\u001b[0m\n\u001b[1;32m    604\u001b[0m                 \u001b[0mmodule\u001b[0m\u001b[0;34m,\u001b[0m\u001b[0;34m\u001b[0m\u001b[0;34m\u001b[0m\u001b[0m\n\u001b[0;32m--> 605\u001b[0;31m                 \u001b[0midx\u001b[0m\u001b[0;34m,\u001b[0m\u001b[0;34m\u001b[0m\u001b[0;34m\u001b[0m\u001b[0m\n\u001b[0m\u001b[1;32m    606\u001b[0m             )\n\u001b[1;32m    607\u001b[0m \u001b[0;34m\u001b[0m\u001b[0m\n",
      "\u001b[0;32m~/.local/lib/python3.7/site-packages/shapepipe/utilities/summary.py\u001b[0m in \u001b[0;36mget_names_in_dir\u001b[0;34m(self, iterable, module, idx)\u001b[0m\n\u001b[1;32m    515\u001b[0m                 \u001b[0mprint\u001b[0m\u001b[0;34m(\u001b[0m\u001b[0;34mf\"**** base_and_subdir {base_and_subdir}\"\u001b[0m\u001b[0;34m)\u001b[0m\u001b[0;34m\u001b[0m\u001b[0;34m\u001b[0m\u001b[0m\n\u001b[1;32m    516\u001b[0m \u001b[0;34m\u001b[0m\u001b[0m\n\u001b[0;32m--> 517\u001b[0;31m             \u001b[0;32mif\u001b[0m \u001b[0mos\u001b[0m\u001b[0;34m.\u001b[0m\u001b[0mpath\u001b[0m\u001b[0;34m.\u001b[0m\u001b[0misdir\u001b[0m\u001b[0;34m(\u001b[0m\u001b[0mbase_and_subdir\u001b[0m\u001b[0;34m)\u001b[0m\u001b[0;34m:\u001b[0m\u001b[0;34m\u001b[0m\u001b[0;34m\u001b[0m\u001b[0m\n\u001b[0m\u001b[1;32m    518\u001b[0m \u001b[0;34m\u001b[0m\u001b[0m\n\u001b[1;32m    519\u001b[0m                 \u001b[0mmatches\u001b[0m \u001b[0;34m=\u001b[0m \u001b[0;34m[\u001b[0m\u001b[0;34m]\u001b[0m\u001b[0;34m\u001b[0m\u001b[0;34m\u001b[0m\u001b[0m\n",
      "\u001b[0;32m/opt/conda/lib/python3.7/genericpath.py\u001b[0m in \u001b[0;36misdir\u001b[0;34m(s)\u001b[0m\n\u001b[1;32m     40\u001b[0m     \u001b[0;34m\"\"\"Return true if the pathname refers to an existing directory.\"\"\"\u001b[0m\u001b[0;34m\u001b[0m\u001b[0;34m\u001b[0m\u001b[0m\n\u001b[1;32m     41\u001b[0m     \u001b[0;32mtry\u001b[0m\u001b[0;34m:\u001b[0m\u001b[0;34m\u001b[0m\u001b[0;34m\u001b[0m\u001b[0m\n\u001b[0;32m---> 42\u001b[0;31m         \u001b[0mst\u001b[0m \u001b[0;34m=\u001b[0m \u001b[0mos\u001b[0m\u001b[0;34m.\u001b[0m\u001b[0mstat\u001b[0m\u001b[0;34m(\u001b[0m\u001b[0ms\u001b[0m\u001b[0;34m)\u001b[0m\u001b[0;34m\u001b[0m\u001b[0;34m\u001b[0m\u001b[0m\n\u001b[0m\u001b[1;32m     43\u001b[0m     \u001b[0;32mexcept\u001b[0m \u001b[0mOSError\u001b[0m\u001b[0;34m:\u001b[0m\u001b[0;34m\u001b[0m\u001b[0;34m\u001b[0m\u001b[0m\n\u001b[1;32m     44\u001b[0m         \u001b[0;32mreturn\u001b[0m \u001b[0;32mFalse\u001b[0m\u001b[0;34m\u001b[0m\u001b[0;34m\u001b[0m\u001b[0m\n",
      "\u001b[0;31mKeyboardInterrupt\u001b[0m: "
     ]
    }
   ],
   "source": [
    "for key in keys:\n",
    "    job = jobs[key]\n",
    "    job.print_intro()\n",
    "    job.check_numbers(par_runtime=par_runtime)"
   ]
  },
  {
   "cell_type": "code",
   "execution_count": 34,
   "id": "8d2243cb-5aa6-4e82-88f6-8689f15e5b61",
   "metadata": {},
   "outputs": [
    {
     "name": "stderr",
     "output_type": "stream",
     "text": [
      " (Job 64)\n",
      "psfex_interp_runner                 1268       945         0       323     323.0     74.5%\n",
      "vignetmaker_runner_run_1            1268       971         0       297     297.0     76.6%\n",
      "spread_model_runner                 1268       173         0      1095    1095.0     13.6%\n",
      "vignetmaker_runner_run_2            5072       690         0      4382    1095.5     13.6%\n"
     ]
    }
   ],
   "source": [
    "# Update some runs\n",
    "for key in [\"64\"]:\n",
    "    job = jobs[key]\n",
    "    job.print_intro()\n",
    "    job.check_numbers(par_runtime=par_runtime)"
   ]
  },
  {
   "cell_type": "code",
   "execution_count": 35,
   "id": "e8a38747-21b7-4f74-b667-62094f17154e",
   "metadata": {},
   "outputs": [
    {
     "name": "stderr",
     "output_type": "stream",
     "text": [
      " (Job 64)\n",
      "psfex_interp_runner                 1268       965         0       303     303.0     76.1%\n",
      "vignetmaker_runner_run_1            1268       993         0       275     275.0     78.3%\n",
      "spread_model_runner                 1268       187         0      1081    1081.0     14.7%\n",
      "vignetmaker_runner_run_2            5072       749         0      4323    1080.8     14.8%\n"
     ]
    }
   ],
   "source": [
    "for key in [\"64\"]:\n",
    "    job = jobs[key]\n",
    "    job.print_intro()\n",
    "    job.check_numbers(par_runtime=par_runtime)"
   ]
  },
  {
   "cell_type": "code",
   "execution_count": null,
   "id": "82cb7e0b-a8fa-4a55-840f-55ec0452bf7f",
   "metadata": {},
   "outputs": [
    {
     "name": "stderr",
     "output_type": "stream",
     "text": [
      " (Job 64)\n"
     ]
    }
   ],
   "source": [
    "for key in [\"64\"]:\n",
    "    job = jobs[key]\n",
    "    job.print_intro()\n",
    "    job.check_numbers(par_runtime=par_runtime)"
   ]
  },
  {
   "cell_type": "code",
   "execution_count": null,
   "id": "c57c576f-b7e8-4735-a047-5b63e245f9a4",
   "metadata": {},
   "outputs": [],
   "source": []
  }
 ],
 "metadata": {
  "kernelspec": {
   "display_name": "Python 3 (ipykernel)",
   "language": "python",
   "name": "python3"
  },
  "language_info": {
   "codemirror_mode": {
    "name": "ipython",
    "version": 3
   },
   "file_extension": ".py",
   "mimetype": "text/x-python",
   "name": "python",
   "nbconvert_exporter": "python",
   "pygments_lexer": "ipython3",
   "version": "3.7.12"
  }
 },
 "nbformat": 4,
 "nbformat_minor": 5
}
