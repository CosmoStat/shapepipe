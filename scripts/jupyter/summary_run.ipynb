{
 "cells": [
  {
   "cell_type": "code",
   "execution_count": 1,
   "id": "130112a4-f2ca-4d26-b884-d8b054676f9c",
   "metadata": {
    "tags": []
   },
   "outputs": [],
   "source": [
    "%load_ext autoreload\n",
    "%autoreload 2"
   ]
  },
  {
   "cell_type": "code",
   "execution_count": 2,
   "id": "196beca5-10a1-4cf5-9462-be145167cc70",
   "metadata": {
    "tags": []
   },
   "outputs": [],
   "source": [
    "import shapepipe\n",
    "from shapepipe.utilities.summary import *"
   ]
  },
  {
   "cell_type": "code",
   "execution_count": 3,
   "id": "ca63c72d-212c-463e-a792-71efbac0b908",
   "metadata": {
    "tags": []
   },
   "outputs": [],
   "source": [
    "# Setting\n",
    "patch = \"P3\"\n",
    "\n",
    "verbose = False"
   ]
  },
  {
   "cell_type": "code",
   "execution_count": 4,
   "id": "dcb5604c-d61f-4705-8295-63875455cadb",
   "metadata": {
    "tags": []
   },
   "outputs": [],
   "source": [
    "# Load parameters\n",
    "%run ~/shapepipe/scripts/python/summary_params_pre_v2 {patch}"
   ]
  },
  {
   "cell_type": "code",
   "execution_count": 5,
   "id": "e69b7dab-1fea-4fcc-a8d9-0720e1d628c3",
   "metadata": {
    "tags": []
   },
   "outputs": [
    {
     "name": "stderr",
     "output_type": "stream",
     "text": [
      "Checking main directory = /arc/home/kilbinger/cosmostat/v2/pre_v2/psfex/P3\n"
     ]
    },
    {
     "name": "stdout",
     "output_type": "stream",
     "text": [
      "Set job info for patch P3\n"
     ]
    }
   ],
   "source": [
    "jobs, list_tile_IDs = set_jobs_v2_pre_v2(patch, verbose)"
   ]
  },
  {
   "cell_type": "code",
   "execution_count": 6,
   "id": "2c3a9dde-cf88-493f-926e-7ae7e8e10916",
   "metadata": {
    "tags": []
   },
   "outputs": [],
   "source": [
    "# Initialize runtime dicionary.\n",
    "par_runtime = init_par_runtime(list_tile_IDs)"
   ]
  },
  {
   "cell_type": "code",
   "execution_count": 7,
   "id": "1e9c1487-3cec-4394-9fcf-c12e92a0f984",
   "metadata": {
    "tags": []
   },
   "outputs": [],
   "source": [
    "print_par_runtime(par_runtime, verbose=verbose)"
   ]
  },
  {
   "cell_type": "code",
   "execution_count": 8,
   "id": "b7c63a22-ead1-4d6a-b081-a74ade515439",
   "metadata": {
    "tags": []
   },
   "outputs": [
    {
     "name": "stderr",
     "output_type": "stream",
     "text": [
      "module                          expected     found   miss_expl missing uniq_miss  fr_found\n",
      "====================================================================================================\n"
     ]
    }
   ],
   "source": [
    "# Start program\n",
    "job_data.print_stats_header()"
   ]
  },
  {
   "cell_type": "code",
   "execution_count": 9,
   "id": "4720ae18-0633-4646-b392-b1b24e0294c3",
   "metadata": {
    "tags": []
   },
   "outputs": [
    {
     "name": "stderr",
     "output_type": "stream",
     "text": [
      " (Job 1)\n",
      "get_images_runner_run_1             2536      2536         0         0       0.0    100.0%\n",
      "find_exposures_runner               1268      1268         0         0       0.0    100.0%\n",
      "get_images_runner_run_2             3420         0         0      3420    1140.0      0.0%\n"
     ]
    }
   ],
   "source": [
    "for key in \"1\":\n",
    "    jobs[key].print_intro()\n",
    "    jobs[key].check_numbers(par_runtime=par_runtime, indices=[0, 1])\n",
    "\n",
    "    all_exposures = get_all_exposures(jobs[key]._paths_in_dir[1], verbose=verbose)\n",
    "    par_runtime[\"n_exposures\"] = len(all_exposures)\n",
    "    par_runtime[\"list_exposures\"] = all_exposures\n",
    "\n",
    "    jobs[key].check_numbers(par_runtime, indices=[2])"
   ]
  },
  {
   "cell_type": "code",
   "execution_count": 10,
   "id": "f149f404-64e7-4d92-8f54-f300ed620130",
   "metadata": {
    "tags": []
   },
   "outputs": [],
   "source": [
    "# Update runtime dictionary with numbers of exposures\n",
    "par_runtime = update_par_runtime_after_find_exp(par_runtime, all_exposures)"
   ]
  },
  {
   "cell_type": "code",
   "execution_count": 11,
   "id": "607fed1b-005a-4d3a-811c-51b1c5049c19",
   "metadata": {
    "tags": []
   },
   "outputs": [],
   "source": [
    "print_par_runtime(par_runtime, verbose=verbose)"
   ]
  },
  {
   "cell_type": "code",
   "execution_count": 12,
   "id": "78a9065f-8983-41cf-a34c-21892fc52dd2",
   "metadata": {
    "tags": []
   },
   "outputs": [],
   "source": [
    "# Get all keys after \"1\"\n",
    "keys = sorted(jobs.keys(), key=int)\n",
    "_ = keys.pop(0)"
   ]
  },
  {
   "cell_type": "code",
   "execution_count": 13,
   "id": "79e39954-1155-4ca3-b0b2-64bc5670db53",
   "metadata": {
    "tags": []
   },
   "outputs": [
    {
     "name": "stderr",
     "output_type": "stream",
     "text": [
      " (Job 2)\n",
      "uncompress_fits_runner              1268      1268         0         0       0.0    100.0%\n",
      "merge_headers_runner                   0         0         0         0       0.0    100.0%\n",
      "split_exp_runner                  137940    137940         0         0       0.0    100.0%\n",
      " (Job 4)\n",
      "mask_runner                         1268      1268         0         0       0.0    100.0%\n",
      " (Job 8)\n",
      "mask_runner                        45600     45600         0         0       0.0    100.0%\n",
      " (Job 16)\n",
      "sextractor_runner                   2536      2536         0         0       0.0    100.0%\n",
      " (Job 32)\n",
      "sextractor_runner                  91200     91200         0         0       0.0    100.0%\n",
      "setools_runner                     91200     91032         0       168      84.0     99.8%\n",
      "psfex_runner                       91200     91032         0       168      84.0     99.8%\n",
      " (Job 33)\n",
      "psfex_interp_runner                45600     41132         0      4468    4468.0     90.2%\n",
      " (Job 64)\n",
      "psfex_interp_runner                 1268      1268         0         0       0.0    100.0%\n",
      "vignetmaker_runner_run_1            1268      1268         0         0       0.0    100.0%\n",
      "spread_model_runner                 1268      1268         0         0       0.0    100.0%\n",
      "vignetmaker_runner_run_2            5072      5072         0         0       0.0    100.0%\n",
      " (Job 128)\n",
      "ngmix_runner                        1268       759         0       509     509.0     59.9%\n",
      "ngmix_runner                        1268       745         0       523     523.0     58.8%\n",
      "ngmix_runner                        1268       755         0       513     513.0     59.5%\n",
      "ngmix_runner                        1268       744         0       524     524.0     58.7%\n",
      "ngmix_runner                        1268       752         0       516     516.0     59.3%\n",
      "ngmix_runner                        1268       750         0       518     518.0     59.1%\n",
      "ngmix_runner                        1268       743         0       525     525.0     58.6%\n",
      "ngmix_runner                        1268       758         0       510     510.0     59.8%\n",
      " (Job 256)\n",
      "merge_sep_cats_runner               1268         0         0      1268    1268.0      0.0%\n",
      "make_cat_runner                     1268         0         0      1268    1268.0      0.0%\n",
      " (Job 1024)\n",
      "psfex_interp_runner                45600     41132         0      4468    4468.0     90.2%\n"
     ]
    }
   ],
   "source": [
    "for key in keys:\n",
    "    jobs[key].print_intro()\n",
    "    jobs[key].check_numbers(par_runtime=par_runtime)"
   ]
  },
  {
   "cell_type": "code",
   "execution_count": null,
   "id": "b3d51a05-ecca-420b-b8b3-1fb2b1ec9fe3",
   "metadata": {
    "tags": []
   },
   "outputs": [
    {
     "name": "stderr",
     "output_type": "stream",
     "text": [
      " (Job 128)\n"
     ]
    }
   ],
   "source": [
    "## Update some runs\n",
    "for key in [\"128\"]:\n",
    "    jobs[key].print_intro()\n",
    "    jobs[key].check_numbers(par_runtime=par_runtime)"
   ]
  },
  {
   "cell_type": "code",
   "execution_count": null,
   "id": "67b50a61-e3cc-4559-941d-f39c6a200294",
   "metadata": {},
   "outputs": [],
   "source": []
  },
  {
   "cell_type": "code",
   "execution_count": null,
   "id": "4d08ba73-0b84-4660-8e19-2b78cbe80618",
   "metadata": {},
   "outputs": [],
   "source": []
  }
 ],
 "metadata": {
  "kernelspec": {
   "display_name": "Python 3 (ipykernel)",
   "language": "python",
   "name": "python3"
  },
  "language_info": {
   "codemirror_mode": {
    "name": "ipython",
    "version": 3
   },
   "file_extension": ".py",
   "mimetype": "text/x-python",
   "name": "python",
   "nbconvert_exporter": "python",
   "pygments_lexer": "ipython3",
   "version": "3.7.12"
  }
 },
 "nbformat": 4,
 "nbformat_minor": 5
}
