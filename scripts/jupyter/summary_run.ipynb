{
 "cells": [
  {
   "cell_type": "code",
   "execution_count": 20,
   "id": "130112a4-f2ca-4d26-b884-d8b054676f9c",
   "metadata": {
    "tags": []
   },
   "outputs": [
    {
     "name": "stdout",
     "output_type": "stream",
     "text": [
      "The autoreload extension is already loaded. To reload it, use:\n",
      "  %reload_ext autoreload\n"
     ]
    }
   ],
   "source": [
    "%load_ext autoreload\n",
    "%autoreload 2"
   ]
  },
  {
   "cell_type": "code",
   "execution_count": 21,
   "id": "196beca5-10a1-4cf5-9462-be145167cc70",
   "metadata": {
    "tags": []
   },
   "outputs": [],
   "source": [
    "import shapepipe\n",
    "from shapepipe.utilities.summary import *"
   ]
  },
  {
   "cell_type": "code",
   "execution_count": 22,
   "id": "ca63c72d-212c-463e-a792-71efbac0b908",
   "metadata": {
    "tags": []
   },
   "outputs": [],
   "source": [
    "# Setting\n",
    "patch = \"P3\"\n",
    "\n",
    "verbose = False"
   ]
  },
  {
   "cell_type": "code",
   "execution_count": 23,
   "id": "dcb5604c-d61f-4705-8295-63875455cadb",
   "metadata": {
    "tags": []
   },
   "outputs": [],
   "source": [
    "# Load parameters\n",
    "%run ~/shapepipe/scripts/python/summary_params_pre_v2 {patch}"
   ]
  },
  {
   "cell_type": "code",
   "execution_count": 24,
   "id": "e69b7dab-1fea-4fcc-a8d9-0720e1d628c3",
   "metadata": {
    "tags": []
   },
   "outputs": [
    {
     "name": "stderr",
     "output_type": "stream",
     "text": [
      "Checking main directory = /arc/home/kilbinger/cosmostat/v2/pre_v2/psfex/P3\n"
     ]
    },
    {
     "name": "stdout",
     "output_type": "stream",
     "text": [
      "Set job info for patch P3\n"
     ]
    }
   ],
   "source": [
    "jobs, list_tile_IDs = set_jobs_v2_pre_v2(patch, verbose)"
   ]
  },
  {
   "cell_type": "code",
   "execution_count": 25,
   "id": "2c3a9dde-cf88-493f-926e-7ae7e8e10916",
   "metadata": {
    "tags": []
   },
   "outputs": [],
   "source": [
    "# Initialize runtime dicionary.\n",
    "par_runtime = init_par_runtime(list_tile_IDs)"
   ]
  },
  {
   "cell_type": "code",
   "execution_count": 26,
   "id": "1e9c1487-3cec-4394-9fcf-c12e92a0f984",
   "metadata": {
    "tags": []
   },
   "outputs": [],
   "source": [
    "print_par_runtime(par_runtime, verbose=verbose)"
   ]
  },
  {
   "cell_type": "code",
   "execution_count": 27,
   "id": "b7c63a22-ead1-4d6a-b081-a74ade515439",
   "metadata": {
    "tags": []
   },
   "outputs": [
    {
     "name": "stderr",
     "output_type": "stream",
     "text": [
      "module                          expected     found   miss_expl missing uniq_miss  fr_found\n",
      "====================================================================================================\n"
     ]
    }
   ],
   "source": [
    "# Start program\n",
    "job_data.print_stats_header()"
   ]
  },
  {
   "cell_type": "code",
   "execution_count": 28,
   "id": "4720ae18-0633-4646-b392-b1b24e0294c3",
   "metadata": {
    "tags": []
   },
   "outputs": [
    {
     "name": "stderr",
     "output_type": "stream",
     "text": [
      " (Job 1)\n",
      "get_images_runner_run_1             2536      2536         0         0       0.0    100.0%\n",
      "find_exposures_runner               1268      1268         0         0       0.0    100.0%\n",
      "get_images_runner_run_2             3420      3420         0         0       0.0    100.0%\n"
     ]
    }
   ],
   "source": [
    "for key in \"1\":\n",
    "    jobs[key].print_intro()\n",
    "    jobs[key].check_numbers(par_runtime=par_runtime, indices=[0, 1])\n",
    "\n",
    "    all_exposures = get_all_exposures(jobs[key]._paths_in_dir[1], verbose=verbose)\n",
    "    par_runtime[\"n_exposures\"] = len(all_exposures)\n",
    "    par_runtime[\"list_exposures\"] = all_exposures\n",
    "\n",
    "    jobs[key].check_numbers(par_runtime, indices=[2])"
   ]
  },
  {
   "cell_type": "code",
   "execution_count": 29,
   "id": "f149f404-64e7-4d92-8f54-f300ed620130",
   "metadata": {
    "tags": []
   },
   "outputs": [],
   "source": [
    "# Update runtime dictionary with numbers of exposures\n",
    "par_runtime = update_par_runtime_after_find_exp(par_runtime, all_exposures)"
   ]
  },
  {
   "cell_type": "code",
   "execution_count": 30,
   "id": "607fed1b-005a-4d3a-811c-51b1c5049c19",
   "metadata": {
    "tags": []
   },
   "outputs": [],
   "source": [
    "print_par_runtime(par_runtime, verbose=verbose)"
   ]
  },
  {
   "cell_type": "code",
   "execution_count": 31,
   "id": "78a9065f-8983-41cf-a34c-21892fc52dd2",
   "metadata": {
    "tags": []
   },
   "outputs": [],
   "source": [
    "# Get all keys after \"1\"\n",
    "keys = sorted(jobs.keys(), key=int)\n",
    "_ = keys.pop(0)"
   ]
  },
  {
   "cell_type": "code",
   "execution_count": 32,
   "id": "79e39954-1155-4ca3-b0b2-64bc5670db53",
   "metadata": {
    "tags": []
   },
   "outputs": [
    {
     "name": "stderr",
     "output_type": "stream",
     "text": [
      " (Job 2)\n",
      "uncompress_fits_runner              1268      1268         0         0       0.0    100.0%\n",
      "merge_headers_runner                   0         0         0         0       0.0    100.0%\n",
      "split_exp_runner                  137940    137940         0         0       0.0    100.0%\n",
      " (Job 4)\n",
      "mask_runner                         1268      1268         0         0       0.0    100.0%\n",
      " (Job 8)\n",
      "mask_runner                        45600     45600         0         0       0.0    100.0%\n",
      " (Job 16)\n",
      "sextractor_runner                   2536      2536         0         0       0.0    100.0%\n",
      " (Job 32)\n",
      "sextractor_runner                  91200     91200         0         0       0.0    100.0%\n",
      "setools_runner                     91200     91032         0       168      84.0     99.8%\n",
      "psfex_runner                       91200     91032         0       168      84.0     99.8%\n",
      " (Job 33)\n",
      "psfex_interp_runner                45600     41132         0      4468    4468.0     90.2%\n",
      " (Job 64)\n",
      "psfex_interp_runner                 1268      1268         0         0       0.0    100.0%\n",
      "vignetmaker_runner_run_1            1268      1268         0         0       0.0    100.0%\n",
      "spread_model_runner                 1268      1268         0         0       0.0    100.0%\n",
      "vignetmaker_runner_run_2            5072      5072         0         0       0.0    100.0%\n",
      " (Job 128)\n",
      "ngmix_runner                        1268       189         0      1079    1079.0     14.9%\n",
      "ngmix_runner                        1268       202         0      1066    1066.0     15.9%\n",
      "ngmix_runner                        1268       203         0      1065    1065.0     16.0%\n",
      "ngmix_runner                        1268       183         0      1085    1085.0     14.4%\n",
      "ngmix_runner                        1268       204         0      1064    1064.0     16.1%\n",
      "ngmix_runner                        1268       185         0      1083    1083.0     14.6%\n",
      "ngmix_runner                        1268       199         0      1069    1069.0     15.7%\n",
      "ngmix_runner                        1268       196         0      1072    1072.0     15.5%\n",
      " (Job 256)\n",
      "merge_sep_cats_runner               1268         0         0      1268    1268.0      0.0%\n",
      "make_cat_runner                     1268         0         0      1268    1268.0      0.0%\n",
      " (Job 1024)\n",
      "psfex_interp_runner                45600     41132         0      4468    4468.0     90.2%\n"
     ]
    }
   ],
   "source": [
    "for key in keys:\n",
    "    jobs[key].print_intro()\n",
    "    jobs[key].check_numbers(par_runtime=par_runtime)"
   ]
  },
  {
   "cell_type": "code",
   "execution_count": null,
   "id": "8d2243cb-5aa6-4e82-88f6-8689f15e5b61",
   "metadata": {},
   "outputs": [
    {
     "name": "stderr",
     "output_type": "stream",
     "text": [
      " (Job 128)\n",
      "ngmix_runner                        1268       413         0       855     855.0     32.6%\n",
      "ngmix_runner                        1268       417         0       851     851.0     32.9%\n",
      "ngmix_runner                        1268       425         0       843     843.0     33.5%\n",
      "ngmix_runner                        1268       419         0       849     849.0     33.0%\n",
      "ngmix_runner                        1268       436         0       832     832.0     34.4%\n",
      "ngmix_runner                        1268       427         0       841     841.0     33.7%\n",
      "ngmix_runner                        1268       422         0       846     846.0     33.3%\n"
     ]
    }
   ],
   "source": [
    "# Update some runs\n",
    "for key in [\"128\"]:\n",
    "    jobs[key].print_intro()\n",
    "    jobs[key].check_numbers(par_runtime=par_runtime)"
   ]
  },
  {
   "cell_type": "code",
   "execution_count": null,
   "id": "67b50a61-e3cc-4559-941d-f39c6a200294",
   "metadata": {},
   "outputs": [],
   "source": []
  }
 ],
 "metadata": {
  "kernelspec": {
   "display_name": "Python 3 (ipykernel)",
   "language": "python",
   "name": "python3"
  },
  "language_info": {
   "codemirror_mode": {
    "name": "ipython",
    "version": 3
   },
   "file_extension": ".py",
   "mimetype": "text/x-python",
   "name": "python",
   "nbconvert_exporter": "python",
   "pygments_lexer": "ipython3",
   "version": "3.7.12"
  }
 },
 "nbformat": 4,
 "nbformat_minor": 5
}
