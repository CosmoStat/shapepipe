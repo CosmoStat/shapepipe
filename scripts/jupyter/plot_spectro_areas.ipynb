{
 "cells": [
  {
   "cell_type": "markdown",
   "metadata": {},
   "source": [
    "# Plot and extract UNIONS tiles that overlap with spectroscopic surveys"
   ]
  },
  {
   "cell_type": "code",
   "execution_count": 3,
   "metadata": {},
   "outputs": [],
   "source": [
    "import os\n",
    "import sys\n",
    "import numpy as np\n",
    "import pylab as plt\n",
    "from astropy.io import fits\n",
    "import cfis\n",
    "\n",
    "plt.ioff()"
   ]
  },
  {
   "cell_type": "markdown",
   "metadata": {},
   "source": [
    "## Spectroscopic surveys"
   ]
  },
  {
   "cell_type": "markdown",
   "metadata": {},
   "source": [
    "### Data directory\n",
    "The catalogs need to be downloaded from the following URLs beforehand.\n",
    "The 3DHST survey requires registration before tha data can be accessed."
   ]
  },
  {
   "cell_type": "code",
   "execution_count": 1,
   "metadata": {},
   "outputs": [],
   "source": [
    "# Download spectroscopic data:\n",
    "# - 3DHST (AEGIS and GOODS-N)\n",
    "#   http://monoceros.astro.yale.edu/RELEASE_V4.1.5/3dhst.v4.1.5.master.fits.gz\n",
    "#   (Need to first register at https://3dhst.research.yale.edu/signup.php)\n",
    "# - DEEP2, DEEP3:\n",
    "#   deep.ps.uci.edu/deep3/zcat_archive/alldeep.egs.uniq.2012jun13.fits.gz\n",
    "# - SDSS DR12:\n",
    "#   https://data.sdss.org/sas/dr12/boss/lss/galaxy_DR12v5_CMASSLOWZTOT_North.fits.gz\n",
    "#   https://data.sdss.org/sas/dr12/boss/lss/galaxy_DR12v5_CMASSLOWZTOT_South.fits.gz\n",
    "# - eBOSS:\n",
    "#   https://data.sdss.org/sas/dr14/eboss/lss/catalogs/data_DR14_LRG_N.fits\n",
    "#   https://data.sdss.org/sas/dr14/eboss/lss/catalogs/data_DR14_LRG_S.fits\n",
    "# - SDSS main sample\n",
    "#   http://sdss.physics.nyu.edu/vagc/#download\n",
    "# - AGES:\n",
    "#   http://vizier.cfa.harvard.edu/viz-bin/VizieR-3?-source=J/ApJS/200/8/sources\n",
    "\n",
    "# Download directory\n",
    "cat_home = '{}/astro/data/CFIS/spectro_surveys'.format(os.environ['HOME'])"
   ]
  },
  {
   "cell_type": "markdown",
   "metadata": {},
   "source": [
    "### Spectroscopic survey information"
   ]
  },
  {
   "cell_type": "code",
   "execution_count": 2,
   "metadata": {},
   "outputs": [],
   "source": [
    "class Survey(object):\n",
    "    \"\"\"Survey\n",
    "    Data and information for a spectroscopic survey.\n",
    "    \n",
    "    Parameters\n",
    "    ----------\n",
    "    name : string\n",
    "        survey name\n",
    "    color : string\n",
    "        plot color\n",
    "    dec_min : float, optional, default=30\n",
    "        minimum declination, data with dec<dec_min is cut, in degrees\n",
    "    dec_max : float, optional, default=90\n",
    "        maximum declination, data with dec>dec_max is cut, in degrees\n",
    "    wrap_ra : float, optional, default=None\n",
    "        use wrap_ra instead of 0 to compute min and max of ra, in degrees;\n",
    "        useful if ra coordinates wrap around 0. \n",
    "    \"\"\"\n",
    "\n",
    "    def __init__(self, name, color, dec_min=30, dec_max=90, wrap_ra=None):\n",
    "        \n",
    "        self.name = name\n",
    "        self.color = color\n",
    "        self.dec_min = dec_min\n",
    "        self.dec_max = dec_max\n",
    "        self._wrap_ra = wrap_ra\n",
    "        \n",
    "    @classmethod\n",
    "    def from_fits(cls, name, color, path, key_ra='ra', key_dec='dec', dec_min=30, dec_max=90, wrap_ra=0):\n",
    "        \"\"\"Get coordinates from FITS file\n",
    "        \"\"\"\n",
    "        \n",
    "        dat = fits.open(path)\n",
    "        ra = dat[1].data[key_ra]\n",
    "        dec = dat[1].data[key_dec]\n",
    "        \n",
    "        c = cls(name, color, dec_min=dec_min, dec_max=dec_max, wrap_ra=wrap_ra)\n",
    "        c.set_coords(ra, dec)\n",
    "        return c\n",
    "    \n",
    "    @classmethod\n",
    "    def from_array(cls, name, color, ra, dec, dec_min=30, dec_max=90, wrap_ra=0):\n",
    "        \"\"\"Get coordinates from arrays\n",
    "        \"\"\"\n",
    "        \n",
    "        c = cls(name, color, dec_min=dec_min, dec_max=dec_max, wrap_ra=wrap_ra)\n",
    "        c.set_coords(np.array(ra), np.array(dec))\n",
    "        return c\n",
    "\n",
    "    def set_coords(self, ra, dec):\n",
    "        \"\"\"Set coordinates with cuts (UNIONS footprint)\n",
    "        \"\"\"  \n",
    "        \n",
    "        # Cut area\n",
    "        idx1 = (self.dec_min < dec)\n",
    "        idx2 = (dec < self.dec_max)\n",
    "        idx = idx1 & idx2\n",
    "        \n",
    "        n_tot = len(dec)\n",
    "        n_UNIONS = len(dec[idx])\n",
    "        print('{}: {} objects in total, {}/{} = {:.1f}% '\n",
    "              'potentially in UNIONS footprint'\n",
    "              ''.format(self.name, n_tot, n_UNIONS, n_tot, n_UNIONS/n_tot*100))\n",
    "        \n",
    "        if self._wrap_ra:\n",
    "            self._ra = (ra[idx] + self._wrap_ra)  % 360 - self._wrap_ra + 360\n",
    "        else:\n",
    "            self._ra = ra[idx]\n",
    "        self._dec = dec[idx]\n",
    "        \n",
    "        self._min_ra = min(self._ra)\n",
    "        self._max_ra = max(self._ra)\n",
    "        self._min_dec = min(self._dec)\n",
    "        self._max_dec = max(self._dec)"
   ]
  },
  {
   "cell_type": "markdown",
   "metadata": {},
   "source": [
    "### Load the spectroscopic survey data\n",
    "Define the survey specifications, including name, plot color, and coordinate cuts.\n",
    "\n",
    "Note: For surveys that extend across the R.A.=0 meridian, use the optional argument `wrap_ra=X` and chose `X` (in degrees) accordingly, such that the data split in R.A. is at `X`."
   ]
  },
  {
   "cell_type": "code",
   "execution_count": 14,
   "metadata": {},
   "outputs": [
    {
     "name": "stdout",
     "output_type": "stream",
     "text": [
      "SDSS-main: 984418 objects in total, 348419/984418 = 35.4% potentially in UNIONS footprint\n"
     ]
    }
   ],
   "source": [
    "surveys = []\n",
    "\n",
    "use = ['Test', '3DHST-AEGIS', '3DHST-GOODS-N', 'DEEP2+3', 'AGES',\n",
    "       'SDSS-N', 'SDSS-S', 'eBOSS-N', 'eBOSS-S', 'SDSS-main',\n",
    "       'HectoMap-groups', 'DECaLS-groups']\n",
    "\n",
    "#use = ['SDSS-main']\n",
    "\n",
    "if 'Test' in use:\n",
    "    surveys.append(Survey.from_array('Test', 'orange',\n",
    "                                     [1, 1.1], [29.5, 29.6], dec_min=28))       \n",
    "if '3DHST-AEGIS' in use:\n",
    "    surveys.append(Survey.from_fits('3DHST-AEGIS', 'green',\n",
    "                                    '{}/3dhst.v4.1.5.master.fits'.format(cat_home), \n",
    "                                    dec_max=60))\n",
    "if '3DHST-GOODS-N' in use:\n",
    "    surveys.append(Survey.from_fits('3DHST-GOODS-N', 'blue',\n",
    "                                    '{}/3dhst.v4.1.5.master.fits'.format(cat_home), \n",
    "                                    dec_min=60))\n",
    "if 'DEEP2+3' in use:\n",
    "    surveys.append(Survey.from_fits('DEEP2+3', 'magenta',\n",
    "                                    '{}/alldeep.egs.uniq.2012jun13.fits'.format(cat_home),\n",
    "                                    key_ra='RA', key_dec='dec'))\n",
    "if 'AGES' in use:\n",
    "    surveys.append(Survey.from_fits('AGES', 'red',\n",
    "                                    '{}/ages.fits'.format(cat_home),\n",
    "                                    key_ra='RAJ2000', key_dec='DEJ2000'))\n",
    "if 'SDSS-N' in use:\n",
    "    surveys.append(Survey.from_fits('SDSS-N', 'grey',\n",
    "                                    '{}/galaxy_DR12v5_CMASSLOWZTOT_North.fits'.format(cat_home),\n",
    "                                    key_ra='RA', key_dec='DEC'))\n",
    "if 'SDSS-S' in use:\n",
    "    surveys.append(Survey.from_fits('SDSS-S', 'grey',\n",
    "                                    '{}/galaxy_DR12v5_CMASSLOWZTOT_South.fits'.format(cat_home),\n",
    "                                    key_ra='RA', key_dec='DEC', wrap_ra=180))\n",
    "if 'eBOSS-N' in use:\n",
    "    surveys.append(Survey.from_fits('eBOSS-N', 'grey',\n",
    "                                    '{}/data_DR14_LRG_N.fits'.format(cat_home),\n",
    "                                    key_ra='RA', key_dec='DEC'))\n",
    "if 'eBOSS-S'in use:\n",
    "    surveys.append(Survey.from_fits('eBOSS-S', 'grey',\n",
    "                                    '{}/data_DR14_LRG_S.fits'.format(cat_home),\n",
    "                                    key_ra='RA', key_dec='DEC'))\n",
    "if 'SDSS-main' in use:\n",
    "    surveys.append(Survey.from_fits('SDSS-main', 'grey',\n",
    "                                    '{}/sdss_main_gal.fits'.format(cat_home),\n",
    "                                    key_ra='RA', key_dec='DEC', wrap_ra=300))\n",
    "   \n",
    "if 'HectoMap-groups'in use:\n",
    "    surveys.append(Survey.from_fits('HectoMap-groups', 'cyan',\n",
    "                                    '{}/asu.fit'.format(cat_home),\n",
    "                                    key_ra='RAJ2000', key_dec='DEJ2000'))\n",
    "    \n",
    "if 'DECaLS-groups'in use:\n",
    "    surveys.append(Survey.from_fits('DECaLS-groups', 'cyan',\n",
    "                                    '{}/DESI_NGC_group_cut.txt.fits'.format(cat_home),\n",
    "                                    key_ra='RA[deg]', key_dec='DEC[deg]'))"
   ]
  },
  {
   "cell_type": "markdown",
   "metadata": {},
   "source": [
    "## UNIONS/CFIS data"
   ]
  },
  {
   "cell_type": "markdown",
   "metadata": {},
   "source": [
    "### Set-up\n",
    "Define optical bands, paths, and load image IDs."
   ]
  },
  {
   "cell_type": "code",
   "execution_count": 15,
   "metadata": {},
   "outputs": [
    {
     "name": "stdout",
     "output_type": "stream",
     "text": [
      "27291 image files found in input file '/Users/mkilbing/astro/repositories/github/shapepipe/aux/CFIS/tiles_202011/tiles_u.txt'\n",
      "12621 image files found in input file '/Users/mkilbing/astro/repositories/github/shapepipe/aux/CFIS/tiles_202011/tiles_r.txt'\n",
      "5363 image files found in input file '/Users/mkilbing/astro/repositories/github/shapepipe/aux/CFIS/tiles_202011/tiles_i.txt'\n",
      "5065 image files found in input file '/Users/mkilbing/astro/repositories/github/shapepipe/aux/CFIS/tiles_202011/tiles_z.txt'\n"
     ]
    }
   ],
   "source": [
    "# Variables\n",
    "unit = 'deg'\n",
    "image_type = 'tile'\n",
    "bands = ['u', 'r', 'i', 'z']\n",
    "colors = ['b', 'r', 'darkred', 'm']\n",
    "\n",
    "# Padding around search area in plot\n",
    "d = 0.5\n",
    "\n",
    "# Input tiles ID files\n",
    "sp_home = '{}/astro/repositories/github/shapepipe'.format(os.environ['HOME'])\n",
    "tiles_dir = '{}/aux/CFIS/tiles_202011'.format(sp_home)\n",
    "tiles_ID = {}\n",
    "for band in bands:\n",
    "    tiles_ID[band] = '{}/tiles_{}.txt'.format(tiles_dir, band)\n",
    "    \n",
    "# Output tiles ID file base names\n",
    "tiles_ID_base = './tile_'\n",
    "tiles_all_ID_base = '{}{}'.format(tiles_ID_base, ''.join(bands))\n",
    "\n",
    "# Get list of all images\n",
    "images = {}\n",
    "for band in bands:\n",
    "    images[band] = cfis.get_image_list(tiles_ID[band], band, image_type, input_format='ID_only', verbose=True)"
   ]
  },
  {
   "cell_type": "markdown",
   "metadata": {},
   "source": [
    "## Find tiles in overlap area\n",
    "The area is a rectangle including all spectroscopic objects. The following code finds all images\n",
    "in that rectangle."
   ]
  },
  {
   "cell_type": "code",
   "execution_count": 19,
   "metadata": {},
   "outputs": [
    {
     "name": "stdout",
     "output_type": "stream",
     "text": [
      "SDSS-main\n",
      " 11076 u-band images in overlap area found\n",
      " 11901 r-band images in overlap area found\n",
      " 4360 i-band images in overlap area found\n",
      " 4209 z-band images in overlap area found\n"
     ]
    }
   ],
   "source": [
    "angles = {}\n",
    "images_overlap = {}\n",
    "for s in surveys:\n",
    "\n",
    "    print(s.name)\n",
    "\n",
    "    # Create area string\n",
    "    area_str = '{0:.2f}{4}_{1:.2f}{4}_{2:.2f}{4}_{3:.2f}{4}'\\\n",
    "               ''.format(s._min_ra - d,\n",
    "                         s._min_dec - d,\n",
    "                         s._max_ra + d,\n",
    "                         s._max_dec + d,\n",
    "                         unit)\n",
    "   \n",
    "    # Get area coordinates from string\n",
    "    angles[s.name] = cfis.get_Angle_arr(area_str, num=4)\n",
    " \n",
    "    # Get images in selected area\n",
    "    images_overlap[s.name] = {}\n",
    "    for band in bands:\n",
    "        images_overlap[s.name][band] = cfis.find_images_in_area(images[band],\n",
    "                                                                angles[s.name], band, image_type)\n",
    "        print(' {} {}-band images in overlap area found'\n",
    "              ''.format(len(images_overlap[s.name][band]), band))"
   ]
  },
  {
   "cell_type": "markdown",
   "metadata": {},
   "source": [
    "## Identify tile IDs for which all multi-band images are present"
   ]
  },
  {
   "cell_type": "code",
   "execution_count": 20,
   "metadata": {},
   "outputs": [],
   "source": [
    "ID = {}\n",
    "for s in surveys:\n",
    "    ID[s.name] = {}\n",
    "    \n",
    "    # Get ID strings\n",
    "    for b in bands:\n",
    "        ID[s.name][b] = []\n",
    "        for img in images_overlap[s.name][b]:\n",
    "            ID[s.name][b].append(img.get_ID())\n",
    "        \n",
    "    # Get common elements by using set intersection\n",
    "    ID[s.name]['all'] = set(ID[s.name][bands[0]])\n",
    "    for i in range(1, len(bands)):\n",
    "        ID[s.name]['all'] = ID[s.name]['all'].intersection(ID[s.name][bands[i]])\n",
    "\n",
    "# Write to text files\n",
    "for s in surveys:\n",
    "    if len(ID[s.name]['all']) > 0:\n",
    "        out_path = '{}_{}.txt'.format(tiles_all_ID_base, s.name)\n",
    "        f = open(out_path, 'w')\n",
    "        f.write('\\n'.join(ID[s.name]['all']))\n",
    "        f.close()"
   ]
  },
  {
   "cell_type": "markdown",
   "metadata": {},
   "source": [
    "## Plotting the sky areas\n",
    "Create a plot for each spectroscopic survey, showing the spectro objects and UNIONS tiles."
   ]
  },
  {
   "cell_type": "code",
   "execution_count": 21,
   "metadata": {},
   "outputs": [
    {
     "name": "stdout",
     "output_type": "stream",
     "text": [
      "SDSS-main\n",
      "  109.29deg_29.50deg_411.89deg_73.74deg\n",
      " 11076 u-band images in overlap area found\n",
      " 11901 r-band images in overlap area found\n",
      " 4360 i-band images in overlap area found\n",
      " 4209 z-band images in overlap area found\n"
     ]
    }
   ],
   "source": [
    "angles = {}\n",
    "images_overlap = {}\n",
    "for s in surveys:\n",
    "\n",
    "    print(s.name)\n",
    "\n",
    "    # Create area string\n",
    "    area_str = '{0:.2f}{4}_{1:.2f}{4}_{2:.2f}{4}_{3:.2f}{4}'\\\n",
    "               ''.format(s._min_ra - d,\n",
    "                         s._min_dec - d,\n",
    "                         s._max_ra + d,\n",
    "                         s._max_dec + d,\n",
    "                         unit)\n",
    "   \n",
    "    print(' ', area_str)\n",
    "    # Get area coordinates from string\n",
    "    angles[s.name] = cfis.get_Angle_arr(area_str, num=4)\n",
    " \n",
    "    # Get images in selected area\n",
    "    images_overlap[s.name] = {}\n",
    "    for band in bands:\n",
    "        images_overlap[s.name][band] = cfis.find_images_in_area(images[band],\n",
    "                                                                angles[s.name], band, image_type)\n",
    "        print(' {} {}-band images in overlap area found'\n",
    "              ''.format(len(images_overlap[s.name][band]), band))"
   ]
  },
  {
   "cell_type": "markdown",
   "metadata": {},
   "source": [
    "## Identify tile IDs for which all multi-band images are present"
   ]
  },
  {
   "cell_type": "code",
   "execution_count": 22,
   "metadata": {},
   "outputs": [
    {
     "name": "stdout",
     "output_type": "stream",
     "text": [
      "SDSS-main: 3298 common tiles in uriz\n"
     ]
    }
   ],
   "source": [
    "ID = {}\n",
    "for s in surveys:\n",
    "    ID[s.name] = {}\n",
    "    \n",
    "    # Get ID strings\n",
    "    for b in bands:\n",
    "        ID[s.name][b] = []\n",
    "        for img in images_overlap[s.name][b]:\n",
    "            ID[s.name][b].append(img.get_ID())\n",
    "\n",
    "    # Get common elements by using set intersection\n",
    "    bands_str = ''\n",
    "    for b in bands:\n",
    "        if len(ID[s.name][b]) > 0:\n",
    "            if not 'all' in ID[s.name]:\n",
    "                ID[s.name]['all'] = set(ID[s.name][b])\n",
    "            else:\n",
    "                ID[s.name]['all'] = ID[s.name]['all'].intersection(ID[s.name][b])\n",
    "\n",
    "            bands_str = '{}{}'.format(bands_str, b)\n",
    "\n",
    "print('{}: {} common tiles in {}'.format(s.name, len(ID[s.name]['all']), bands_str))\n",
    "            \n",
    "# Write to text files\n",
    "for s in surveys:\n",
    "    if len(ID[s.name]['all']) > 0:\n",
    "        out_path = '{}_{}.txt'.format(tiles_all_ID_base, s.name)\n",
    "        f = open(out_path, 'w')\n",
    "        f.write('\\n'.join(ID[s.name]['all']))\n",
    "        f.write('\\n')\n",
    "        f.close()"
   ]
  },
  {
   "cell_type": "markdown",
   "metadata": {},
   "source": [
    "## Plotting the sky areas\n",
    "Create a plot for each spectroscopic survey, showing the spectro objects and UNIONS tiles."
   ]
  },
  {
   "cell_type": "code",
   "execution_count": 23,
   "metadata": {
    "scrolled": false
   },
   "outputs": [
    {
     "name": "stdout",
     "output_type": "stream",
     "text": [
      "Plotting SDSS-main...\n"
     ]
    },
    {
     "data": {
      "image/png": "[encoded data removed]",
      "text/plain": [
       "<Figure size 432x288 with 1 Axes>"
      ]
     },
     "metadata": {
      "needs_background": "light"
     },
     "output_type": "display_data"
    }
   ],
   "source": [
    "# Max number of spectro objects in plots\n",
    "n_sp_max = 20000\n",
    "\n",
    "# If large number of tiles, change plot properties\n",
    "n_tiles_thres = 100\n",
    "\n",
    "for s in surveys:\n",
    "\n",
    "    print('Plotting {}...'.format(s.name))\n",
    " \n",
    "    fig, (ax) = plt.subplots()\n",
    "\n",
    "    # Plot images\n",
    "    show_numbers = True\n",
    "    nimg_tot = 0\n",
    "    dxy = 0\n",
    "    for band, color in zip(bands, colors):\n",
    "        nimg = len(images_overlap[s.name][band])\n",
    "        nimg_tot = nimg + nimg_tot\n",
    "        if nimg > n_tiles_thres:\n",
    "            show_numbers = False\n",
    "            lw = 0.02\n",
    "        else:\n",
    "            lw = 0.1\n",
    "        if nimg > 0:\n",
    "            dummy = cfis.plot_area(images_overlap[s.name][band], angles[s.name],\n",
    "                                   image_type, None, False, col=color,\n",
    "                                   show_circle=False, show_numbers=show_numbers,\n",
    "                                   ax=ax, dxy=dxy, lw=lw, save=False)\n",
    "            if show_numbers:\n",
    "                show_numbers = False\n",
    "            dxy = dxy + 0.015\n",
    "\n",
    "    # Plot spectroscopic objects\n",
    "    if len(s._ra > n_sp_max):\n",
    "        idx  = np.random.choice(len(s._ra), n_sp_max)\n",
    "        ra = s._ra[idx]\n",
    "        dec = s._dec[idx]\n",
    "    else:\n",
    "        ra = s._ra\n",
    "        dec = s._dec\n",
    "    \n",
    "    if nimg_tot > n_tiles_thres:\n",
    "        plt.rcParams['lines.markersize'] = 0.1\n",
    "    else:\n",
    "        plt.rcParams['lines.markersize'] = 1\n",
    "    ax.scatter(ra, dec, marker='o', color=s.color, edgecolors='none',  alpha=0.5, label=s.name)\n",
    "\n",
    "    plt.xlabel('R.A. [{}]'.format(unit))\n",
    "    plt.ylabel('Declination [{}]'.format(unit))\n",
    "    plt.legend(loc='best')\n",
    "    plt.savefig('{}.pdf'.format(s.name))\n",
    "    plt.savefig('{}.png'.format(s.name))\n",
    "    plt.show()"
   ]
  },
  {
   "cell_type": "code",
   "execution_count": null,
   "metadata": {},
   "outputs": [],
   "source": []
  }
 ],
 "metadata": {
  "kernelspec": {
   "display_name": "Python 3",
   "language": "python",
   "name": "python3"
  },
  "language_info": {
   "codemirror_mode": {
    "name": "ipython",
    "version": 3
   },
   "file_extension": ".py",
   "mimetype": "text/x-python",
   "name": "python",
   "nbconvert_exporter": "python",
   "pygments_lexer": "ipython3",
   "version": "3.7.9"
  }
 },
 "nbformat": 4,
 "nbformat_minor": 4
}
