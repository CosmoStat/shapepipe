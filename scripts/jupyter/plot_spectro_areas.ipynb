{
 "cells": [
  {
   "cell_type": "markdown",
   "metadata": {},
   "source": [
    "# Plot and extract UNIONS tiles that overlap with spectroscopic surveys"
   ]
  },
  {
   "cell_type": "code",
   "execution_count": 48,
   "metadata": {},
   "outputs": [],
   "source": [
    "import os\n",
    "import sys\n",
    "import re\n",
    "import numpy as np\n",
    "import pylab as plt\n",
    "from astropy.io import fits\n",
    "import cfis\n",
    "from astropy.coordinates import SkyCoord, match_coordinates_sky\n",
    "from astropy import units as u\n",
    "import pandas as pd\n",
    "\n",
    "import skymapper as skm\n",
    "\n",
    "#plt.ioff()"
   ]
  },
  {
   "cell_type": "markdown",
   "metadata": {},
   "source": [
    "## Spectroscopic surveys"
   ]
  },
  {
   "cell_type": "markdown",
   "metadata": {},
   "source": [
    "### Data directory\n",
    "The catalogs need to be downloaded from the following URLs beforehand.\n",
    "The 3DHST survey requires registration before tha data can be accessed."
   ]
  },
  {
   "cell_type": "code",
   "execution_count": 2,
   "metadata": {},
   "outputs": [],
   "source": [
    "# Download spectroscopic data:\n",
    "# - 3DHST (AEGIS and GOODS-N)\n",
    "#   http://monoceros.astro.yale.edu/RELEASE_V4.1.5/3dhst.v4.1.5.master.fits.gz\n",
    "#   (Need to first register at https://3dhst.research.yale.edu/signup.php)\n",
    "# - DEEP2, DEEP3:\n",
    "#   deep.ps.uci.edu/deep3/zcat_archive/alldeep.egs.uniq.2012jun13.fits.gz\n",
    "# - SDSS\n",
    "#   - BOSS CMASS + LOWZ DR12:\n",
    "#     https://data.sdss.org/sas/dr12/boss/lss/galaxy_DR12v5_CMASSLOWZTOT_North.fits.gz\n",
    "#     https://data.sdss.org/sas/dr12/boss/lss/galaxy_DR12v5_CMASSLOWZTOT_South.fits.gz\n",
    "# - eBOSS:\n",
    "#   - LRG DR14\n",
    "#     https://data.sdss.org/sas/dr14/eboss/lss/catalogs/data_DR14_LRG_N.fits\n",
    "#     https://data.sdss.org/sas/dr14/eboss/lss/catalogs/data_DR14_LRG_S.fits\n",
    "#   - LRG + CMASS DR16\n",
    "#     https://data.sdss.org/sas/dr16/eboss/lss/catalogs/DR16/eBOSS_LRGpCMASS_clustering_data-NGC-vDR16.fits\n",
    "#     https://data.sdss.org/sas/dr16/eboss/lss/catalogs/DR16/eBOSS_LRGpCMASS_clustering_data-SGC-vDR16.fits\n",
    "#   - ELG DR 16\n",
    "#     https://data.sdss.org/sas/dr16/eboss/lss/catalogs/DR16/eBOSS_ELG_clustering_data-NGC-vDR16.fits\n",
    "#     https://data.sdss.org/sas/dr16/eboss/lss/catalogs/DR16/eBOSS_ELG_clustering_data-SGC-vDR16.fits\n",
    "# - SDSS value-added main sample\n",
    "#   http://sdss.physics.nyu.edu/vagc/#download\n",
    "# - AGES:\n",
    "#   http://vizier.cfa.harvard.edu/viz-bin/VizieR-3?-source=J/ApJS/200/8/sources\n",
    "\n",
    "# Download directory\n",
    "cat_home = '{}/astro/data/CFIS/spectro_surveys'.format(os.environ['HOME'])"
   ]
  },
  {
   "cell_type": "markdown",
   "metadata": {},
   "source": [
    "### Spectroscopic survey information"
   ]
  },
  {
   "cell_type": "code",
   "execution_count": 54,
   "metadata": {},
   "outputs": [],
   "source": [
    "class Survey(object):\n",
    "    \"\"\"Survey\n",
    "    Data and information for a spectroscopic survey.\n",
    "    \n",
    "    Parameters\n",
    "    ----------\n",
    "    name : string\n",
    "        survey name\n",
    "    color : string\n",
    "        plot color\n",
    "    dec_min : float, optional, default=30\n",
    "        minimum declination, data with dec<dec_min is cut, in degrees\n",
    "    dec_max : float, optional, default=90\n",
    "        maximum declination, data with dec>dec_max is cut, in degrees\n",
    "    wrap_ra : float, optional, default=None\n",
    "        use wrap_ra instead of 0 to compute min and max of ra, in degrees;\n",
    "        useful if ra coordinates wrap around 0. \n",
    "    \"\"\"\n",
    "\n",
    "    def __init__(self, name, color, dec_min=30, dec_max=90, wrap_ra=None):\n",
    "        \n",
    "        self.name = name\n",
    "        self.color = color\n",
    "        self.dec_min = dec_min\n",
    "        self.dec_max = dec_max\n",
    "        self._wrap_ra = wrap_ra\n",
    "        \n",
    "    @classmethod\n",
    "    def from_fits(cls, name, color, path, key_ra='ra', key_dec='dec', dec_min=30, dec_max=90, wrap_ra=0):\n",
    "        \"\"\"Get coordinates from FITS file\n",
    "        \"\"\"\n",
    "        \n",
    "        dat = fits.open(path)\n",
    "        ra = dat[1].data[key_ra]\n",
    "        dec = dat[1].data[key_dec]\n",
    "        \n",
    "        c = cls(name, color, dec_min=dec_min, dec_max=dec_max, wrap_ra=wrap_ra)\n",
    "        c.set_coords(ra, dec)\n",
    "        return c\n",
    "    \n",
    "    @classmethod\n",
    "    def from_array(cls, name, color, ra, dec, dec_min=30, dec_max=90, wrap_ra=0):\n",
    "        \"\"\"Get coordinates from arrays\n",
    "        \"\"\"\n",
    "        \n",
    "        c = cls(name, color, dec_min=dec_min, dec_max=dec_max, wrap_ra=wrap_ra)\n",
    "        c.set_coords(np.array(ra), np.array(dec))\n",
    "        return c\n",
    "\n",
    "    def set_coords(self, ra, dec):\n",
    "        \"\"\"Set coordinates with cuts (UNIONS footprint)\n",
    "        \"\"\"  \n",
    "        \n",
    "        # Cut area\n",
    "        idx1 = (self.dec_min < dec)\n",
    "        idx2 = (dec < self.dec_max)\n",
    "        idx = idx1 & idx2\n",
    "        \n",
    "        n_tot = len(dec)\n",
    "        n_UNIONS = len(dec[idx])\n",
    "        print('{}: {} objects in total, {}/{} = {:.1f}% '\n",
    "              'potentially in UNIONS footprint'\n",
    "              ''.format(self.name, n_tot, n_UNIONS, n_tot, n_UNIONS/n_tot*100))\n",
    "        \n",
    "        if self._wrap_ra:\n",
    "            self._ra = (ra[idx] + self._wrap_ra)  % 360 - self._wrap_ra + 360\n",
    "        else:\n",
    "            self._ra = ra[idx]\n",
    "        self._dec = dec[idx]\n",
    "        \n",
    "        if len(self._ra) > 0:\n",
    "            self._min_ra = min(self._ra)\n",
    "            self._max_ra = max(self._ra)\n",
    "            self._min_dec = min(self._dec)\n",
    "            self._max_dec = max(self._dec)"
   ]
  },
  {
   "cell_type": "markdown",
   "metadata": {},
   "source": [
    "### Load the spectroscopic survey data\n",
    "Define the survey specifications, including name, plot color, and coordinate cuts.\n",
    "\n",
    "Note: For surveys that extend across the R.A.=0 meridian, use the optional argument `wrap_ra=X` and chose `X` (in degrees) accordingly, such that the data split in R.A. is at `X`."
   ]
  },
  {
   "cell_type": "code",
   "execution_count": 55,
   "metadata": {},
   "outputs": [
    {
     "name": "stdout",
     "output_type": "stream",
     "text": [
      "eBOSSLRGCMASS16-S: 121717 objects in total, 10585/121717 = 8.7% potentially in UNIONS footprint\n"
     ]
    }
   ],
   "source": [
    "surveys = []\n",
    "\n",
    "#use = ['Test', '3DHST-AEGIS', '3DHST-GOODS-N', 'DEEP2+3', 'AGES',\n",
    "#       'HectoMap-groups', 'DECaLS-groups']\n",
    "\n",
    "#use = ['CMASSLOWZ12-N', 'CMASSLOWZ12-S', 'eBOSSLRG14-N', 'eBOSSLRG14-S', 'NYUVAGC-N', \n",
    "#       'eBOSSLRGCMASS16-N', 'eBOSSLRGCMASS16-S', 'eBOSSELG16-N',\n",
    "#       'eBOSSQSO16-N', 'eBOSSQSO16-S']\n",
    "\n",
    "#use = ['DEEP2+3', 'eBOSSELG16-N', 'eBOSSLRGCMASS16-S']\n",
    "use = ['eBOSSLRGCMASS16-S']\n",
    "\n",
    "if 'Test' in use:\n",
    "    surveys.append(Survey.from_array('Test', 'orange',\n",
    "                                     [1, 1.1], [29.5, 29.6], dec_min=28))       \n",
    "if '3DHST-AEGIS' in use:\n",
    "    surveys.append(Survey.from_fits('3DHST-AEGIS', 'green',\n",
    "                                    '{}/3dhst.v4.1.5.master.fits'.format(cat_home), \n",
    "                                    dec_max=60))\n",
    "if '3DHST-GOODS-N' in use:\n",
    "    surveys.append(Survey.from_fits('3DHST-GOODS-N', 'blue',\n",
    "                                    '{}/3dhst.v4.1.5.master.fits'.format(cat_home), \n",
    "                                    dec_min=60))\n",
    "if 'DEEP2+3' in use:\n",
    "    surveys.append(Survey.from_fits('DEEP2+3', 'magenta',\n",
    "                                    '{}/alldeep.egs.uniq.2012jun13.fits'.format(cat_home),\n",
    "                                    key_ra='RA', key_dec='dec'))\n",
    "if 'AGES' in use:\n",
    "    surveys.append(Survey.from_fits('AGES', 'red',\n",
    "                                    '{}/ages.fits'.format(cat_home),\n",
    "                                    key_ra='RAJ2000', key_dec='DEJ2000'))\n",
    "if 'CMASSLOWZ12-N' in use:\n",
    "    surveys.append(Survey.from_fits('CMASSLOWZ12-N', 'grey',\n",
    "                                    '{}/galaxy_DR12v5_CMASSLOWZTOT_North.fits'.format(cat_home),\n",
    "                                    key_ra='RA', key_dec='DEC'))\n",
    "if 'CMASSLOWZ12-S' in use:\n",
    "    surveys.append(Survey.from_fits('CMASSLOWZ12-S', 'grey',\n",
    "                                    '{}/galaxy_DR12v5_CMASSLOWZTOT_South.fits'.format(cat_home),\n",
    "                                    key_ra='RA', key_dec='DEC', wrap_ra=180))\n",
    "if 'eBOSSLRG14-N' in use:\n",
    "    surveys.append(Survey.from_fits('eBOSSLRG14-N', 'grey',\n",
    "                                    '{}/data_DR14_LRG_N.fits'.format(cat_home),\n",
    "                                    key_ra='RA', key_dec='DEC'))\n",
    "if 'eBOSSLRG14-S'in use:\n",
    "    surveys.append(Survey.from_fits('eBOSSLRG14-S', 'grey',\n",
    "                                    '{}/data_DR14_LRG_S.fits'.format(cat_home),\n",
    "                                    key_ra='RA', key_dec='DEC'))\n",
    "if 'NYUVAGC-N' in use:\n",
    "    surveys.append(Survey.from_fits('NYUVAGC-N', 'grey',\n",
    "                                    '{}/sdss_main_gal.fits'.format(cat_home),\n",
    "                                    key_ra='RA', key_dec='DEC', wrap_ra=300))\n",
    "   \n",
    "if 'eBOSSLRGCMASS16-N' in use:\n",
    "   surveys.append(Survey.from_fits('eBOSSLRGCMASS16-N', 'grey',\n",
    "                                    '{}/eBOSS_LRGpCMASS_clustering_data-NGC-vDR16.fits'.format(cat_home),\n",
    "                                    key_ra='RA', key_dec='DEC'))\n",
    "    \n",
    "if 'eBOSSLRGCMASS16-S' in use:\n",
    "   surveys.append(Survey.from_fits('eBOSSLRGCMASS16-S', 'grey',\n",
    "                                    '{}/eBOSS_LRGpCMASS_clustering_data-SGC-vDR16.fits'.format(cat_home),\n",
    "                                    key_ra='RA', key_dec='DEC', wrap_ra=180))    \n",
    "if 'eBOSSELG16-N' in use:\n",
    "   surveys.append(Survey.from_fits('eBOSSELG16-N', 'grey',\n",
    "                                    '{}/eBOSS_ELG_clustering_data-NGC-vDR16.fits'.format(cat_home),\n",
    "                                    key_ra='RA', key_dec='DEC'))\n",
    "\n",
    "# No overlap with CFIS\n",
    "if 'eBOSSELG16-S' in use:\n",
    "   surveys.append(Survey.from_fits('eBOSSELG16-S', 'grey',\n",
    "                                    '{}/eBOSS_ELG_clustering_data-SGC-vDR16.fits'.format(cat_home),\n",
    "                                    key_ra='RA', key_dec='DEC', wrap_ra=180))\n",
    "    \n",
    "if 'eBOSSQSO16-N' in use:\n",
    "   surveys.append(Survey.from_fits('eBOSSQSO16-N', 'grey',\n",
    "                                    '{}/eBOSS_QSO_clustering_data-NGC-vDR16.fits'.format(cat_home),\n",
    "                                    key_ra='RA', key_dec='DEC'))\n",
    "    \n",
    "if 'eBOSSQSO16-S' in use:\n",
    "   surveys.append(Survey.from_fits('eBOSSQSO16-S', 'grey',\n",
    "                                    '{}/eBOSS_QSO_clustering_data-SGC-vDR16.fits'.format(cat_home),\n",
    "                                    key_ra='RA', key_dec='DEC'))\n",
    "\n",
    "if 'HectoMap-groups'in use:\n",
    "    surveys.append(Survey.from_fits('HectoMap-groups', 'cyan',\n",
    "                                    '{}/asu.fit'.format(cat_home),\n",
    "                                    key_ra='RAJ2000', key_dec='DEJ2000'))\n",
    "    \n",
    "if 'DECaLS-groups'in use:\n",
    "    surveys.append(Survey.from_fits('DECaLS-groups', 'cyan',\n",
    "                                    '{}/DESI_NGC_group_cut.txt.fits'.format(cat_home),\n",
    "                                    key_ra='RA[deg]', key_dec='DEC[deg]'))"
   ]
  },
  {
   "cell_type": "markdown",
   "metadata": {},
   "source": [
    "### Compute fraction of matched objects between SDSS sampes"
   ]
  },
  {
   "cell_type": "code",
   "execution_count": 15,
   "metadata": {},
   "outputs": [
    {
     "name": "stdout",
     "output_type": "stream",
     "text": [
      "eBOSSLRGCMASS16-S eBOSSLRGCMASS16-S\t\t 0/10585 = 0.00% objects not matched\n",
      "eBOSSELG16-N eBOSSELG16-N\t\t 0/13564 = 0.00% objects not matched\n"
     ]
    }
   ],
   "source": [
    "fraction = {}\n",
    "fraction['N'] = {} # np.zeros(shape=(len(surveys), len(surveys)))\n",
    "fraction['S'] = {} # np.zeros(shape=(len(surveys), len(surveys)))\n",
    "\n",
    "tolerance = 1.0 * u.arcsec\n",
    "\n",
    "for s1 in surveys:\n",
    "    if len(s1._ra) == 0:\n",
    "        continue\n",
    "        \n",
    "    c1 = SkyCoord(ra=s1._ra, dec=s1._dec, unit='deg')\n",
    "\n",
    "    for s2 in surveys:\n",
    "        if len(s2._ra) == 0:\n",
    "            continue\n",
    "             \n",
    "        c2 = SkyCoord(ra=s2._ra, dec=s2._dec, unit='deg')\n",
    "\n",
    "        idx, d2d, d3d = match_coordinates_sky(c1, c2, nthneighbor=1)\n",
    "\n",
    "        idx_close = d2d > tolerance\n",
    "        id_sub = np.where(idx_close==True)[0]\n",
    "        \n",
    "        for hemisph in ['N', 'S']:\n",
    "            if re.search('-{}'.format(hemisph), s1.name) and \\\n",
    "                re.search('-{}'.format(hemisph), s2.name):\n",
    "\n",
    "                    if s1.name not in fraction[hemisph]:\n",
    "                        fraction[hemisph][s1.name] = {}\n",
    "                        \n",
    "                    fraction[hemisph][s1.name][s2.name] = len(id_sub) / len(idx)\n",
    "                    \n",
    "                    print(s1.name, s2.name, end='\\t\\t')\n",
    "                    print(' {}/{} = {:.2f}% objects not matched'\n",
    "                          ''.format(len(id_sub), len(idx), 100*fraction[hemisph][s1.name][s2.name]))"
   ]
  },
  {
   "cell_type": "code",
   "execution_count": 16,
   "metadata": {},
   "outputs": [
    {
     "data": {
      "text/html": [
       "<style  type=\"text/css\" >\n",
       "#T_eee46_row0_col0{\n",
       "            background-color:  #3b4cc0;\n",
       "            color:  #f1f1f1;\n",
       "        }</style><table id=\"T_eee46_\" ><thead>    <tr>        <th class=\"blank level0\" ></th>        <th class=\"col_heading level0 col0\" >eBOSSELG16-N</th>    </tr></thead><tbody>\n",
       "                <tr>\n",
       "                        <th id=\"T_eee46_level0_row0\" class=\"row_heading level0 row0\" >eBOSSELG16-N</th>\n",
       "                        <td id=\"T_eee46_row0_col0\" class=\"data row0 col0\" >0.00</td>\n",
       "            </tr>\n",
       "    </tbody></table>"
      ],
      "text/plain": [
       "<pandas.io.formats.style.Styler at 0x141f74210>"
      ]
     },
     "execution_count": 16,
     "metadata": {},
     "output_type": "execute_result"
    }
   ],
   "source": [
    "df_N = pd.DataFrame(fraction['N'])\n",
    "df_N.style.background_gradient(cmap='coolwarm').set_precision(2)"
   ]
  },
  {
   "cell_type": "code",
   "execution_count": 17,
   "metadata": {},
   "outputs": [
    {
     "data": {
      "text/html": [
       "<style  type=\"text/css\" >\n",
       "#T_1645a_row0_col0{\n",
       "            background-color:  #3b4cc0;\n",
       "            color:  #f1f1f1;\n",
       "        }</style><table id=\"T_1645a_\" ><thead>    <tr>        <th class=\"blank level0\" ></th>        <th class=\"col_heading level0 col0\" >eBOSSLRGCMASS16-S</th>    </tr></thead><tbody>\n",
       "                <tr>\n",
       "                        <th id=\"T_1645a_level0_row0\" class=\"row_heading level0 row0\" >eBOSSLRGCMASS16-S</th>\n",
       "                        <td id=\"T_1645a_row0_col0\" class=\"data row0 col0\" >0.00</td>\n",
       "            </tr>\n",
       "    </tbody></table>"
      ],
      "text/plain": [
       "<pandas.io.formats.style.Styler at 0x1412dfdd0>"
      ]
     },
     "execution_count": 17,
     "metadata": {},
     "output_type": "execute_result"
    }
   ],
   "source": [
    "df_S = pd.DataFrame(fraction['S'])\n",
    "df_S.style.background_gradient(cmap='coolwarm').set_precision(2)"
   ]
  },
  {
   "cell_type": "markdown",
   "metadata": {},
   "source": [
    "## UNIONS/CFIS data"
   ]
  },
  {
   "cell_type": "markdown",
   "metadata": {},
   "source": [
    "### Set-up\n",
    "Define optical bands, paths, and load image IDs."
   ]
  },
  {
   "cell_type": "code",
   "execution_count": 18,
   "metadata": {},
   "outputs": [
    {
     "name": "stdout",
     "output_type": "stream",
     "text": [
      "27291 image files found in input file '/Users/mkilbing/astro/repositories/github/shapepipe/aux/CFIS/tiles_202011/tiles_u.txt'\n",
      "12621 image files found in input file '/Users/mkilbing/astro/repositories/github/shapepipe/aux/CFIS/tiles_202011/tiles_r.txt'\n",
      "5363 image files found in input file '/Users/mkilbing/astro/repositories/github/shapepipe/aux/CFIS/tiles_202011/tiles_i.txt'\n",
      "5065 image files found in input file '/Users/mkilbing/astro/repositories/github/shapepipe/aux/CFIS/tiles_202011/tiles_z.txt'\n"
     ]
    }
   ],
   "source": [
    "# Variables\n",
    "unit = 'deg'\n",
    "image_type = 'tile'\n",
    "bands = ['u', 'r', 'i', 'z']\n",
    "colors = ['b', 'r', 'darkred', 'm']\n",
    "\n",
    "# Padding around search area in plot\n",
    "d = 0.5\n",
    "\n",
    "# Input tiles ID files\n",
    "sp_home = '{}/astro/repositories/github/shapepipe'.format(os.environ['HOME'])\n",
    "tiles_dir = '{}/aux/CFIS/tiles_202011'.format(sp_home)\n",
    "tiles_ID = {}\n",
    "for band in bands:\n",
    "    tiles_ID[band] = '{}/tiles_{}.txt'.format(tiles_dir, band)\n",
    "    \n",
    "# Output tiles ID file base names\n",
    "tiles_ID_base = './tile_'\n",
    "tiles_all_ID_base = '{}{}'.format(tiles_ID_base, ''.join(bands))\n",
    "\n",
    "# Get list of all images\n",
    "images = {}\n",
    "for band in bands:\n",
    "    images[band] = cfis.get_image_list(tiles_ID[band], band, image_type, input_format='ID_only', verbose=True)"
   ]
  },
  {
   "cell_type": "markdown",
   "metadata": {},
   "source": [
    "## Finding overlapping sky area\n",
    "For simplicity a rectangular area in R.A. and DEC is determined."
   ]
  },
  {
   "cell_type": "code",
   "execution_count": 74,
   "metadata": {},
   "outputs": [
    {
     "name": "stdout",
     "output_type": "stream",
     "text": [
      "eBOSSLRGCMASS16-S\n",
      "MKDEBUG!!\n",
      "  327.35deg_29.50deg_395.31deg_36.75deg\n",
      "  350.0deg_29.50deg_370.31deg_31.5deg\n",
      "MKDEBUG 350.0 10.310000000000002\n",
      "[<SkyCoord (ICRS): (ra, dec) in deg\n",
      "    (350., 29.5)>, <SkyCoord (ICRS): (ra, dec) in deg\n",
      "    (10.31, 31.5)>]\n",
      "[<SkyCoord (ICRS): (ra, dec) in deg\n",
      "    (350., 29.5)>, <SkyCoord (ICRS): (ra, dec) in deg\n",
      "    (10.31, 31.5)>]\n",
      " 0 u-band images in overlap area found\n"
     ]
    }
   ],
   "source": [
    "import imp\n",
    "imp.reload(cfis)\n",
    "angles = {}\n",
    "images_overlap = {}\n",
    "for s in surveys:\n",
    "\n",
    "    print(s.name)\n",
    "\n",
    "    # Create area string\n",
    "    area_str = '{0:.2f}{4}_{1:.2f}{4}_{2:.2f}{4}_{3:.2f}{4}'\\\n",
    "               ''.format(s._min_ra - d,\n",
    "                         s._min_dec - d,\n",
    "                         s._max_ra + d,\n",
    "                         s._max_dec + d,\n",
    "                         unit)\n",
    "   \n",
    "    print('MKDEBUG!!')\n",
    "    print(' ', area_str)\n",
    "    area_str = '350.0deg_29.50deg_370.31deg_31.5deg'\n",
    "    print(' ', area_str)\n",
    "    # Get area coordinates from string\n",
    "    angles[s.name] = cfis.get_Angle_arr(area_str, num=4)\n",
    " \n",
    "    # Get images in selected area\n",
    "    images_overlap[s.name] = {}\n",
    "    #for band in bands:\n",
    "    for band in ['u']:\n",
    "        images_overlap[s.name][band] = cfis.find_images_in_area(images[band],\n",
    "                                                                angles[s.name], band, image_type)\n",
    "        print(' {} {}-band images in overlap area found'\n",
    "              ''.format(len(images_overlap[s.name][band]), band))"
   ]
  },
  {
   "cell_type": "markdown",
   "metadata": {},
   "source": [
    "## Identify tile IDs for which some or all multi-band images are present"
   ]
  },
  {
   "cell_type": "code",
   "execution_count": 65,
   "metadata": {},
   "outputs": [
    {
     "name": "stdout",
     "output_type": "stream",
     "text": [
      "eBOSSLRGCMASS16-S: 260 common tiles in uriz\n"
     ]
    }
   ],
   "source": [
    "ID = {}\n",
    "for s in surveys:\n",
    "    ID[s.name] = {}\n",
    "    \n",
    "    # Get ID strings\n",
    "    for b in bands:\n",
    "        ID[s.name][b] = []\n",
    "        for img in images_overlap[s.name][b]:\n",
    "            ID[s.name][b].append(img.get_ID())\n",
    "\n",
    "    # Get common elements by using set intersection\n",
    "    bands_str = ''\n",
    "    for b in bands:\n",
    "        if len(ID[s.name][b]) > 0:\n",
    "            if not 'all' in ID[s.name]:\n",
    "                ID[s.name]['all'] = set(ID[s.name][b])\n",
    "            else:\n",
    "                ID[s.name]['all'] = ID[s.name]['all'].intersection(ID[s.name][b])\n",
    "\n",
    "            bands_str = '{}{}'.format(bands_str, b)\n",
    "\n",
    "    print('{}: {} common tiles in {}'.format(s.name, len(ID[s.name]['all']), bands_str))\n",
    "            \n",
    "# Write to text files\n",
    "for s in surveys:\n",
    "    if len(ID[s.name]['all']) > 0:\n",
    "        #out_path = '{}_{}.txt'.format(tiles_all_ID_base, s.name)\n",
    "        out_path = '{}{}_{}.txt'.format(tiles_ID_base, bands_str, s.name)\n",
    "        f = open(out_path, 'w')\n",
    "        f.write('\\n'.join(ID[s.name]['all']))\n",
    "        f.write('\\n')\n",
    "        f.close()"
   ]
  },
  {
   "cell_type": "markdown",
   "metadata": {},
   "source": [
    "## Plotting the sky areas\n",
    "Create a plot for each spectroscopic survey, showing the spectro objects and UNIONS tiles."
   ]
  },
  {
   "cell_type": "code",
   "execution_count": 62,
   "metadata": {
    "scrolled": false
   },
   "outputs": [
    {
     "name": "stdout",
     "output_type": "stream",
     "text": [
      "Plotting eBOSSLRGCMASS16-S...\n"
     ]
    },
    {
     "data": {
      "image/png": "[encoded data removed]",
      "text/plain": [
       "<Figure size 432x288 with 1 Axes>"
      ]
     },
     "metadata": {
      "needs_background": "light"
     },
     "output_type": "display_data"
    }
   ],
   "source": [
    "# Max number of spectro objects in plots\n",
    "n_sp_max = 20000\n",
    "\n",
    "# If large number of tiles, change plot properties\n",
    "n_tiles_thres = 100\n",
    "\n",
    "for s in surveys:\n",
    "\n",
    "    print('Plotting {}...'.format(s.name))\n",
    " \n",
    "    fig, (ax) = plt.subplots()\n",
    "\n",
    "    # Plot images\n",
    "    show_numbers = True\n",
    "    nimg_tot = 0\n",
    "    dxy = 0\n",
    "    for band, color in zip(bands, colors):\n",
    "        nimg = len(images_overlap[s.name][band])\n",
    "        nimg_tot = nimg + nimg_tot\n",
    "        if nimg > n_tiles_thres:\n",
    "            show_numbers = False\n",
    "            lw = 0.02\n",
    "        else:\n",
    "            lw = 0.1\n",
    "        if nimg > 0:\n",
    "            dummy = cfis.plot_area(images_overlap[s.name][band], angles[s.name],\n",
    "                                   image_type, None, False, col=color,\n",
    "                                   show_circle=False, show_numbers=show_numbers,\n",
    "                                   ax=ax, dxy=dxy, lw=lw, save=False)\n",
    "            if show_numbers:\n",
    "                show_numbers = False\n",
    "            dxy = dxy + 0.015\n",
    "\n",
    "    # Plot spectroscopic objects\n",
    "    if len(s._ra > n_sp_max):\n",
    "        idx  = np.random.choice(len(s._ra), n_sp_max)\n",
    "        ra = s._ra[idx]\n",
    "        dec = s._dec[idx]\n",
    "    else:\n",
    "        ra = s._ra\n",
    "        dec = s._dec\n",
    "    \n",
    "    if nimg_tot > n_tiles_thres:\n",
    "        plt.rcParams['lines.markersize'] = 0.1\n",
    "    else:\n",
    "        plt.rcParams['lines.markersize'] = 1\n",
    "    ax.scatter(ra, dec, marker='o', color=s.color, edgecolors='none',  alpha=0.5, label=s.name)\n",
    "\n",
    "    plt.xlabel('R.A. [{}]'.format(unit))\n",
    "    plt.ylabel('Declination [{}]'.format(unit))\n",
    "    plt.legend(loc='best')\n",
    "    plt.savefig('{}.pdf'.format(s.name))\n",
    "    plt.savefig('{}.png'.format(s.name))\n",
    "    plt.show()"
   ]
  },
  {
   "cell_type": "code",
   "execution_count": 67,
   "metadata": {},
   "outputs": [
    {
     "name": "stdout",
     "output_type": "stream",
     "text": [
      "eBOSSLRGCMASS16-S\n",
      "n_img = 1291\n"
     ]
    },
    {
     "name": "stderr",
     "output_type": "stream",
     "text": [
      "/Users/mkilbing/anaconda3/envs/shapepipe/lib/python3.7/site-packages/skymapper/map.py:198: UserWarning: Matplotlib is currently using module://ipykernel.pylab.backend_inline, which is a non-GUI backend, so cannot show the figure.\n",
      "  self.fig.show()\n"
     ]
    },
    {
     "data": {
      "image/png": "[encoded data removed]",
      "text/plain": [
       "<Figure size 432x288 with 1 Axes>"
      ]
     },
     "metadata": {
      "needs_background": "light"
     },
     "output_type": "display_data"
    }
   ],
   "source": [
    "# Image size\n",
    "size = cfis.size[image_type] / 2\n",
    "\n",
    "# Max number of spectro objects in plots\n",
    "n_sp_max = 20000\n",
    "\n",
    "# Image threshold for plotting options\n",
    "n_tiles_thres = 100\n",
    "\n",
    "separation = size * np.sqrt(2) * u.deg\n",
    "\n",
    "for s in surveys:\n",
    "    \n",
    "    print(s.name)\n",
    "    #fig, (ax) = plt.subplots()\n",
    "    \n",
    "    dxy = 0\n",
    "    ra_all = []\n",
    "    dec_all = []\n",
    "    for band, color in zip(bands, colors):\n",
    "        ra_all.extend([img.ra.degree for img in images_overlap[s.name][band]])\n",
    "        dec_all.extend([img.dec.degree for img in images_overlap[s.name][band]])\n",
    "    ra_all = np.array(ra_all)\n",
    "    dec_all = np.array(dec_all)\n",
    "    \n",
    "    n_img = len(ra_all)\n",
    "    \n",
    "    print('n_img = {}'.format(n_img))\n",
    "    if n_img > n_tiles_thres:\n",
    "        lw = 0.05\n",
    "        sep = 15\n",
    "        plt.rcParams['lines.markersize'] = 0.25\n",
    "    else:\n",
    "        lw = 0.25\n",
    "        sep = 1\n",
    "        plt.rcParams['lines.markersize'] = 1\n",
    "        \n",
    "    # Create map projection\n",
    "    ## image of (0 0)\n",
    "    lon_0 = np.mean(ra_all)\n",
    "    lat_0 = np.mean(dec_all)\n",
    "    ## the two standard latitudes\n",
    "    lat_1 = 0\n",
    "    lat_2 = 30\n",
    "\n",
    "    ## Projection\n",
    "    proj = skm.Albers(lon_0, lat_0, lat_1, lat_2)\n",
    "\n",
    "    ## Create map\n",
    "    map = skm.Map(proj)\n",
    "    \n",
    "    ## Image squares as vertices\n",
    "    for band, color in zip(bands, colors):\n",
    "        nimg = len(images_overlap[s.name][band])\n",
    "        if nimg > 0:\n",
    "                    \n",
    "            #vertices = np.zeros(shape=(nimg, 4, 2))\n",
    "            for i, img in enumerate(images_overlap[s.name][band]):\n",
    "               \n",
    "                # Draw lines between image corners\n",
    "                center = SkyCoord(img.ra, img.dec)\n",
    "                pos = []\n",
    "                for position_angle in [45, 135, 225, 315]:\n",
    "                    pos.append(center.directional_offset_by(position_angle * u.deg, separation))\n",
    "                pos.append(pos[0])\n",
    "                cx = np.array([p.ra.deg for p in pos]) + dxy\n",
    "                cy = np.array([p.dec.deg for p in pos]) + dxy\n",
    "                map.plot(cx, cy, '-', color=color, linewidth=lw)\n",
    "\n",
    "            dxy = dxy + 0.05\n",
    "\n",
    "    # Spectroscopic objects\n",
    "    if len(s._ra > n_sp_max):\n",
    "        idx  = np.random.choice(len(s._ra), n_sp_max)\n",
    "        ra = s._ra[idx]\n",
    "        dec = s._dec[idx]\n",
    "    else:\n",
    "        ra = s._ra\n",
    "        dec = s._dec\n",
    "    map.scatter(ra, dec, marker='o', color=s.color, edgecolors='none',  alpha=1)\n",
    "    \n",
    "    # Draw grid\n",
    "    map.grid(sep=sep)\n",
    "    \n",
    "    #map.focus(np.array([213, 217]), np.array([51, 54.5]))\n",
    "    ra_min_max = ra_all.min(), ra_all.max()\n",
    "    dec_min_max = dec_all.min(), dec_all.max()\n",
    "\n",
    "    map.ax.set_xlabel('R.A. [deg]')\n",
    "    map.ax.set_ylabel('DEC [deg]')\n",
    "    map.title(s.name)\n",
    "\n",
    "    map.focus(np.array(ra_min_max), np.array(dec_min_max), pad=0.25)\n",
    "\n",
    "    map.savefig('{}_spherical.pdf'.format(s.name))\n",
    "    plt.show()"
   ]
  },
  {
   "cell_type": "code",
   "execution_count": 66,
   "metadata": {},
   "outputs": [
    {
     "data": {
      "image/png": "[encoded data removed]",
      "text/plain": [
       "<Figure size 432x288 with 1 Axes>"
      ]
     },
     "metadata": {
      "needs_background": "light"
     },
     "output_type": "display_data"
    }
   ],
   "source": [
    "plt.plot(surveys[0]._ra, surveys[0]._dec, 'o')\n",
    "plt.show()"
   ]
  },
  {
   "cell_type": "code",
   "execution_count": 51,
   "metadata": {},
   "outputs": [
    {
     "data": {
      "text/plain": [
       "34.81347358949711"
      ]
     },
     "execution_count": 51,
     "metadata": {},
     "output_type": "execute_result"
    }
   ],
   "source": [
    "surveys[0]._max_ra"
   ]
  },
  {
   "cell_type": "code",
   "execution_count": null,
   "metadata": {},
   "outputs": [],
   "source": []
  }
 ],
 "metadata": {
  "kernelspec": {
   "display_name": "Python 3",
   "language": "python",
   "name": "python3"
  },
  "language_info": {
   "codemirror_mode": {
    "name": "ipython",
    "version": 3
   },
   "file_extension": ".py",
   "mimetype": "text/x-python",
   "name": "python",
   "nbconvert_exporter": "python",
   "pygments_lexer": "ipython3",
   "version": "3.7.9"
  }
 },
 "nbformat": 4,
 "nbformat_minor": 4
}
