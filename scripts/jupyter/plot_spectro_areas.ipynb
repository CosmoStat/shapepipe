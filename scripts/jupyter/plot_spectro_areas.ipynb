{
 "cells": [
  {
   "cell_type": "code",
   "execution_count": 91,
   "metadata": {},
   "outputs": [],
   "source": [
    "import os\n",
    "from astropy.io import fits\n",
    "import cfis\n",
    "\n",
    "plt.ioff()"
   ]
  },
  {
   "cell_type": "code",
   "execution_count": 92,
   "metadata": {},
   "outputs": [],
   "source": [
    "# Download spectroscopic data:\n",
    "# - 3DHST (AEGIS and GOODS-N)\n",
    "#   http://monoceros.astro.yale.edu/RELEASE_V4.1.5/3dhst.v4.1.5.master.fits.gz\n",
    "#   (Need to first register at https://3dhst.research.yale.edu/signup.php)\n",
    "# - DEEP2, DEEP3:\n",
    "#   deep.ps.uci.edu/deep3/zcat_archive/alldeep.egs.uniq.2012jun13.fits.gz\n",
    "\n",
    "# Download directory\n",
    "cat_home = '{}/astro/data/CFIS/spectro_surveys'.format(os.environ['HOME'])"
   ]
  },
  {
   "cell_type": "code",
   "execution_count": 93,
   "metadata": {},
   "outputs": [],
   "source": [
    "class Survey(object):\n",
    "\n",
    "    def __init__(self, name, color, dec_min=30, dec_max=90):\n",
    "        \n",
    "        self.name = name\n",
    "        self.color = color\n",
    "        self.dec_min = dec_min\n",
    "        self.dec_max = dec_max\n",
    "        \n",
    "    @classmethod\n",
    "    def from_fits(cls, name, color, path, key_ra='ra', key_dec='dec', dec_min=30, dec_max=90):\n",
    "        \"\"\"Get coordinates from FITS file\n",
    "        \"\"\"\n",
    "        \n",
    "        dat = fits.open(path)\n",
    "        ra = dat[1].data[key_ra]\n",
    "        dec = dat[1].data[key_dec]\n",
    "        \n",
    "        c = cls(name, color, dec_min=dec_min, dec_max=dec_max)\n",
    "        c.set_coords(ra, dec)\n",
    "        return c\n",
    "    \n",
    "    @classmethod\n",
    "    def from_array(cls, name, color, ra, dec, dec_min=30, dec_max=90):\n",
    "        \"\"\"Get coordinates from arrays\n",
    "        \"\"\"\n",
    "        \n",
    "        c = cls(name, color, dec_min=dec_min, dec_max=dec_max)\n",
    "        c.set_coords(np.array(ra), np.array(dec))\n",
    "        return c\n",
    "\n",
    "    def set_coords(self, ra, dec):\n",
    "        \"\"\"Set coordinates with cuts (UNIONS footprint)\n",
    "        \"\"\"  \n",
    "        \n",
    "        # Cut area\n",
    "        idx1 = (self.dec_min < dec)\n",
    "        idx2 = (dec < self.dec_max)\n",
    "        idx = idx1 & idx2\n",
    "        \n",
    "        n_tot = len(dec)\n",
    "        n_UNIONS = len(dec[idx])\n",
    "        print('{}: {} objects in total, {}/{} = {:.1f}% '\n",
    "              'potentially in UNIONS footprint'\n",
    "              ''.format(self.name, n_tot, n_UNIONS, n_tot, n_UNIONS/n_tot*100))\n",
    "        \n",
    "        self._ra = ra[idx]\n",
    "        self._dec = dec[idx]\n",
    "        \n",
    "        self._min_ra = min(self._ra)\n",
    "        self._max_ra = max(self._ra)\n",
    "        self._min_dec = min(self._dec)\n",
    "        self._max_dec = max(self._dec)"
   ]
  },
  {
   "cell_type": "code",
   "execution_count": 94,
   "metadata": {},
   "outputs": [
    {
     "name": "stdout",
     "output_type": "stream",
     "text": [
      "Test: 2 objects in total, 2/2 = 100.0% potentially in UNIONS footprint\n"
     ]
    }
   ],
   "source": [
    "# Spectroscopic survey data\n",
    "survey = []\n",
    "\n",
    "# Dummy survey for testing\n",
    "survey.append(Survey.from_array('Test', 'orange',\n",
    "                                [1, 1.1], [29.5, 29.6], dec_min=28))       \n",
    "\n",
    "#survey.append(Survey.from_fits('3DHST-AEGIS', 'green',\n",
    "#                               '{}/3dhst.v4.1.5.master.fits'.format(cat_home), \n",
    "#                               dec_max=60))\n",
    "\n",
    "# Goods-North has not yet overlap with UNIONS\n",
    "#survey.append(Survey.from_fits('3DHST-GOODS-N', 'blue',\n",
    "#                               '{}/3dhst.v4.1.5.master.fits'.format(cat_home), \n",
    "#                               dec_min=60))\n",
    "\n",
    "#survey.append(Survey.from_fits('DEEP2+3', 'magenta',\n",
    "#                               '{}/alldeep.egs.uniq.2012jun13.fits'.format(cat_home),\n",
    "#                               key_ra='RA', key_dec='dec'))"
   ]
  },
  {
   "cell_type": "code",
   "execution_count": 95,
   "metadata": {},
   "outputs": [
    {
     "name": "stdout",
     "output_type": "stream",
     "text": [
      "12621 image files found in input file '/Users/mkilbing/astro/repositories/github/shapepipe/aux/CFIS/tiles_202011/tiles_r.txt'\n",
      "27291 image files found in input file '/Users/mkilbing/astro/repositories/github/shapepipe/aux/CFIS/tiles_202011/tiles_u.txt'\n"
     ]
    }
   ],
   "source": [
    "# CFIS data\n",
    "\n",
    "# Variables\n",
    "unit = 'deg'\n",
    "image_type = 'tile'\n",
    "bands = ['r', 'u']\n",
    "colors = ['r', 'b']\n",
    "d = 0.5\n",
    "sp_home = '{}/astro/repositories/github/shapepipe'.format(os.environ['HOME'])\n",
    "tiles_dir = '{}/aux/CFIS/tiles_202011'.format(sp_home)\n",
    "tiles_ID = {\n",
    "    'r' : '{}/tiles_r.txt'.format(tiles_dir),\n",
    "    'u' : '{}/tiles_u.txt'.format(tiles_dir)\n",
    "}\n",
    "\n",
    "# Get list of all images\n",
    "images = {}\n",
    "for band in bands:\n",
    "    images[band] = cfis.get_image_list(tiles_ID[band], band, image_type, input_format='ID_only', verbose=True)"
   ]
  },
  {
   "cell_type": "code",
   "execution_count": 96,
   "metadata": {},
   "outputs": [
    {
     "name": "stdout",
     "output_type": "stream",
     "text": [
      "Test\n",
      " 6 r-band images in overlap area found\n",
      " 6 u-band images in overlap area found\n"
     ]
    }
   ],
   "source": [
    "import imp\n",
    "imp.reload(cfis)\n",
    "\n",
    "angles = {}\n",
    "images_overlap = {}\n",
    "for s in survey:\n",
    "\n",
    "    print(s.name)\n",
    "\n",
    "    # Create area string\n",
    "    area_str = '{0:.2f}{4}_{1:.2f}{4}_{2:.2f}{4}_{3:.2f}{4}'\\\n",
    "               ''.format(s._min_ra - d,\n",
    "                         s._min_dec - d,\n",
    "                         s._max_ra + d,\n",
    "                         s._max_dec + d,\n",
    "                         unit)\n",
    "    #area_str = '-0deg_29.5deg_0.1deg_29.6deg'\n",
    "    #print(area_str)\n",
    "    \n",
    "    # Get area coordinates from string\n",
    "    angles[s] = cfis.get_Angle_arr(area_str, num=4)\n",
    " \n",
    "    # Get images in selected area\n",
    "    images_overlap[s] = {}\n",
    "    for band in bands:\n",
    "        images_overlap[s][band] = cfis.find_images_in_area(images[band], angles[s], band, image_type)\n",
    "        print(' {} {}-band images in overlap area found'\n",
    "              ''.format(len(images_overlap[s][band]), band))"
   ]
  },
  {
   "cell_type": "code",
   "execution_count": 97,
   "metadata": {},
   "outputs": [
    {
     "name": "stdout",
     "output_type": "stream",
     "text": [
      "Plotting Test...\n"
     ]
    },
    {
     "data": {
      "image/png": "[encoded data removed]",
      "text/plain": [
       "<Figure size 432x288 with 1 Axes>"
      ]
     },
     "metadata": {
      "needs_background": "light"
     },
     "output_type": "display_data"
    }
   ],
   "source": [
    "import imp\n",
    "imp.reload(cfis)\n",
    "\n",
    "for s in survey:\n",
    "    print('Plotting {}...'.format(s.name))\n",
    " \n",
    "    fig, (ax) = plt.subplots()\n",
    "    #plt.tight_layout()\n",
    "\n",
    "    # Plot spectroscopic objects\n",
    "    ax.plot(s._ra, s._dec, '.', color=s.color, markersize=0.5, label=s.name)\n",
    "\n",
    "     # Plot images\n",
    "    show_numbers = True\n",
    "    dxy = 0\n",
    "    for band, color in zip(bands, colors):\n",
    "        rac, dec, rad = cfis.plot_area(images_overlap[s][band], angles[s], image_type, None, False,\n",
    "                                       col=color, show_circle=False, show_numbers=show_numbers,\n",
    "                                       ax=ax, dxy=dxy, save=False)\n",
    "        show_numbers = False\n",
    "        dxy = dxy + 0.02\n",
    "\n",
    "    plt.xlabel('R.A. [{}]'.format(unit))\n",
    "    plt.ylabel('Declination [{}]'.format(unit))\n",
    "    plt.legend(loc='best')\n",
    "    plt.savefig('{}.png'.format(s.name))\n",
    "    plt.show()"
   ]
  },
  {
   "cell_type": "code",
   "execution_count": 16,
   "metadata": {},
   "outputs": [
    {
     "name": "stdout",
     "output_type": "stream",
     "text": [
      "CFIS.251.288.r.fits\n",
      "CFIS.252.288.r.fits\n",
      "CFIS.253.288.r.fits\n",
      "CFIS.254.287.r.fits\n",
      "CFIS.254.288.r.fits\n",
      "CFIS.255.287.r.fits\n",
      "CFIS.256.287.r.fits\n",
      "CFIS.257.286.r.fits\n",
      "CFIS.257.287.r.fits\n",
      "CFIS.258.286.r.fits\n",
      "CFIS.259.286.r.fits\n",
      "CFIS.260.285.r.fits\n",
      "CFIS.260.286.r.fits\n",
      "CFIS.261.285.r.fits\n",
      "CFIS.262.285.r.fits\n",
      "CFIS.263.284.r.fits\n",
      "CFIS.263.285.r.fits\n",
      "CFIS.264.284.r.fits\n",
      "CFIS.265.284.r.fits\n",
      "CFIS.266.283.r.fits\n",
      "CFIS.266.284.r.fits\n",
      "CFIS.267.283.r.fits\n",
      "CFIS.268.283.r.fits\n",
      "CFIS.269.283.r.fits\n"
     ]
    }
   ],
   "source": [
    "for band in bands:\n",
    "    for img in images_overlap[band]:\n",
    "        img.print()"
   ]
  },
  {
   "cell_type": "code",
   "execution_count": null,
   "metadata": {},
   "outputs": [],
   "source": []
  }
 ],
 "metadata": {
  "kernelspec": {
   "display_name": "Python 3",
   "language": "python",
   "name": "python3"
  },
  "language_info": {
   "codemirror_mode": {
    "name": "ipython",
    "version": 3
   },
   "file_extension": ".py",
   "mimetype": "text/x-python",
   "name": "python",
   "nbconvert_exporter": "python",
   "pygments_lexer": "ipython3",
   "version": "3.7.6"
  }
 },
 "nbformat": 4,
 "nbformat_minor": 4
}
