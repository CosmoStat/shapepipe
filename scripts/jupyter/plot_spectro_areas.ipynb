{
 "cells": [
  {
   "cell_type": "markdown",
   "metadata": {},
   "source": [
    "# Plot and extract UNIONS tiles that overlap with spectroscopic surveys"
   ]
  },
  {
   "cell_type": "code",
   "execution_count": 3,
   "metadata": {},
   "outputs": [
    {
     "name": "stderr",
     "output_type": "stream",
     "text": [
      "Warning: cannot import _healpy_pixel_lib module\n"
     ]
    },
    {
     "ename": "ImportError",
     "evalue": "dlopen(/Users/mkilbing/anaconda3/envs/shapepipe/lib/python3.8/site-packages/healpy/_healpy_sph_transform_lib.cpython-38-darwin.so, 2): Symbol not found: _aligned_alloc\n  Referenced from: /Users/mkilbing/anaconda3/envs/shapepipe/lib/python3.8/site-packages/healpy/.dylibs/libstdc++.6.dylib (which was built for Mac OS X 11.3)\n  Expected in: /usr/lib/libSystem.B.dylib\n in /Users/mkilbing/anaconda3/envs/shapepipe/lib/python3.8/site-packages/healpy/.dylibs/libstdc++.6.dylib",
     "output_type": "error",
     "traceback": [
      "\u001b[0;31m---------------------------------------------------------------------------\u001b[0m",
      "\u001b[0;31mImportError\u001b[0m                               Traceback (most recent call last)",
      "Input \u001b[0;32mIn [3]\u001b[0m, in \u001b[0;36m<cell line: 12>\u001b[0;34m()\u001b[0m\n\u001b[1;32m      9\u001b[0m \u001b[38;5;28;01mfrom\u001b[39;00m \u001b[38;5;21;01mastropy\u001b[39;00m \u001b[38;5;28;01mimport\u001b[39;00m units \u001b[38;5;28;01mas\u001b[39;00m u\n\u001b[1;32m     10\u001b[0m \u001b[38;5;28;01mimport\u001b[39;00m \u001b[38;5;21;01mpandas\u001b[39;00m \u001b[38;5;28;01mas\u001b[39;00m \u001b[38;5;21;01mpd\u001b[39;00m\n\u001b[0;32m---> 12\u001b[0m \u001b[38;5;28;01mimport\u001b[39;00m \u001b[38;5;21;01mskymapper\u001b[39;00m \u001b[38;5;28;01mas\u001b[39;00m \u001b[38;5;21;01mskm\u001b[39;00m\n",
      "File \u001b[0;32m~/anaconda3/envs/shapepipe/lib/python3.8/site-packages/skymapper/__init__.py:39\u001b[0m, in \u001b[0;36m<module>\u001b[0;34m\u001b[0m\n\u001b[1;32m     36\u001b[0m             \u001b[38;5;28;01mreturn\u001b[39;00m meta\u001b[38;5;241m.\u001b[39m\u001b[38;5;21m__prepare__\u001b[39m(name, bases)\n\u001b[1;32m     37\u001b[0m     \u001b[38;5;28;01mreturn\u001b[39;00m \u001b[38;5;28mtype\u001b[39m\u001b[38;5;241m.\u001b[39m\u001b[38;5;21m__new__\u001b[39m(metaclass, \u001b[38;5;124m'\u001b[39m\u001b[38;5;124mtemporary_class\u001b[39m\u001b[38;5;124m'\u001b[39m, (), {})\n\u001b[0;32m---> 39\u001b[0m \u001b[38;5;28;01mfrom\u001b[39;00m \u001b[38;5;21;01m.\u001b[39;00m\u001b[38;5;21;01mmap\u001b[39;00m \u001b[38;5;28;01mimport\u001b[39;00m \u001b[38;5;241m*\u001b[39m\n\u001b[1;32m     40\u001b[0m \u001b[38;5;28;01mfrom\u001b[39;00m \u001b[38;5;21;01m.\u001b[39;00m\u001b[38;5;21;01mprojection\u001b[39;00m \u001b[38;5;28;01mimport\u001b[39;00m \u001b[38;5;241m*\u001b[39m\n\u001b[1;32m     41\u001b[0m \u001b[38;5;28;01mfrom\u001b[39;00m \u001b[38;5;21;01m.\u001b[39;00m \u001b[38;5;28;01mimport\u001b[39;00m survey\n",
      "File \u001b[0;32m~/anaconda3/envs/shapepipe/lib/python3.8/site-packages/skymapper/map.py:6\u001b[0m, in \u001b[0;36m<module>\u001b[0;34m\u001b[0m\n\u001b[1;32m      4\u001b[0m \u001b[38;5;28;01mimport\u001b[39;00m \u001b[38;5;21;01mre\u001b[39;00m\u001b[38;5;241m,\u001b[39m \u001b[38;5;21;01mpickle\u001b[39;00m\n\u001b[1;32m      5\u001b[0m \u001b[38;5;28;01mimport\u001b[39;00m \u001b[38;5;21;01mscipy\u001b[39;00m\u001b[38;5;21;01m.\u001b[39;00m\u001b[38;5;21;01minterpolate\u001b[39;00m\n\u001b[0;32m----> 6\u001b[0m \u001b[38;5;28;01mfrom\u001b[39;00m \u001b[38;5;21;01m.\u001b[39;00m \u001b[38;5;28;01mimport\u001b[39;00m healpix\n\u001b[1;32m      7\u001b[0m \u001b[38;5;28;01mfrom\u001b[39;00m \u001b[38;5;21;01m.\u001b[39;00m \u001b[38;5;28;01mimport\u001b[39;00m survey_register\n\u001b[1;32m      8\u001b[0m \u001b[38;5;28;01mfrom\u001b[39;00m \u001b[38;5;21;01mmatplotlib\u001b[39;00m\u001b[38;5;21;01m.\u001b[39;00m\u001b[38;5;21;01mlines\u001b[39;00m \u001b[38;5;28;01mimport\u001b[39;00m Line2D\n",
      "File \u001b[0;32m~/anaconda3/envs/shapepipe/lib/python3.8/site-packages/skymapper/healpix.py:1\u001b[0m, in \u001b[0;36m<module>\u001b[0;34m\u001b[0m\n\u001b[0;32m----> 1\u001b[0m \u001b[38;5;28;01mimport\u001b[39;00m \u001b[38;5;21;01mhealpy\u001b[39;00m \u001b[38;5;28;01mas\u001b[39;00m \u001b[38;5;21;01mhp\u001b[39;00m\n\u001b[1;32m      2\u001b[0m \u001b[38;5;28;01mimport\u001b[39;00m \u001b[38;5;21;01mnumpy\u001b[39;00m \u001b[38;5;28;01mas\u001b[39;00m \u001b[38;5;21;01mnp\u001b[39;00m\n\u001b[1;32m      4\u001b[0m \u001b[38;5;66;03m# python 3 compatible\u001b[39;00m\n",
      "File \u001b[0;32m~/anaconda3/envs/shapepipe/lib/python3.8/site-packages/healpy/__init__.py:67\u001b[0m, in \u001b[0;36m<module>\u001b[0;34m\u001b[0m\n\u001b[1;32m     26\u001b[0m \u001b[38;5;28;01mfrom\u001b[39;00m \u001b[38;5;21;01m.\u001b[39;00m\u001b[38;5;21;01mversion\u001b[39;00m \u001b[38;5;28;01mimport\u001b[39;00m __version__\n\u001b[1;32m     28\u001b[0m \u001b[38;5;28;01mfrom\u001b[39;00m \u001b[38;5;21;01m.\u001b[39;00m\u001b[38;5;21;01mpixelfunc\u001b[39;00m \u001b[38;5;28;01mimport\u001b[39;00m (\n\u001b[1;32m     29\u001b[0m     ma,\n\u001b[1;32m     30\u001b[0m     mask_good,\n\u001b[0;32m   (...)\u001b[0m\n\u001b[1;32m     64\u001b[0m     get_map_size,\n\u001b[1;32m     65\u001b[0m )\n\u001b[0;32m---> 67\u001b[0m \u001b[38;5;28;01mfrom\u001b[39;00m \u001b[38;5;21;01m.\u001b[39;00m\u001b[38;5;21;01msphtfunc\u001b[39;00m \u001b[38;5;28;01mimport\u001b[39;00m (\n\u001b[1;32m     68\u001b[0m     anafast,\n\u001b[1;32m     69\u001b[0m     map2alm,\n\u001b[1;32m     70\u001b[0m     alm2map,\n\u001b[1;32m     71\u001b[0m     Alm,\n\u001b[1;32m     72\u001b[0m     synalm,\n\u001b[1;32m     73\u001b[0m     synfast,\n\u001b[1;32m     74\u001b[0m     smoothing,\n\u001b[1;32m     75\u001b[0m     smoothalm,\n\u001b[1;32m     76\u001b[0m     almxfl,\n\u001b[1;32m     77\u001b[0m     alm2cl,\n\u001b[1;32m     78\u001b[0m     pixwin,\n\u001b[1;32m     79\u001b[0m     alm2map_der1,\n\u001b[1;32m     80\u001b[0m     gauss_beam,\n\u001b[1;32m     81\u001b[0m     bl2beam,\n\u001b[1;32m     82\u001b[0m     beam2bl,\n\u001b[1;32m     83\u001b[0m     check_max_nside,\n\u001b[1;32m     84\u001b[0m     map2alm_spin,\n\u001b[1;32m     85\u001b[0m     alm2map_spin,\n\u001b[1;32m     86\u001b[0m     blm_gauss\n\u001b[1;32m     87\u001b[0m )\n\u001b[1;32m     89\u001b[0m \u001b[38;5;28;01mfrom\u001b[39;00m \u001b[38;5;21;01m.\u001b[39;00m\u001b[38;5;21;01m_query_disc\u001b[39;00m \u001b[38;5;28;01mimport\u001b[39;00m query_disc, query_strip, query_polygon, boundaries\n\u001b[1;32m     90\u001b[0m \u001b[38;5;28;01mfrom\u001b[39;00m \u001b[38;5;21;01m.\u001b[39;00m\u001b[38;5;21;01m_pixelfunc\u001b[39;00m \u001b[38;5;28;01mimport\u001b[39;00m ringinfo, pix2ring\n",
      "File \u001b[0;32m~/anaconda3/envs/shapepipe/lib/python3.8/site-packages/healpy/sphtfunc.py:33\u001b[0m, in \u001b[0;36m<module>\u001b[0;34m\u001b[0m\n\u001b[1;32m     30\u001b[0m DATAURL \u001b[38;5;241m=\u001b[39m \u001b[38;5;124m\"\u001b[39m\u001b[38;5;124mhttps://healpy.github.io/healpy-data/\u001b[39m\u001b[38;5;124m\"\u001b[39m\n\u001b[1;32m     31\u001b[0m DATAURL_MIRROR \u001b[38;5;241m=\u001b[39m \u001b[38;5;124m\"\u001b[39m\u001b[38;5;124mhttps://github.com/healpy/healpy-data/releases/download/\u001b[39m\u001b[38;5;124m\"\u001b[39m\n\u001b[0;32m---> 33\u001b[0m \u001b[38;5;28;01mfrom\u001b[39;00m \u001b[38;5;21;01m.\u001b[39;00m \u001b[38;5;28;01mimport\u001b[39;00m _healpy_sph_transform_lib \u001b[38;5;28;01mas\u001b[39;00m sphtlib\n\u001b[1;32m     34\u001b[0m \u001b[38;5;28;01mfrom\u001b[39;00m \u001b[38;5;21;01m.\u001b[39;00m \u001b[38;5;28;01mimport\u001b[39;00m _sphtools \u001b[38;5;28;01mas\u001b[39;00m _sphtools\n\u001b[1;32m     35\u001b[0m \u001b[38;5;28;01mfrom\u001b[39;00m \u001b[38;5;21;01m.\u001b[39;00m \u001b[38;5;28;01mimport\u001b[39;00m cookbook \u001b[38;5;28;01mas\u001b[39;00m cb\n",
      "\u001b[0;31mImportError\u001b[0m: dlopen(/Users/mkilbing/anaconda3/envs/shapepipe/lib/python3.8/site-packages/healpy/_healpy_sph_transform_lib.cpython-38-darwin.so, 2): Symbol not found: _aligned_alloc\n  Referenced from: /Users/mkilbing/anaconda3/envs/shapepipe/lib/python3.8/site-packages/healpy/.dylibs/libstdc++.6.dylib (which was built for Mac OS X 11.3)\n  Expected in: /usr/lib/libSystem.B.dylib\n in /Users/mkilbing/anaconda3/envs/shapepipe/lib/python3.8/site-packages/healpy/.dylibs/libstdc++.6.dylib"
     ]
    }
   ],
   "source": [
    "import os\n",
    "import sys\n",
    "import re\n",
    "import numpy as np\n",
    "import pylab as plt\n",
    "from astropy.io import fits\n",
    "from shapepipe.utilities import cfis\n",
    "from astropy.coordinates import SkyCoord, match_coordinates_sky\n",
    "from astropy import units as u\n",
    "import pandas as pd\n",
    "\n",
    "import skymapper as skm"
   ]
  },
  {
   "cell_type": "markdown",
   "metadata": {},
   "source": [
    "## Spectroscopic surveys"
   ]
  },
  {
   "cell_type": "markdown",
   "metadata": {},
   "source": [
    "### Data directory\n",
    "The catalogs need to be downloaded from the following URLs beforehand.\n",
    "The 3DHST survey requires registration before tha data can be accessed."
   ]
  },
  {
   "cell_type": "code",
   "execution_count": 4,
   "metadata": {},
   "outputs": [],
   "source": [
    "# Download spectroscopic data:\n",
    "# - 3DHST (AEGIS and GOODS-N)\n",
    "#   http://monoceros.astro.yale.edu/RELEASE_V4.1.5/3dhst.v4.1.5.master.fits.gz\n",
    "#   (Need to first register at https://3dhst.research.yale.edu/signup.php)\n",
    "# - DEEP2, DEEP3:\n",
    "#   deep.ps.uci.edu/deep3/zcat_archive/alldeep.egs.uniq.2012jun13.fits.gz\n",
    "# - SDSS\n",
    "#   - BOSS CMASS + LOWZ DR12:\n",
    "#     https://data.sdss.org/sas/dr12/boss/lss/galaxy_DR12v5_CMASSLOWZTOT_North.fits.gz\n",
    "#     https://data.sdss.org/sas/dr12/boss/lss/galaxy_DR12v5_CMASSLOWZTOT_South.fits.gz\n",
    "# - eBOSS:\n",
    "#   - LRG DR14\n",
    "#     https://data.sdss.org/sas/dr14/eboss/lss/catalogs/data_DR14_LRG_N.fits\n",
    "#     https://data.sdss.org/sas/dr14/eboss/lss/catalogs/data_DR14_LRG_S.fits\n",
    "#   - LRG + CMASS DR16\n",
    "#     https://data.sdss.org/sas/dr16/eboss/lss/catalogs/DR16/eBOSS_LRGpCMASS_clustering_data-NGC-vDR16.fits\n",
    "#     https://data.sdss.org/sas/dr16/eboss/lss/catalogs/DR16/eBOSS_LRGpCMASS_clustering_data-SGC-vDR16.fits\n",
    "#   - ELG DR 16\n",
    "#     https://data.sdss.org/sas/dr16/eboss/lss/catalogs/DR16/eBOSS_ELG_clustering_data-NGC-vDR16.fits\n",
    "#     https://data.sdss.org/sas/dr16/eboss/lss/catalogs/DR16/eBOSS_ELG_clustering_data-SGC-vDR16.fits\n",
    "# - SDSS value-added main sample\n",
    "#   http://sdss.physics.nyu.edu/vagc/#download\n",
    "# - AGES:\n",
    "#   http://vizier.cfa.harvard.edu/viz-bin/VizieR-3?-source=J/ApJS/200/8/sources\n",
    "\n",
    "# Download directory\n",
    "cat_home = '{}/astro/data/CFIS/spectro_surveys'.format(os.environ['HOME'])"
   ]
  },
  {
   "cell_type": "markdown",
   "metadata": {},
   "source": [
    "### Spectroscopic survey information"
   ]
  },
  {
   "cell_type": "code",
   "execution_count": 5,
   "metadata": {},
   "outputs": [],
   "source": [
    "class Survey(object):\n",
    "    \"\"\"Survey\n",
    "    Data and information for a spectroscopic survey.\n",
    "    \n",
    "    Parameters\n",
    "    ----------\n",
    "    name : string\n",
    "        survey name\n",
    "    color : string\n",
    "        plot color\n",
    "    dec_min : float, optional, default=30\n",
    "        minimum declination, data with dec<dec_min is cut, in degrees\n",
    "    dec_max : float, optional, default=90\n",
    "        maximum declination, data with dec>dec_max is cut, in degrees\n",
    "    wrap_ra : float, optional, default=None\n",
    "        use wrap_ra instead of 0 to compute min and max of ra, in degrees;\n",
    "        useful if ra coordinates wrap around 0. \n",
    "    \"\"\"\n",
    "\n",
    "    def __init__(self, name, color, dec_min=30, dec_max=90, wrap_ra=None):\n",
    "        \n",
    "        self.name = name\n",
    "        self.color = color\n",
    "        self.dec_min = dec_min\n",
    "        self.dec_max = dec_max\n",
    "        self._wrap_ra = wrap_ra\n",
    "        \n",
    "    @classmethod\n",
    "    def from_fits(cls, name, color, path, key_ra='ra', key_dec='dec', dec_min=30, dec_max=90, wrap_ra=0):\n",
    "        \"\"\"Get coordinates from FITS file\n",
    "        \"\"\"\n",
    "        \n",
    "        dat = fits.open(path)\n",
    "        ra = dat[1].data[key_ra]\n",
    "        dec = dat[1].data[key_dec]\n",
    "        \n",
    "        c = cls(name, color, dec_min=dec_min, dec_max=dec_max, wrap_ra=wrap_ra)\n",
    "        c.set_coords(ra, dec)\n",
    "        return c\n",
    "    \n",
    "    @classmethod\n",
    "    def from_array(cls, name, color, ra, dec, dec_min=30, dec_max=90, wrap_ra=0):\n",
    "        \"\"\"Get coordinates from arrays\n",
    "        \"\"\"\n",
    "        \n",
    "        c = cls(name, color, dec_min=dec_min, dec_max=dec_max, wrap_ra=wrap_ra)\n",
    "        c.set_coords(np.array(ra), np.array(dec))\n",
    "        return c\n",
    "\n",
    "    def set_coords(self, ra, dec):\n",
    "        \"\"\"Set coordinates with cuts (UNIONS footprint)\n",
    "        \"\"\"  \n",
    "        \n",
    "        # Cut area\n",
    "        idx1 = (self.dec_min < dec)\n",
    "        idx2 = (dec < self.dec_max)\n",
    "        idx = idx1 & idx2\n",
    "        \n",
    "        n_tot = len(dec)\n",
    "        n_UNIONS = len(dec[idx])\n",
    "        print('{}: {} objects in total, {}/{} = {:.1f}% '\n",
    "              'potentially in UNIONS footprint'\n",
    "              ''.format(self.name, n_tot, n_UNIONS, n_tot, n_UNIONS/n_tot*100))\n",
    "        \n",
    "        if self._wrap_ra:\n",
    "            self._ra = (ra[idx] + self._wrap_ra)  % 360 - self._wrap_ra + 360\n",
    "        else:\n",
    "            self._ra = ra[idx]\n",
    "        self._dec = dec[idx]\n",
    "        \n",
    "        if len(self._ra) > 0:\n",
    "            self._min_ra = min(self._ra)\n",
    "            self._max_ra = max(self._ra)\n",
    "            self._min_dec = min(self._dec)\n",
    "            self._max_dec = max(self._dec)"
   ]
  },
  {
   "cell_type": "markdown",
   "metadata": {},
   "source": [
    "### Load the spectroscopic survey data\n",
    "Define the survey specifications, including name, plot color, and coordinate cuts.\n",
    "\n",
    "Note: For surveys that extend across the R.A.=0 meridian, use the optional argument `wrap_ra=X` and chose `X` (in degrees) accordingly, such that the data split in R.A. is at `X`."
   ]
  },
  {
   "cell_type": "code",
   "execution_count": 6,
   "metadata": {},
   "outputs": [
    {
     "name": "stdout",
     "output_type": "stream",
     "text": [
      "3DHST-AEGIS: 207967 objects in total, 41200/207967 = 19.8% potentially in UNIONS footprint\n",
      "3DHST-GOODS-N: 207967 objects in total, 38279/207967 = 18.4% potentially in UNIONS footprint\n"
     ]
    }
   ],
   "source": [
    "surveys = []\n",
    "\n",
    "use = ['3DHST-AEGIS', '3DHST-GOODS-N']\n",
    "\n",
    "#use = ['DEEP2+3', 'AGES', 'HectoMap-groups',\n",
    "#        'CMASSLOWZ12-N', 'CMASSLOWZ12-S', 'eBOSSLRG14-N', 'eBOSSLRG14-S', 'NYUVAGC-N', \n",
    "#       'eBOSSLRGCMASS16-N', 'eBOSSLRGCMASS16-S', 'eBOSSELG16-N',\n",
    "#       'eBOSSQSO16-N', 'eBOSSQSO16-S']\n",
    "\n",
    "if 'Test' in use:\n",
    "    surveys.append(Survey.from_array('Test', 'orange',\n",
    "                                     [1, 1.1], [29.5, 29.6], dec_min=28))       \n",
    "if '3DHST-AEGIS' in use:\n",
    "    surveys.append(Survey.from_fits('3DHST-AEGIS', 'green',\n",
    "                                    '{}/3dhst.v4.1.5.master.fits'.format(cat_home), \n",
    "                                    dec_max=60))\n",
    "if '3DHST-GOODS-N' in use:\n",
    "    surveys.append(Survey.from_fits('3DHST-GOODS-N', 'blue',\n",
    "                                    '{}/3dhst.v4.1.5.master.fits'.format(cat_home), \n",
    "                                    dec_min=60))\n",
    "if 'DEEP2+3' in use:\n",
    "    surveys.append(Survey.from_fits('DEEP2+3', 'magenta',\n",
    "                                    '{}/alldeep.egs.uniq.2012jun13.fits'.format(cat_home),\n",
    "                                    key_ra='RA', key_dec='dec'))\n",
    "if 'AGES' in use:\n",
    "    surveys.append(Survey.from_fits('AGES', 'red',\n",
    "                                    '{}/ages.fits'.format(cat_home),\n",
    "                                    key_ra='RAJ2000', key_dec='DEJ2000'))\n",
    "if 'CMASSLOWZ12-N' in use:\n",
    "    surveys.append(Survey.from_fits('CMASSLOWZ12-N', 'grey',\n",
    "                                    '{}/galaxy_DR12v5_CMASSLOWZTOT_North.fits'.format(cat_home),\n",
    "                                    key_ra='RA', key_dec='DEC'))\n",
    "if 'CMASSLOWZ12-S' in use:\n",
    "    surveys.append(Survey.from_fits('CMASSLOWZ12-S', 'grey',\n",
    "                                    '{}/galaxy_DR12v5_CMASSLOWZTOT_South.fits'.format(cat_home),\n",
    "                                    key_ra='RA', key_dec='DEC', wrap_ra=180))\n",
    "if 'eBOSSLRG14-N' in use:\n",
    "    surveys.append(Survey.from_fits('eBOSSLRG14-N', 'grey',\n",
    "                                    '{}/data_DR14_LRG_N.fits'.format(cat_home),\n",
    "                                    key_ra='RA', key_dec='DEC'))\n",
    "if 'eBOSSLRG14-S'in use:\n",
    "    surveys.append(Survey.from_fits('eBOSSLRG14-S', 'grey',\n",
    "                                    '{}/data_DR14_LRG_S.fits'.format(cat_home),\n",
    "                                    key_ra='RA', key_dec='DEC'))\n",
    "if 'NYUVAGC-N' in use:\n",
    "    surveys.append(Survey.from_fits('NYUVAGC-N', 'grey',\n",
    "                                    '{}/sdss_main_gal.fits'.format(cat_home),\n",
    "                                    key_ra='RA', key_dec='DEC', wrap_ra=300))\n",
    "   \n",
    "if 'eBOSSLRGCMASS16-N' in use:\n",
    "   surveys.append(Survey.from_fits('eBOSSLRGCMASS16-N', 'grey',\n",
    "                                    '{}/eBOSS_LRGpCMASS_clustering_data-NGC-vDR16.fits'.format(cat_home),\n",
    "                                    key_ra='RA', key_dec='DEC'))\n",
    "    \n",
    "if 'eBOSSLRGCMASS16-S' in use:\n",
    "   surveys.append(Survey.from_fits('eBOSSLRGCMASS16-S', 'grey',\n",
    "                                    '{}/eBOSS_LRGpCMASS_clustering_data-SGC-vDR16.fits'.format(cat_home),\n",
    "                                    key_ra='RA', key_dec='DEC', wrap_ra=180))    \n",
    "if 'eBOSSELG16-N' in use:\n",
    "   surveys.append(Survey.from_fits('eBOSSELG16-N', 'grey',\n",
    "                                    '{}/eBOSS_ELG_clustering_data-NGC-vDR16.fits'.format(cat_home),\n",
    "                                    key_ra='RA', key_dec='DEC'))\n",
    "\n",
    "# No overlap with CFIS\n",
    "if 'eBOSSELG16-S' in use:\n",
    "   surveys.append(Survey.from_fits('eBOSSELG16-S', 'grey',\n",
    "                                    '{}/eBOSS_ELG_clustering_data-SGC-vDR16.fits'.format(cat_home),\n",
    "                                    key_ra='RA', key_dec='DEC', wrap_ra=180))\n",
    "    \n",
    "if 'eBOSSQSO16-N' in use:\n",
    "   surveys.append(Survey.from_fits('eBOSSQSO16-N', 'grey',\n",
    "                                    '{}/eBOSS_QSO_clustering_data-NGC-vDR16.fits'.format(cat_home),\n",
    "                                    key_ra='RA', key_dec='DEC'))\n",
    "    \n",
    "if 'eBOSSQSO16-S' in use:\n",
    "   surveys.append(Survey.from_fits('eBOSSQSO16-S', 'grey',\n",
    "                                    '{}/eBOSS_QSO_clustering_data-SGC-vDR16.fits'.format(cat_home),\n",
    "                                    key_ra='RA', key_dec='DEC'))\n",
    "\n",
    "if 'HectoMap-groups'in use:\n",
    "    surveys.append(Survey.from_fits('HectoMap-groups', 'cyan',\n",
    "                                    '{}/asu.fit'.format(cat_home),\n",
    "                                    key_ra='RAJ2000', key_dec='DEJ2000'))\n",
    "    \n",
    "if 'DECaLS-groups'in use:\n",
    "    surveys.append(Survey.from_fits('DECaLS-groups', 'cyan',\n",
    "                                    '{}/DESI_NGC_group_cut.txt.fits'.format(cat_home),\n",
    "                                    key_ra='RA[deg]', key_dec='DEC[deg]'))"
   ]
  },
  {
   "cell_type": "markdown",
   "metadata": {},
   "source": [
    "### Compute fraction of matched objects between SDSS sampes"
   ]
  },
  {
   "cell_type": "code",
   "execution_count": 7,
   "metadata": {},
   "outputs": [
    {
     "name": "stdout",
     "output_type": "stream",
     "text": [
      "3DHST-GOODS-N 3DHST-GOODS-N\t\t 0/38279 = 0.00% objects not matched\n"
     ]
    }
   ],
   "source": [
    "fraction = {}\n",
    "fraction['N'] = {} # np.zeros(shape=(len(surveys), len(surveys)))\n",
    "fraction['S'] = {} # np.zeros(shape=(len(surveys), len(surveys)))\n",
    "\n",
    "tolerance = 1.0 * u.arcsec\n",
    "\n",
    "for s1 in surveys:\n",
    "    if len(s1._ra) == 0:\n",
    "        continue\n",
    "        \n",
    "    c1 = SkyCoord(ra=s1._ra, dec=s1._dec, unit='deg')\n",
    "\n",
    "    for s2 in surveys:\n",
    "        if len(s2._ra) == 0:\n",
    "            continue\n",
    "             \n",
    "        c2 = SkyCoord(ra=s2._ra, dec=s2._dec, unit='deg')\n",
    "\n",
    "        idx, d2d, d3d = match_coordinates_sky(c1, c2, nthneighbor=1)\n",
    "\n",
    "        idx_close = d2d > tolerance\n",
    "        id_sub = np.where(idx_close==True)[0]\n",
    "        \n",
    "        for hemisph in ['N', 'S']:\n",
    "            if re.search('-{}'.format(hemisph), s1.name) and \\\n",
    "                re.search('-{}'.format(hemisph), s2.name):\n",
    "\n",
    "                    if s1.name not in fraction[hemisph]:\n",
    "                        fraction[hemisph][s1.name] = {}\n",
    "                        \n",
    "                    fraction[hemisph][s1.name][s2.name] = len(id_sub) / len(idx)\n",
    "                    \n",
    "                    print(s1.name, s2.name, end='\\t\\t')\n",
    "                    print(' {}/{} = {:.2f}% objects not matched'\n",
    "                          ''.format(len(id_sub), len(idx), 100*fraction[hemisph][s1.name][s2.name]))"
   ]
  },
  {
   "cell_type": "code",
   "execution_count": 8,
   "metadata": {},
   "outputs": [
    {
     "data": {
      "text/html": [
       "<style  type=\"text/css\" >\n",
       "#T_c860e_row0_col0{\n",
       "            background-color:  #3b4cc0;\n",
       "            color:  #f1f1f1;\n",
       "        }</style><table id=\"T_c860e_\" ><thead>    <tr>        <th class=\"blank level0\" ></th>        <th class=\"col_heading level0 col0\" >3DHST-GOODS-N</th>    </tr></thead><tbody>\n",
       "                <tr>\n",
       "                        <th id=\"T_c860e_level0_row0\" class=\"row_heading level0 row0\" >3DHST-GOODS-N</th>\n",
       "                        <td id=\"T_c860e_row0_col0\" class=\"data row0 col0\" >0.00</td>\n",
       "            </tr>\n",
       "    </tbody></table>"
      ],
      "text/plain": [
       "<pandas.io.formats.style.Styler at 0x11febf820>"
      ]
     },
     "execution_count": 8,
     "metadata": {},
     "output_type": "execute_result"
    }
   ],
   "source": [
    "df_N = pd.DataFrame(fraction['N'])\n",
    "df_N.style.background_gradient(cmap='coolwarm').set_precision(2)"
   ]
  },
  {
   "cell_type": "code",
   "execution_count": 9,
   "metadata": {},
   "outputs": [
    {
     "data": {
      "text/html": [
       "<style  type=\"text/css\" >\n",
       "</style><table id=\"T_70a0f_\" ><thead></thead><tbody>\n",
       "        </tbody></table>"
      ],
      "text/plain": [
       "<pandas.io.formats.style.Styler at 0x12b395970>"
      ]
     },
     "execution_count": 9,
     "metadata": {},
     "output_type": "execute_result"
    }
   ],
   "source": [
    "df_S = pd.DataFrame(fraction['S'])\n",
    "df_S.style.background_gradient(cmap='coolwarm').set_precision(2)"
   ]
  },
  {
   "cell_type": "markdown",
   "metadata": {},
   "source": [
    "## UNIONS/CFIS data"
   ]
  },
  {
   "cell_type": "markdown",
   "metadata": {},
   "source": [
    "### Set-up\n",
    "Define optical bands, paths, and load image IDs."
   ]
  },
  {
   "cell_type": "code",
   "execution_count": 13,
   "metadata": {},
   "outputs": [
    {
     "name": "stdout",
     "output_type": "stream",
     "text": [
      "32627 image files found in input file '/Users/mkilbing/astro/repositories/github/shapepipe/auxdir/CFIS/tiles_202205/tiles_u.txt'\n",
      "18754 image files found in input file '/Users/mkilbing/astro/repositories/github/shapepipe/auxdir/CFIS/tiles_202205/tiles_r.txt'\n",
      "22168 image files found in input file '/Users/mkilbing/astro/repositories/github/shapepipe/auxdir/CFIS/tiles_202205/tiles_i.txt'\n",
      "1080 image files found in input file '/Users/mkilbing/astro/repositories/github/shapepipe/auxdir/CFIS/tiles_202205/tiles_z.txt'\n"
     ]
    }
   ],
   "source": [
    "# Variables\n",
    "unit = 'deg'\n",
    "image_type = 'tile'\n",
    "bands = ['u', 'r', 'i', 'z']\n",
    "colors = ['b', 'r', 'darkred', 'm']\n",
    "\n",
    "# Padding around search area in plot\n",
    "d = 0.5\n",
    "\n",
    "# Input tiles ID files\n",
    "sp_home = '{}/astro/repositories/github/shapepipe'.format(os.environ['HOME'])\n",
    "tiles_dir = '{}/auxdir/CFIS/tiles_202205'.format(sp_home)\n",
    "tiles_ID = {}\n",
    "for band in bands:\n",
    "    tiles_ID[band] = '{}/tiles_{}.txt'.format(tiles_dir, band)\n",
    "    \n",
    "# Output tiles ID file base names\n",
    "tiles_ID_base = './tile_'\n",
    "tiles_all_ID_base = '{}{}'.format(tiles_ID_base, ''.join(bands))\n",
    "\n",
    "# Get list of all images\n",
    "images = {}\n",
    "for band in bands:\n",
    "    images[band] = cfis.get_image_list(tiles_ID[band], band, image_type, input_format='ID_only', verbose=True)"
   ]
  },
  {
   "cell_type": "markdown",
   "metadata": {},
   "source": [
    "## Finding overlapping sky area\n",
    "For simplicity a rectangular area in R.A. and DEC is determined."
   ]
  },
  {
   "cell_type": "code",
   "execution_count": 14,
   "metadata": {},
   "outputs": [
    {
     "name": "stdout",
     "output_type": "stream",
     "text": [
      "3DHST-AEGIS\n",
      "  214.08deg_52.18deg_215.81deg_53.61deg\n",
      " 6 u-band images in overlap area found\n",
      " 6 r-band images in overlap area found\n",
      " 6 i-band images in overlap area found\n",
      " 0 z-band images in overlap area found\n",
      "3DHST-GOODS-N\n",
      "  188.42deg_61.59deg_190.06deg_62.89deg\n",
      " 3 u-band images in overlap area found\n",
      " 1 r-band images in overlap area found\n",
      " 3 i-band images in overlap area found\n",
      " 0 z-band images in overlap area found\n"
     ]
    }
   ],
   "source": [
    "import imp\n",
    "imp.reload(cfis)\n",
    "\n",
    "angles = {}\n",
    "images_overlap = {}\n",
    "for s in surveys:\n",
    "\n",
    "    print(s.name)\n",
    "\n",
    "    # Create area string\n",
    "    area_str = '{0:.2f}{4}_{1:.2f}{4}_{2:.2f}{4}_{3:.2f}{4}'\\\n",
    "               ''.format(s._min_ra - d,\n",
    "                         s._min_dec - d,\n",
    "                         s._max_ra + d,\n",
    "                         s._max_dec + d,\n",
    "                         unit)\n",
    "   \n",
    "    print(' ', area_str)\n",
    "    # Get area coordinates from string\n",
    "    angles[s.name] = cfis.get_Angle_arr(area_str, num=4, wrap=False)\n",
    " \n",
    "    # Get images in selected area\n",
    "    images_overlap[s.name] = {}\n",
    "    for band in bands:\n",
    "        images_overlap[s.name][band] = cfis.find_images_in_area(images[band],\n",
    "                                                                angles[s.name], band,\n",
    "                                                                image_type, verbose=(bands=='u'))\n",
    "        print(' {} {}-band images in overlap area found'\n",
    "              ''.format(len(images_overlap[s.name][band]), band))"
   ]
  },
  {
   "cell_type": "code",
   "execution_count": 27,
   "metadata": {},
   "outputs": [
    {
     "data": {
      "text/plain": [
       "'CFIS.175.305.r.fits'"
      ]
     },
     "execution_count": 27,
     "metadata": {},
     "output_type": "execute_result"
    }
   ],
   "source": [
    "images_overlap['3DHST-GOODS-N']['r'][0].name"
   ]
  },
  {
   "cell_type": "markdown",
   "metadata": {},
   "source": [
    "## Identify tile IDs for which some or all multi-band images are present"
   ]
  },
  {
   "cell_type": "code",
   "execution_count": 15,
   "metadata": {},
   "outputs": [
    {
     "name": "stdout",
     "output_type": "stream",
     "text": [
      "3DHST-AEGIS: 6 common tiles in uri\n",
      "3DHST-GOODS-N: 1 common tiles in uri\n"
     ]
    }
   ],
   "source": [
    "ID = {}\n",
    "for s in surveys:\n",
    "    ID[s.name] = {}\n",
    "    \n",
    "    # Get ID strings\n",
    "    for b in bands:\n",
    "        ID[s.name][b] = []\n",
    "        for img in images_overlap[s.name][b]:\n",
    "            ID[s.name][b].append(img.get_ID())\n",
    "\n",
    "    # Get common elements by using set intersection\n",
    "    bands_str = ''\n",
    "    for b in bands:\n",
    "        if len(ID[s.name][b]) > 0:\n",
    "            if not 'all' in ID[s.name]:\n",
    "                ID[s.name]['all'] = set(ID[s.name][b])\n",
    "            else:\n",
    "                ID[s.name]['all'] = ID[s.name]['all'].intersection(ID[s.name][b])\n",
    "\n",
    "            bands_str = '{}{}'.format(bands_str, b)\n",
    "\n",
    "    print('{}: {} common tiles in {}'.format(s.name, len(ID[s.name]['all']), bands_str))\n",
    "            \n",
    "# Write to text files\n",
    "for s in surveys:\n",
    "    if len(ID[s.name]['all']) > 0:\n",
    "        #out_path = '{}_{}.txt'.format(tiles_all_ID_base, s.name)\n",
    "        out_path = '{}{}_{}.txt'.format(tiles_ID_base, bands_str, s.name)\n",
    "        f = open(out_path, 'w')\n",
    "        f.write('\\n'.join(ID[s.name]['all']))\n",
    "        f.write('\\n')\n",
    "        f.close()"
   ]
  },
  {
   "cell_type": "markdown",
   "metadata": {},
   "source": [
    "## Plotting the sky areas\n",
    "Create a plot for each spectroscopic survey, showing the spectro objects and UNIONS tiles."
   ]
  },
  {
   "cell_type": "code",
   "execution_count": 16,
   "metadata": {},
   "outputs": [
    {
     "name": "stdout",
     "output_type": "stream",
     "text": [
      "3DHST-AEGIS\n"
     ]
    },
    {
     "ename": "NameError",
     "evalue": "name 'skm' is not defined",
     "output_type": "error",
     "traceback": [
      "\u001b[0;31m---------------------------------------------------------------------------\u001b[0m",
      "\u001b[0;31mNameError\u001b[0m                                 Traceback (most recent call last)",
      "Input \u001b[0;32mIn [16]\u001b[0m, in \u001b[0;36m<cell line: 12>\u001b[0;34m()\u001b[0m\n\u001b[1;32m     42\u001b[0m lat_2 \u001b[38;5;241m=\u001b[39m \u001b[38;5;241m30\u001b[39m\n\u001b[1;32m     44\u001b[0m \u001b[38;5;66;03m## Projection\u001b[39;00m\n\u001b[0;32m---> 45\u001b[0m proj \u001b[38;5;241m=\u001b[39m \u001b[43mskm\u001b[49m\u001b[38;5;241m.\u001b[39mAlbers(lon_0, lat_0, lat_1, lat_2)\n\u001b[1;32m     47\u001b[0m \u001b[38;5;66;03m## Create map\u001b[39;00m\n\u001b[1;32m     48\u001b[0m \u001b[38;5;28mmap\u001b[39m \u001b[38;5;241m=\u001b[39m skm\u001b[38;5;241m.\u001b[39mMap(proj)\n",
      "\u001b[0;31mNameError\u001b[0m: name 'skm' is not defined"
     ]
    }
   ],
   "source": [
    "# Image size\n",
    "size = cfis.size[image_type] / 2\n",
    "\n",
    "# Max number of spectro objects in plots\n",
    "n_sp_max = 20000\n",
    "\n",
    "# Image threshold for plotting options\n",
    "n_tiles_thres = 100\n",
    "\n",
    "separation = size * np.sqrt(2) * u.deg\n",
    "\n",
    "for s in surveys:\n",
    "    \n",
    "    print(s.name)\n",
    "    \n",
    "    dxy = 0\n",
    "    ra_all = []\n",
    "    dec_all = []\n",
    "    for band, color in zip(bands, colors):\n",
    "        ra_all.extend([img.ra.degree for img in images_overlap[s.name][band]])\n",
    "        dec_all.extend([img.dec.degree for img in images_overlap[s.name][band]])\n",
    "    ra_all = np.array(ra_all)\n",
    "    dec_all = np.array(dec_all)\n",
    "    \n",
    "    n_img = len(ra_all)\n",
    "    \n",
    "    if n_img > n_tiles_thres:\n",
    "        lw = 0.05\n",
    "        sep = 15\n",
    "        plt.rcParams['lines.markersize'] = 0.25\n",
    "    else:\n",
    "        lw = 0.25\n",
    "        sep = 1\n",
    "        plt.rcParams['lines.markersize'] = 1\n",
    "        \n",
    "    # Create map projection\n",
    "    ## image of (0 0)\n",
    "    lon_0 = np.mean(ra_all)\n",
    "    lat_0 = np.mean(dec_all)\n",
    "    ## the two standard latitudes\n",
    "    lat_1 = 0\n",
    "    lat_2 = 30\n",
    "\n",
    "    ## Projection\n",
    "    proj = skm.Albers(lon_0, lat_0, lat_1, lat_2)\n",
    "\n",
    "    ## Create map\n",
    "    map = skm.Map(proj)\n",
    "    \n",
    "    ## Image squares as vertices\n",
    "    for band, color in zip(bands, colors):\n",
    "        nimg = len(images_overlap[s.name][band])\n",
    "        if nimg > 0:\n",
    "                    \n",
    "            for i, img in enumerate(images_overlap[s.name][band]):\n",
    "               \n",
    "                # Draw lines between image corners\n",
    "                center = SkyCoord(img.ra, img.dec)\n",
    "                pos = []\n",
    "                for position_angle in [45, 135, 225, 315]:\n",
    "                    pos.append(center.directional_offset_by(position_angle * u.deg, separation))\n",
    "                pos.append(pos[0])\n",
    "                cx = np.array([p.ra.deg for p in pos]) + dxy\n",
    "                cy = np.array([p.dec.deg for p in pos]) + dxy\n",
    "                map.plot(cx, cy, '-', color=color, linewidth=lw)\n",
    "\n",
    "            dxy = dxy + 0.05\n",
    "\n",
    "    # Spectroscopic objects\n",
    "    if len(s._ra > n_sp_max):\n",
    "        idx  = np.random.choice(len(s._ra), n_sp_max)\n",
    "        ra = s._ra[idx]\n",
    "        dec = s._dec[idx]\n",
    "    else:\n",
    "        ra = s._ra\n",
    "        dec = s._dec\n",
    "    map.scatter(ra, dec, marker='o', color=s.color, edgecolors='none',  alpha=1)\n",
    "    \n",
    "    # Draw grid\n",
    "    map.grid(sep=sep)\n",
    "    \n",
    "    #ra_min_max = ra_all.min(), ra_all.max()\n",
    "    ra_min_max = s._min_ra, s._max_ra\n",
    "    dec_min_max = dec_all.min(), dec_all.max()\n",
    "\n",
    "    map.ax.set_xlabel('R.A. [deg]')\n",
    "    map.ax.set_ylabel('DEC [deg]')\n",
    "    map.title(s.name)\n",
    "\n",
    "    map.focus(np.array(ra_min_max), np.array(dec_min_max), pad=0.25)\n",
    "\n",
    "    map.savefig('{}_spherical.pdf'.format(s.name))\n",
    "    plt.show()"
   ]
  },
  {
   "cell_type": "code",
   "execution_count": null,
   "metadata": {},
   "outputs": [],
   "source": []
  }
 ],
 "metadata": {
  "kernelspec": {
   "display_name": "Python 3 (ipykernel)",
   "language": "python",
   "name": "python3"
  },
  "language_info": {
   "codemirror_mode": {
    "name": "ipython",
    "version": 3
   },
   "file_extension": ".py",
   "mimetype": "text/x-python",
   "name": "python",
   "nbconvert_exporter": "python",
   "pygments_lexer": "ipython3",
   "version": "3.8.12"
  }
 },
 "nbformat": 4,
 "nbformat_minor": 4
}
